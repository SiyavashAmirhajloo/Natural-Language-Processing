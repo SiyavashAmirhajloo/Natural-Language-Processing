{
  "cells": [
    {
      "cell_type": "markdown",
      "metadata": {
        "id": "2Q6Sbj5f3M6_"
      },
      "source": [
        "# Import libraries\n"
      ]
    },
    {
      "cell_type": "code",
      "execution_count": 6,
      "metadata": {
        "id": "cdsdTwHJ2CGm"
      },
      "outputs": [],
      "source": [
        "import pandas as pd\n",
        "import numpy as np\n",
        "import zipfile\n",
        "import os\n",
        "from collections import Counter\n",
        "from itertools import chain\n",
        "\n",
        "import re\n",
        "import nltk\n",
        "from nltk.corpus import stopwords\n",
        "from nltk.stem import WordNetLemmatizer\n",
        "\n",
        "from sklearn.model_selection import train_test_split\n",
        "from sklearn.metrics import classification_report\n",
        "\n",
        "import torch\n",
        "from torch.nn.utils.rnn import pad_sequence\n",
        "import torch.nn as nn\n",
        "import torch.optim as optim\n",
        "from torch.utils.data import DataLoader, Dataset\n",
        "import torch.multiprocessing as mp\n",
        "\n",
        "import gensim.downloader as api\n",
        "\n",
        "# from google.colab import drive\n",
        "\n",
        "import pickle\n",
        "\n",
        "import matplotlib.pyplot as plt\n"
      ]
    },
    {
      "cell_type": "code",
      "execution_count": 7,
      "metadata": {},
      "outputs": [
        {
          "data": {
            "text/plain": [
              "'2.2.0'"
            ]
          },
          "execution_count": 7,
          "metadata": {},
          "output_type": "execute_result"
        }
      ],
      "source": [
        "torch.__version__"
      ]
    },
    {
      "cell_type": "markdown",
      "metadata": {
        "id": "mhlvYGdP3MLG"
      },
      "source": [
        "# Load the dataset\n"
      ]
    },
    {
      "cell_type": "code",
      "execution_count": 8,
      "metadata": {
        "colab": {
          "base_uri": "https://localhost:8080/"
        },
        "id": "ZgJOtcDlLCX0",
        "outputId": "912a2ffc-4f25-4762-f9d0-35c7e6b15e94"
      },
      "outputs": [],
      "source": [
        "# Mount Google Drive\n",
        "#drive.mount('/content/drive')\n",
        "\n"
      ]
    },
    {
      "cell_type": "code",
      "execution_count": 9,
      "metadata": {
        "id": "B97mXaSBMHWA"
      },
      "outputs": [],
      "source": [
        "# zip_file_path = 'D:\\isfahan_ university\\Simister 8\\NLP\\HW 3\\HW3-1403/sentiment140.zip'\n",
        "\n",
        "# unzip_dir = '/content/unzipped_files'\n",
        "# os.makedirs(unzip_dir, exist_ok=True)\n",
        "\n",
        "# with zipfile.ZipFile(zip_file_path, 'r') as zip_ref:\n",
        "#     zip_ref.extractall(unzip_dir)\n"
      ]
    },
    {
      "cell_type": "markdown",
      "metadata": {
        "id": "kLBHKCp33esn"
      },
      "source": [
        "# 1) Preprocessing\n",
        "\n"
      ]
    },
    {
      "cell_type": "code",
      "execution_count": 10,
      "metadata": {
        "id": "UKyVhaV5ibQf"
      },
      "outputs": [],
      "source": [
        "# Ensure GPU is used if available\n",
        "device = torch.device(\"cuda\" if torch.cuda.is_available() else \"cpu\")\n",
        "# Set the start method for multiprocessing\n",
        "mp.set_start_method('spawn', force=True)\n"
      ]
    },
    {
      "cell_type": "markdown",
      "metadata": {
        "id": "tDSikpYSic_r"
      },
      "source": [
        "## 1-1 Change the label of positive tweets to 1 and the label of negative tweets to 0."
      ]
    },
    {
      "cell_type": "code",
      "execution_count": 11,
      "metadata": {
        "colab": {
          "base_uri": "https://localhost:8080/"
        },
        "id": "bcQthTVG3UJr",
        "outputId": "d213683c-56f1-4d97-d43a-caa72e79e22d"
      },
      "outputs": [],
      "source": [
        "# Load the dataset in chunks\n",
        "chunk_size = 5000\n",
        "chunks = []\n",
        "for chunk in pd.read_csv('D:/isfahan_ university/Simister 8/NLP/HW 3/HW3-1403/sentiment140.csv', encoding='latin-1', chunksize=chunk_size):\n",
        "    chunk.columns = ['text', 'date', 'user', 'sentiment', 'query']\n",
        "    chunk = chunk[['text', 'sentiment']]\n",
        "    chunk['sentiment'] = chunk['sentiment'].replace({4: 1, 0: 0})\n",
        "    chunks.append(chunk)\n",
        "\n",
        "df = pd.concat(chunks)\n"
      ]
    },
    {
      "cell_type": "code",
      "execution_count": 12,
      "metadata": {
        "id": "d5yMYNNwMUFS"
      },
      "outputs": [],
      "source": [
        "# Use only 50% of the dataset\n",
        "df = df.sample(frac=0.5, random_state=42).reset_index(drop=True)\n"
      ]
    },
    {
      "cell_type": "markdown",
      "metadata": {
        "id": "Ses5ox543oRw"
      },
      "source": [
        "## 1-2 Replace URLs with 'URL' token, mentions with 'MENTION' token and hashtags with 'HASHTAG' token.\n"
      ]
    },
    {
      "cell_type": "markdown",
      "metadata": {
        "id": "SWWdTcu23uo8"
      },
      "source": [
        "## 1-3, 1-4, 1-5\n",
        "## Remove the punctuation marks.\n",
        "##  Token each tweet to its words.\n",
        "##  Perform the lemmatization operation.\n"
      ]
    },
    {
      "cell_type": "code",
      "execution_count": 13,
      "metadata": {
        "colab": {
          "base_uri": "https://localhost:8080/"
        },
        "id": "HkGDaCJQwqKc",
        "outputId": "42751a87-9974-4ff2-f980-c6a7d174cb7f"
      },
      "outputs": [
        {
          "name": "stderr",
          "output_type": "stream",
          "text": [
            "[nltk_data] Downloading package punkt to\n",
            "[nltk_data]     C:\\Users\\aminm\\AppData\\Roaming\\nltk_data...\n",
            "[nltk_data]   Package punkt is already up-to-date!\n",
            "[nltk_data] Downloading package wordnet to\n",
            "[nltk_data]     C:\\Users\\aminm\\AppData\\Roaming\\nltk_data...\n",
            "[nltk_data]   Package wordnet is already up-to-date!\n"
          ]
        }
      ],
      "source": [
        "nltk.download('punkt')\n",
        "nltk.download('wordnet')\n",
        "lemmatizer = WordNetLemmatizer()\n"
      ]
    },
    {
      "cell_type": "code",
      "execution_count": 14,
      "metadata": {
        "id": "FZtNyJl53tjZ"
      },
      "outputs": [],
      "source": [
        "def preprocess_text(text):\n",
        "    text = re.sub(r\"http\\S+|www\\S+|https\\S+\", 'URL', text, flags=re.MULTILINE)\n",
        "    text = re.sub(r'\\@\\w+', 'MENTION', text)\n",
        "    text = re.sub(r'\\#\\w+', 'HASHTAG', text)\n",
        "    text = re.sub(r'[^\\w\\s]', '', text)  # Remove punctuation\n",
        "    return nltk.word_tokenize(text)\n"
      ]
    },
    {
      "cell_type": "code",
      "execution_count": 15,
      "metadata": {
        "id": "pBjfx03Lu92U"
      },
      "outputs": [],
      "source": [
        "def preprocess_chunk(chunk):\n",
        "    chunk['text'] = chunk['text'].apply(preprocess_text)\n",
        "    chunk['text'] = chunk['text'].apply(lambda x: [lemmatizer.lemmatize(word) for word in x])\n",
        "    return chunk\n"
      ]
    },
    {
      "cell_type": "code",
      "execution_count": 16,
      "metadata": {
        "id": "MG9zFBgyvCO4"
      },
      "outputs": [
        {
          "name": "stderr",
          "output_type": "stream",
          "text": [
            "c:\\Users\\aminm\\anaconda3\\Lib\\site-packages\\numpy\\core\\fromnumeric.py:59: FutureWarning: 'DataFrame.swapaxes' is deprecated and will be removed in a future version. Please use 'DataFrame.transpose' instead.\n",
            "  return bound(*args, **kwds)\n"
          ]
        }
      ],
      "source": [
        "# Apply preprocessing in chunks\n",
        "processed_chunks = [preprocess_chunk(chunk) for chunk in np.array_split(df, len(df) // chunk_size)]\n",
        "df = pd.concat(processed_chunks)\n"
      ]
    },
    {
      "cell_type": "markdown",
      "metadata": {
        "id": "EG5HjXbI4Sh-"
      },
      "source": [
        "## 1-6 Display the first 20 tweets.\n"
      ]
    },
    {
      "cell_type": "code",
      "execution_count": 17,
      "metadata": {
        "colab": {
          "base_uri": "https://localhost:8080/"
        },
        "id": "g0v5mrmN4VYs",
        "outputId": "924e4de8-9552-4099-d729-94c730e9457c"
      },
      "outputs": [
        {
          "name": "stdout",
          "output_type": "stream",
          "text": [
            "                                                 text  sentiment\n",
            "0                  [MENTION, AHHH, I, HOPE, YOUR, OK]          0\n",
            "1   [MENTION, cool, i, have, no, tweet, apps, for,...          0\n",
            "2   [MENTION, i, know, just, family, drama, it, la...          0\n",
            "3   [School, email, wont, open, and, I, have, geog...          0\n",
            "4                            [upper, airway, problem]          0\n",
            "5       [Going, to, miss, Pastors, sermon, on, Faith]          0\n",
            "6          [on, lunchdj, should, come, eat, with, me]          1\n",
            "7   [MENTION, oh, why, are, you, feeling, like, that]          0\n",
            "8   [gahh, noopeyton, need, to, livethis, is, horr...          0\n",
            "9   [MENTION, thank, you, glad, you, like, it, The...          1\n",
            "10  [MENTION, Zach, make, me, pee, sitting, down, ...          1\n",
            "11    [to, sum, up, my, day, in, one, word, kackered]          1\n",
            "12               [MENTION, Great, mind, think, alike]          1\n",
            "13                         [Is, Poorly, and, in, bed]          0\n",
            "14  [MENTION, Oh, thats, really, great, Here, we, ...          1\n",
            "15  [MENTION, lol, calm, down, i, got, a, 30day, l...          1\n",
            "16  [im, feeling, quite, sleepy, today, wish, i, c...          1\n",
            "17  [MENTION, Yeah, Mathieu, totally, choked, in, ...          0\n",
            "18           [ugh, morning, off, to, a, rough, start]          0\n",
            "19                            [just, bit, my, tongue]          0\n"
          ]
        }
      ],
      "source": [
        "print(df.head(20))\n"
      ]
    },
    {
      "cell_type": "markdown",
      "metadata": {
        "id": "Y8-4eGNM4YRT"
      },
      "source": [
        "## 1-7 Consider 80% of the dataset for training and the remaining 20% for testing.\n"
      ]
    },
    {
      "cell_type": "code",
      "execution_count": 18,
      "metadata": {
        "id": "_qpICGKL4bjl"
      },
      "outputs": [],
      "source": [
        "train_df, test_df = train_test_split(df, test_size=0.2, random_state=42)\n"
      ]
    },
    {
      "cell_type": "code",
      "execution_count": 19,
      "metadata": {
        "colab": {
          "base_uri": "https://localhost:8080/"
        },
        "id": "or3ObcljicKN",
        "outputId": "5799ff5d-5bfa-4bf2-eabe-89159aa179f7"
      },
      "outputs": [
        {
          "name": "stdout",
          "output_type": "stream",
          "text": [
            "Training set shape: (640000, 2)\n",
            "Testing set shape: (160000, 2)\n"
          ]
        }
      ],
      "source": [
        "# Display the shapes of the datasets\n",
        "print(f\"Training set shape: {train_df.shape}\")\n",
        "print(f\"Testing set shape: {test_df.shape}\")\n",
        "\n",
        "# Save preprocessed data to CSV\n",
        "train_df.to_csv('train_data.csv', index=False)\n",
        "test_df.to_csv('test_data.csv', index=False)\n"
      ]
    },
    {
      "cell_type": "markdown",
      "metadata": {
        "id": "5xCvFt8q4pVD"
      },
      "source": [
        "# 2) Text Vectorization and Padding\n"
      ]
    },
    {
      "cell_type": "code",
      "execution_count": 20,
      "metadata": {
        "id": "Nv-y5FAl7UJx"
      },
      "outputs": [],
      "source": [
        "# Parameters\n",
        "hidden_dim = 200\n",
        "output_dim = 1\n",
        "batch_size = 512\n",
        "epochs = 5\n",
        "embedding_dim = 300\n"
      ]
    },
    {
      "cell_type": "code",
      "execution_count": 21,
      "metadata": {
        "id": "UaHPXNJI5yoI"
      },
      "outputs": [],
      "source": [
        "# Build vocabulary\n",
        "vocab = Counter(chain(*train_df['text']))\n",
        "vocab = {word: idx + 1 for idx, (word, _) in enumerate(vocab.items())}\n"
      ]
    },
    {
      "cell_type": "markdown",
      "metadata": {
        "id": "xS2erKee53gM"
      },
      "source": [
        "## 2-1, 2-2\n",
        "## Assign a unique number to each unique word\n",
        "## Pad sequences"
      ]
    },
    {
      "cell_type": "code",
      "execution_count": 22,
      "metadata": {
        "id": "ILMbgMOx9grk"
      },
      "outputs": [],
      "source": [
        "# Function to convert words to indices\n",
        "def text_to_sequence(text, vocab):\n",
        "    return [vocab.get(word, 0) for word in text]\n"
      ]
    },
    {
      "cell_type": "code",
      "execution_count": 23,
      "metadata": {
        "id": "IlvMchNkCcfn"
      },
      "outputs": [],
      "source": [
        "# Dataset class\n",
        "class TextDataset(Dataset):\n",
        "    def __init__(self, df, vocab):\n",
        "        self.texts = df['text'].apply(lambda x: text_to_sequence(x, vocab)).tolist()\n",
        "        self.labels = df['sentiment'].tolist()\n",
        "\n",
        "    def __len__(self):\n",
        "        return len(self.texts)\n",
        "\n",
        "    def __getitem__(self, idx):\n",
        "        return torch.tensor(self.texts[idx], dtype=torch.long), torch.tensor(self.labels[idx], dtype=torch.float32)\n"
      ]
    },
    {
      "cell_type": "code",
      "execution_count": 24,
      "metadata": {
        "id": "cPcX7LV_Cfp3"
      },
      "outputs": [],
      "source": [
        "# Custom collate function to pad sequences within each batch\n",
        "def collate_fn(batch):\n",
        "    texts, labels = zip(*batch)\n",
        "    texts_padded = pad_sequence(texts, batch_first=True, padding_value=0)\n",
        "    labels = torch.tensor(labels, dtype=torch.float32)\n",
        "    return texts_padded.to(device), labels.to(device)\n"
      ]
    },
    {
      "cell_type": "code",
      "execution_count": 25,
      "metadata": {
        "id": "tHSBDZRWCkOs"
      },
      "outputs": [],
      "source": [
        "# Create Datasets\n",
        "train_dataset = TextDataset(train_df, vocab)\n",
        "test_dataset = TextDataset(test_df, vocab)\n",
        "\n",
        "# Create DataLoaders with custom collate function\n",
        "train_loader = DataLoader(train_dataset, batch_size=batch_size, shuffle=True, collate_fn=collate_fn, pin_memory=True)\n",
        "test_loader = DataLoader(test_dataset, batch_size=batch_size, shuffle=False, collate_fn=collate_fn, pin_memory=True)\n"
      ]
    },
    {
      "cell_type": "markdown",
      "metadata": {
        "id": "yc9HNCFS6lbE"
      },
      "source": [
        "# 3) Word Embedding"
      ]
    },
    {
      "cell_type": "code",
      "execution_count": 26,
      "metadata": {
        "id": "y9y0SMhf2ODM"
      },
      "outputs": [],
      "source": [
        "# Load Google News Word2Vec model\n",
        "w2v = api.load('word2vec-google-news-300')\n"
      ]
    },
    {
      "cell_type": "code",
      "execution_count": 27,
      "metadata": {
        "id": "89eP0QHX626K"
      },
      "outputs": [],
      "source": [
        "# Initialize the embedding matrix\n",
        "embedding_matrix = np.zeros((len(vocab) + 1, embedding_dim))\n",
        "\n",
        "for word, idx in vocab.items():\n",
        "    if word in w2v:\n",
        "        embedding_matrix[idx] = w2v[word]\n",
        "    else:\n",
        "        # Initialize a random vector if the word is not in Word2Vec\n",
        "        embedding_matrix[idx] = np.random.normal(size=(embedding_dim,))\n",
        "\n",
        "# Convert embedding matrix to a tensor\n",
        "embedding_matrix = torch.tensor(embedding_matrix, dtype=torch.float32).to(device)\n"
      ]
    },
    {
      "cell_type": "markdown",
      "metadata": {
        "id": "DHi9wpj-676g"
      },
      "source": [
        "# 4) Define the RNN model, Training and Testing"
      ]
    },
    {
      "cell_type": "code",
      "execution_count": 28,
      "metadata": {
        "id": "3jlOmg5_2apC"
      },
      "outputs": [],
      "source": [
        "class RNNModel(nn.Module):\n",
        "    def __init__(self, vocab_size, embedding_dim, embedding_matrix, hidden_dim, output_dim):\n",
        "        super(RNNModel, self).__init__()\n",
        "        self.embedding = nn.Embedding.from_pretrained(embedding_matrix, freeze=False)\n",
        "        self.rnn = nn.RNN(embedding_dim, hidden_dim, batch_first=True)\n",
        "        self.fc = nn.Linear(hidden_dim, output_dim)\n",
        "        self.sigmoid = nn.Sigmoid()\n",
        "\n",
        "    def forward(self, x):\n",
        "        embedded = self.embedding(x)\n",
        "        output, hidden = self.rnn(embedded)\n",
        "        hidden = hidden[-1]\n",
        "        output = self.fc(hidden)\n",
        "        return self.sigmoid(output)\n"
      ]
    },
    {
      "cell_type": "markdown",
      "metadata": {
        "id": "dEaEchOA7PWE"
      },
      "source": [
        "## 4-1"
      ]
    },
    {
      "cell_type": "code",
      "execution_count": 29,
      "metadata": {
        "colab": {
          "base_uri": "https://localhost:8080/"
        },
        "id": "a1BL0_cK7a5s",
        "outputId": "b0c43c39-3148-4fa8-86bd-ec34a31d78f5"
      },
      "outputs": [
        {
          "name": "stderr",
          "output_type": "stream",
          "text": [
            "c:\\Users\\aminm\\anaconda3\\Lib\\site-packages\\torch\\cuda\\amp\\grad_scaler.py:126: UserWarning: torch.cuda.amp.GradScaler is enabled, but CUDA is not available.  Disabling.\n",
            "  warnings.warn(\n"
          ]
        }
      ],
      "source": [
        "# Initialize the model, criterion, and optimizer\n",
        "model = RNNModel(len(vocab) + 1, embedding_dim, embedding_matrix, hidden_dim, output_dim).to(device)\n",
        "criterion = nn.BCELoss()\n",
        "optimizer = optim.Adam(model.parameters())\n",
        "\n",
        "# Mixed precision training\n",
        "scaler = torch.cuda.amp.GradScaler()\n"
      ]
    },
    {
      "cell_type": "code",
      "execution_count": 30,
      "metadata": {
        "colab": {
          "base_uri": "https://localhost:8080/"
        },
        "id": "6SqaQYic7GHr",
        "outputId": "ca64d183-7841-4b45-b755-a7c526cc1cf6"
      },
      "outputs": [
        {
          "name": "stderr",
          "output_type": "stream",
          "text": [
            "c:\\Users\\aminm\\anaconda3\\Lib\\site-packages\\torch\\amp\\autocast_mode.py:250: UserWarning: User provided device_type of 'cuda', but CUDA is not available. Disabling\n",
            "  warnings.warn(\n"
          ]
        },
        {
          "name": "stdout",
          "output_type": "stream",
          "text": [
            "Epoch 1, Loss: 0.46487072269916535\n",
            "Epoch 2, Loss: 0.3758363874435425\n",
            "Epoch 3, Loss: 0.3138071233868599\n",
            "Epoch 4, Loss: 0.25167330372333524\n",
            "Epoch 5, Loss: 0.20004773244857788\n"
          ]
        }
      ],
      "source": [
        "train_losses = []\n",
        "\n",
        "# Training loop\n",
        "for epoch in range(epochs):\n",
        "    model.train()\n",
        "    epoch_loss = 0\n",
        "    for texts, labels in train_loader:\n",
        "        optimizer.zero_grad()\n",
        "        with torch.cuda.amp.autocast():  # Mixed precision\n",
        "            predictions = model(texts).squeeze()\n",
        "            loss = criterion(predictions, labels)\n",
        "        scaler.scale(loss).backward()\n",
        "        scaler.step(optimizer)\n",
        "        scaler.update()\n",
        "        epoch_loss += loss.item()\n",
        "\n",
        "    train_losses.append(epoch_loss)\n",
        "    print(f'Epoch {epoch+1}, Loss: {epoch_loss/len(train_loader)}')\n"
      ]
    },
    {
      "cell_type": "code",
      "execution_count": 31,
      "metadata": {
        "colab": {
          "base_uri": "https://localhost:8080/",
          "height": 1000
        },
        "id": "OxolgG1lTRf_",
        "outputId": "8e5f82c4-73e7-40a6-cbee-9d7e97a8bb1d"
      },
      "outputs": [
        {
          "data": {
            "image/png": "[encoded data removed]",
            "text/plain": [
              "<Figure size 1000x500 with 1 Axes>"
            ]
          },
          "metadata": {},
          "output_type": "display_data"
        }
      ],
      "source": [
        "# Plot training loss\n",
        "plt.figure(figsize=(10, 5))\n",
        "plt.plot(range(1, epochs + 1), train_losses, marker='o')\n",
        "plt.title('Training Loss Over Epochs')\n",
        "plt.xlabel('Epoch')\n",
        "plt.ylabel('Loss')\n",
        "plt.xticks(range(1, epochs + 1))\n",
        "plt.grid(True)\n",
        "plt.show()\n"
      ]
    },
    {
      "cell_type": "code",
      "execution_count": 32,
      "metadata": {
        "id": "W4RMpHOT7g5R"
      },
      "outputs": [],
      "source": [
        "# Save the model\n",
        "torch.save(model.state_dict(), 'rnn_model.pth')\n"
      ]
    },
    {
      "cell_type": "markdown",
      "metadata": {
        "id": "dxwzCxAA7qTk"
      },
      "source": [
        "## 4-2 Evaluation\n"
      ]
    },
    {
      "cell_type": "code",
      "execution_count": 33,
      "metadata": {
        "colab": {
          "base_uri": "https://localhost:8080/"
        },
        "id": "o3ZsWs4c2c8D",
        "outputId": "1dc31060-acd0-4f00-8790-daa5341d4301"
      },
      "outputs": [
        {
          "name": "stdout",
          "output_type": "stream",
          "text": [
            "Test Loss: 0.5507221936989135\n"
          ]
        }
      ],
      "source": [
        "model.eval()\n",
        "test_loss = 0\n",
        "predictions = []\n",
        "with torch.no_grad():\n",
        "    for batch in test_loader:\n",
        "        texts, labels = batch\n",
        "        preds = model(texts).squeeze()\n",
        "        loss = criterion(preds, labels)\n",
        "        test_loss += loss.item()\n",
        "        predictions.extend((preds > 0.5).int().tolist())\n",
        "\n",
        "print(f\"Test Loss: {test_loss/len(test_loader)}\")\n"
      ]
    },
    {
      "cell_type": "code",
      "execution_count": 34,
      "metadata": {
        "colab": {
          "base_uri": "https://localhost:8080/"
        },
        "id": "nB9fJ-qk72BM",
        "outputId": "62558175-5d38-45fc-d0d8-8b6a0281c1db"
      },
      "outputs": [
        {
          "name": "stdout",
          "output_type": "stream",
          "text": [
            "              precision    recall  f1-score   support\n",
            "\n",
            "    Negative       0.78      0.83      0.81     79976\n",
            "    Positive       0.82      0.77      0.80     80024\n",
            "\n",
            "    accuracy                           0.80    160000\n",
            "   macro avg       0.80      0.80      0.80    160000\n",
            "weighted avg       0.80      0.80      0.80    160000\n",
            "\n"
          ]
        }
      ],
      "source": [
        "# Generate a classification report\n",
        "test_labels_list = [label.item() for _, label in test_dataset]\n",
        "print(classification_report(test_labels_list, predictions, target_names=['Negative', 'Positive']))\n"
      ]
    }
  ],
  "metadata": {
    "accelerator": "GPU",
    "colab": {
      "gpuType": "T4",
      "provenance": [],
      "toc_visible": true
    },
    "kernelspec": {
      "display_name": "Python 3",
      "name": "python3"
    },
    "language_info": {
      "codemirror_mode": {
        "name": "ipython",
        "version": 3
      },
      "file_extension": ".py",
      "mimetype": "text/x-python",
      "name": "python",
      "nbconvert_exporter": "python",
      "pygments_lexer": "ipython3",
      "version": "3.11.7"
    }
  },
  "nbformat": 4,
  "nbformat_minor": 0
}
