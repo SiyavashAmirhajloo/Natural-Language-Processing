{
  "cells": [
    {
      "cell_type": "markdown",
      "metadata": {
        "id": "k2GmidNZFWy2"
      },
      "source": [
        "# **Wav2Vec2 Model Training and Evaluation in Persian Speech Recognition**\n",
        "This section imports necessary libraries for loading datasets, preprocessing audio, configuring and training a Wav2Vec2 model, and evaluating its performance in Persian speech recognition tasks."
      ]
    },
    {
      "cell_type": "markdown",
      "metadata": {
        "id": "RhJAaqvwFyDR"
      },
      "source": [
        "# Installing and Configuring Required Libraries\n",
        "\n",
        "This section installs and configures the necessary libraries for training and evaluating a Wav2Vec2 model for Persian speech recognition.\n"
      ]
    },
    {
      "cell_type": "code",
      "execution_count": 1,
      "metadata": {
        "colab": {
          "base_uri": "https://localhost:8080/"
        },
        "id": "6766vp8W0inM",
        "outputId": "6cf8ec28-a037-40cb-e48e-2a10d37f8142"
      },
      "outputs": [
        {
          "name": "stdout",
          "output_type": "stream",
          "text": [
            "Requirement already satisfied: hazm in /usr/local/lib/python3.10/dist-packages (0.10.0)\n",
            "Requirement already satisfied: fasttext-wheel<0.10.0,>=0.9.2 in /usr/local/lib/python3.10/dist-packages (from hazm) (0.9.2)\n",
            "Requirement already satisfied: flashtext<3.0,>=2.7 in /usr/local/lib/python3.10/dist-packages (from hazm) (2.7)\n",
            "Requirement already satisfied: gensim<5.0.0,>=4.3.1 in /usr/local/lib/python3.10/dist-packages (from hazm) (4.3.2)\n",
            "Requirement already satisfied: nltk<4.0.0,>=3.8.1 in /usr/local/lib/python3.10/dist-packages (from hazm) (3.8.1)\n",
            "Requirement already satisfied: numpy==1.24.3 in /usr/local/lib/python3.10/dist-packages (from hazm) (1.24.3)\n",
            "Requirement already satisfied: python-crfsuite<0.10.0,>=0.9.9 in /usr/local/lib/python3.10/dist-packages (from hazm) (0.9.10)\n",
            "Requirement already satisfied: scikit-learn<2.0.0,>=1.2.2 in /usr/local/lib/python3.10/dist-packages (from hazm) (1.2.2)\n",
            "Requirement already satisfied: pybind11>=2.2 in /usr/local/lib/python3.10/dist-packages (from fasttext-wheel<0.10.0,>=0.9.2->hazm) (2.13.1)\n",
            "Requirement already satisfied: setuptools>=0.7.0 in /usr/local/lib/python3.10/dist-packages (from fasttext-wheel<0.10.0,>=0.9.2->hazm) (67.7.2)\n",
            "Requirement already satisfied: scipy>=1.7.0 in /usr/local/lib/python3.10/dist-packages (from gensim<5.0.0,>=4.3.1->hazm) (1.11.4)\n",
            "Requirement already satisfied: smart-open>=1.8.1 in /usr/local/lib/python3.10/dist-packages (from gensim<5.0.0,>=4.3.1->hazm) (7.0.4)\n",
            "Requirement already satisfied: click in /usr/local/lib/python3.10/dist-packages (from nltk<4.0.0,>=3.8.1->hazm) (8.1.7)\n",
            "Requirement already satisfied: joblib in /usr/local/lib/python3.10/dist-packages (from nltk<4.0.0,>=3.8.1->hazm) (1.4.2)\n",
            "Requirement already satisfied: regex>=2021.8.3 in /usr/local/lib/python3.10/dist-packages (from nltk<4.0.0,>=3.8.1->hazm) (2024.5.15)\n",
            "Requirement already satisfied: tqdm in /usr/local/lib/python3.10/dist-packages (from nltk<4.0.0,>=3.8.1->hazm) (4.66.4)\n",
            "Requirement already satisfied: threadpoolctl>=2.0.0 in /usr/local/lib/python3.10/dist-packages (from scikit-learn<2.0.0,>=1.2.2->hazm) (3.5.0)\n",
            "Requirement already satisfied: wrapt in /usr/local/lib/python3.10/dist-packages (from smart-open>=1.8.1->gensim<5.0.0,>=4.3.1->hazm) (1.14.1)\n",
            "Found existing installation: pyarrow 14.0.1\n",
            "Uninstalling pyarrow-14.0.1:\n",
            "  Successfully uninstalled pyarrow-14.0.1\n",
            "Found existing installation: requests 2.31.0\n",
            "Uninstalling requests-2.31.0:\n",
            "  Successfully uninstalled requests-2.31.0\n",
            "\u001b[33mWARNING: Skipping datasets as it is not installed.\u001b[0m\u001b[33m\n",
            "\u001b[0mCollecting transformers==4.11.3\n",
            "  Using cached transformers-4.11.3-py3-none-any.whl (2.9 MB)\n",
            "Requirement already satisfied: filelock in /usr/local/lib/python3.10/dist-packages (from transformers==4.11.3) (3.15.4)\n",
            "Requirement already satisfied: huggingface-hub>=0.0.17 in /usr/local/lib/python3.10/dist-packages (from transformers==4.11.3) (0.23.4)\n",
            "Requirement already satisfied: numpy>=1.17 in /usr/local/lib/python3.10/dist-packages (from transformers==4.11.3) (1.24.3)\n",
            "Requirement already satisfied: packaging>=20.0 in /usr/local/lib/python3.10/dist-packages (from transformers==4.11.3) (24.1)\n",
            "Requirement already satisfied: pyyaml>=5.1 in /usr/local/lib/python3.10/dist-packages (from transformers==4.11.3) (6.0.1)\n",
            "Requirement already satisfied: regex!=2019.12.17 in /usr/local/lib/python3.10/dist-packages (from transformers==4.11.3) (2024.5.15)\n",
            "Requirement already satisfied: requests in /usr/local/lib/python3.10/dist-packages (from transformers==4.11.3) (2.31.0)\n",
            "Collecting sacremoses (from transformers==4.11.3)\n",
            "  Using cached sacremoses-0.1.1-py3-none-any.whl (897 kB)\n",
            "Collecting tokenizers<0.11,>=0.10.1 (from transformers==4.11.3)\n",
            "  Using cached tokenizers-0.10.3.tar.gz (212 kB)\n",
            "  Installing build dependencies ... \u001b[?25l\u001b[?25hdone\n",
            "  Getting requirements to build wheel ... \u001b[?25l\u001b[?25hdone\n",
            "  Preparing metadata (pyproject.toml) ... \u001b[?25l\u001b[?25hdone\n",
            "Requirement already satisfied: tqdm>=4.27 in /usr/local/lib/python3.10/dist-packages (from transformers==4.11.3) (4.66.4)\n",
            "Requirement already satisfied: fsspec>=2023.5.0 in /usr/local/lib/python3.10/dist-packages (from huggingface-hub>=0.0.17->transformers==4.11.3) (2023.6.0)\n",
            "Requirement already satisfied: typing-extensions>=3.7.4.3 in /usr/local/lib/python3.10/dist-packages (from huggingface-hub>=0.0.17->transformers==4.11.3) (4.12.2)\n",
            "Requirement already satisfied: charset-normalizer<4,>=2 in /usr/local/lib/python3.10/dist-packages (from requests->transformers==4.11.3) (3.3.2)\n",
            "Requirement already satisfied: idna<4,>=2.5 in /usr/local/lib/python3.10/dist-packages (from requests->transformers==4.11.3) (3.7)\n",
            "Requirement already satisfied: urllib3<3,>=1.21.1 in /usr/local/lib/python3.10/dist-packages (from requests->transformers==4.11.3) (2.0.7)\n",
            "Requirement already satisfied: certifi>=2017.4.17 in /usr/local/lib/python3.10/dist-packages (from requests->transformers==4.11.3) (2024.6.2)\n",
            "Requirement already satisfied: click in /usr/local/lib/python3.10/dist-packages (from sacremoses->transformers==4.11.3) (8.1.7)\n",
            "Requirement already satisfied: joblib in /usr/local/lib/python3.10/dist-packages (from sacremoses->transformers==4.11.3) (1.4.2)\n",
            "Building wheels for collected packages: tokenizers\n",
            "  \u001b[1;31merror\u001b[0m: \u001b[1msubprocess-exited-with-error\u001b[0m\n",
            "  \n",
            "  \u001b[31m×\u001b[0m \u001b[32mBuilding wheel for tokenizers \u001b[0m\u001b[1;32m(\u001b[0m\u001b[32mpyproject.toml\u001b[0m\u001b[1;32m)\u001b[0m did not run successfully.\n",
            "  \u001b[31m│\u001b[0m exit code: \u001b[1;36m1\u001b[0m\n",
            "  \u001b[31m╰─>\u001b[0m See above for output.\n",
            "  \n",
            "  \u001b[1;35mnote\u001b[0m: This error originates from a subprocess, and is likely not a problem with pip.\n",
            "  Building wheel for tokenizers (pyproject.toml) ... \u001b[?25l\u001b[?25herror\n",
            "\u001b[31m  ERROR: Failed building wheel for tokenizers\u001b[0m\u001b[31m\n",
            "\u001b[0mFailed to build tokenizers\n",
            "\u001b[31mERROR: Could not build wheels for tokenizers, which is required to install pyproject.toml-based projects\u001b[0m\u001b[31m\n",
            "\u001b[0mRequirement already satisfied: torch in /usr/local/lib/python3.10/dist-packages (2.3.0+cu121)\n",
            "Requirement already satisfied: torchaudio in /usr/local/lib/python3.10/dist-packages (2.3.0+cu121)\n",
            "Requirement already satisfied: filelock in /usr/local/lib/python3.10/dist-packages (from torch) (3.15.4)\n",
            "Requirement already satisfied: typing-extensions>=4.8.0 in /usr/local/lib/python3.10/dist-packages (from torch) (4.12.2)\n",
            "Requirement already satisfied: sympy in /usr/local/lib/python3.10/dist-packages (from torch) (1.12.1)\n",
            "Requirement already satisfied: networkx in /usr/local/lib/python3.10/dist-packages (from torch) (3.3)\n",
            "Requirement already satisfied: jinja2 in /usr/local/lib/python3.10/dist-packages (from torch) (3.1.4)\n",
            "Requirement already satisfied: fsspec in /usr/local/lib/python3.10/dist-packages (from torch) (2023.6.0)\n",
            "Collecting nvidia-cuda-nvrtc-cu12==12.1.105 (from torch)\n",
            "  Using cached nvidia_cuda_nvrtc_cu12-12.1.105-py3-none-manylinux1_x86_64.whl (23.7 MB)\n",
            "Collecting nvidia-cuda-runtime-cu12==12.1.105 (from torch)\n",
            "  Using cached nvidia_cuda_runtime_cu12-12.1.105-py3-none-manylinux1_x86_64.whl (823 kB)\n",
            "Collecting nvidia-cuda-cupti-cu12==12.1.105 (from torch)\n",
            "  Using cached nvidia_cuda_cupti_cu12-12.1.105-py3-none-manylinux1_x86_64.whl (14.1 MB)\n",
            "Collecting nvidia-cudnn-cu12==8.9.2.26 (from torch)\n",
            "  Using cached nvidia_cudnn_cu12-8.9.2.26-py3-none-manylinux1_x86_64.whl (731.7 MB)\n",
            "Collecting nvidia-cublas-cu12==12.1.3.1 (from torch)\n",
            "  Using cached nvidia_cublas_cu12-12.1.3.1-py3-none-manylinux1_x86_64.whl (410.6 MB)\n",
            "Collecting nvidia-cufft-cu12==11.0.2.54 (from torch)\n",
            "  Using cached nvidia_cufft_cu12-11.0.2.54-py3-none-manylinux1_x86_64.whl (121.6 MB)\n",
            "Collecting nvidia-curand-cu12==10.3.2.106 (from torch)\n",
            "  Using cached nvidia_curand_cu12-10.3.2.106-py3-none-manylinux1_x86_64.whl (56.5 MB)\n",
            "Collecting nvidia-cusolver-cu12==11.4.5.107 (from torch)\n",
            "  Using cached nvidia_cusolver_cu12-11.4.5.107-py3-none-manylinux1_x86_64.whl (124.2 MB)\n",
            "Collecting nvidia-cusparse-cu12==12.1.0.106 (from torch)\n",
            "  Using cached nvidia_cusparse_cu12-12.1.0.106-py3-none-manylinux1_x86_64.whl (196.0 MB)\n",
            "Collecting nvidia-nccl-cu12==2.20.5 (from torch)\n",
            "  Using cached nvidia_nccl_cu12-2.20.5-py3-none-manylinux2014_x86_64.whl (176.2 MB)\n",
            "Collecting nvidia-nvtx-cu12==12.1.105 (from torch)\n",
            "  Using cached nvidia_nvtx_cu12-12.1.105-py3-none-manylinux1_x86_64.whl (99 kB)\n",
            "Requirement already satisfied: triton==2.3.0 in /usr/local/lib/python3.10/dist-packages (from torch) (2.3.0)\n",
            "Collecting nvidia-nvjitlink-cu12 (from nvidia-cusolver-cu12==11.4.5.107->torch)\n",
            "  Downloading nvidia_nvjitlink_cu12-12.5.82-py3-none-manylinux2014_x86_64.whl (21.3 MB)\n",
            "\u001b[2K     \u001b[90m━━━━━━━━━━━━━━━━━━━━━━━━━━━━━━━━━━━━━━━━\u001b[0m \u001b[32m21.3/21.3 MB\u001b[0m \u001b[31m56.9 MB/s\u001b[0m eta \u001b[36m0:00:00\u001b[0m\n",
            "\u001b[?25hRequirement already satisfied: MarkupSafe>=2.0 in /usr/local/lib/python3.10/dist-packages (from jinja2->torch) (2.1.5)\n",
            "Requirement already satisfied: mpmath<1.4.0,>=1.1.0 in /usr/local/lib/python3.10/dist-packages (from sympy->torch) (1.3.0)\n",
            "Installing collected packages: nvidia-nvtx-cu12, nvidia-nvjitlink-cu12, nvidia-nccl-cu12, nvidia-curand-cu12, nvidia-cufft-cu12, nvidia-cuda-runtime-cu12, nvidia-cuda-nvrtc-cu12, nvidia-cuda-cupti-cu12, nvidia-cublas-cu12, nvidia-cusparse-cu12, nvidia-cudnn-cu12, nvidia-cusolver-cu12\n",
            "Successfully installed nvidia-cublas-cu12-12.1.3.1 nvidia-cuda-cupti-cu12-12.1.105 nvidia-cuda-nvrtc-cu12-12.1.105 nvidia-cuda-runtime-cu12-12.1.105 nvidia-cudnn-cu12-8.9.2.26 nvidia-cufft-cu12-11.0.2.54 nvidia-curand-cu12-10.3.2.106 nvidia-cusolver-cu12-11.4.5.107 nvidia-cusparse-cu12-12.1.0.106 nvidia-nccl-cu12-2.20.5 nvidia-nvjitlink-cu12-12.5.82 nvidia-nvtx-cu12-12.1.105\n",
            "Requirement already satisfied: librosa in /usr/local/lib/python3.10/dist-packages (0.10.2.post1)\n",
            "Requirement already satisfied: audioread>=2.1.9 in /usr/local/lib/python3.10/dist-packages (from librosa) (3.0.1)\n",
            "Requirement already satisfied: numpy!=1.22.0,!=1.22.1,!=1.22.2,>=1.20.3 in /usr/local/lib/python3.10/dist-packages (from librosa) (1.24.3)\n",
            "Requirement already satisfied: scipy>=1.2.0 in /usr/local/lib/python3.10/dist-packages (from librosa) (1.11.4)\n",
            "Requirement already satisfied: scikit-learn>=0.20.0 in /usr/local/lib/python3.10/dist-packages (from librosa) (1.2.2)\n",
            "Requirement already satisfied: joblib>=0.14 in /usr/local/lib/python3.10/dist-packages (from librosa) (1.4.2)\n",
            "Requirement already satisfied: decorator>=4.3.0 in /usr/local/lib/python3.10/dist-packages (from librosa) (4.4.2)\n",
            "Requirement already satisfied: numba>=0.51.0 in /usr/local/lib/python3.10/dist-packages (from librosa) (0.58.1)\n",
            "Requirement already satisfied: soundfile>=0.12.1 in /usr/local/lib/python3.10/dist-packages (from librosa) (0.12.1)\n",
            "Requirement already satisfied: pooch>=1.1 in /usr/local/lib/python3.10/dist-packages (from librosa) (1.8.2)\n",
            "Requirement already satisfied: soxr>=0.3.2 in /usr/local/lib/python3.10/dist-packages (from librosa) (0.3.7)\n",
            "Requirement already satisfied: typing-extensions>=4.1.1 in /usr/local/lib/python3.10/dist-packages (from librosa) (4.12.2)\n",
            "Requirement already satisfied: lazy-loader>=0.1 in /usr/local/lib/python3.10/dist-packages (from librosa) (0.4)\n",
            "Requirement already satisfied: msgpack>=1.0 in /usr/local/lib/python3.10/dist-packages (from librosa) (1.0.8)\n",
            "Requirement already satisfied: packaging in /usr/local/lib/python3.10/dist-packages (from lazy-loader>=0.1->librosa) (24.1)\n",
            "Requirement already satisfied: llvmlite<0.42,>=0.41.0dev0 in /usr/local/lib/python3.10/dist-packages (from numba>=0.51.0->librosa) (0.41.1)\n",
            "Requirement already satisfied: platformdirs>=2.5.0 in /usr/local/lib/python3.10/dist-packages (from pooch>=1.1->librosa) (4.2.2)\n",
            "Requirement already satisfied: requests>=2.19.0 in /usr/local/lib/python3.10/dist-packages (from pooch>=1.1->librosa) (2.31.0)\n",
            "Requirement already satisfied: threadpoolctl>=2.0.0 in /usr/local/lib/python3.10/dist-packages (from scikit-learn>=0.20.0->librosa) (3.5.0)\n",
            "Requirement already satisfied: cffi>=1.0 in /usr/local/lib/python3.10/dist-packages (from soundfile>=0.12.1->librosa) (1.16.0)\n",
            "Requirement already satisfied: pycparser in /usr/local/lib/python3.10/dist-packages (from cffi>=1.0->soundfile>=0.12.1->librosa) (2.22)\n",
            "Requirement already satisfied: charset-normalizer<4,>=2 in /usr/local/lib/python3.10/dist-packages (from requests>=2.19.0->pooch>=1.1->librosa) (3.3.2)\n",
            "Requirement already satisfied: idna<4,>=2.5 in /usr/local/lib/python3.10/dist-packages (from requests>=2.19.0->pooch>=1.1->librosa) (3.7)\n",
            "Requirement already satisfied: urllib3<3,>=1.21.1 in /usr/local/lib/python3.10/dist-packages (from requests>=2.19.0->pooch>=1.1->librosa) (2.0.7)\n",
            "Requirement already satisfied: certifi>=2017.4.17 in /usr/local/lib/python3.10/dist-packages (from requests>=2.19.0->pooch>=1.1->librosa) (2024.6.2)\n",
            "Collecting jiwer\n",
            "  Downloading jiwer-3.0.4-py3-none-any.whl (21 kB)\n",
            "Requirement already satisfied: click<9.0.0,>=8.1.3 in /usr/local/lib/python3.10/dist-packages (from jiwer) (8.1.7)\n",
            "Collecting rapidfuzz<4,>=3 (from jiwer)\n",
            "  Downloading rapidfuzz-3.9.4-cp310-cp310-manylinux_2_17_x86_64.manylinux2014_x86_64.whl (3.4 MB)\n",
            "\u001b[2K     \u001b[90m━━━━━━━━━━━━━━━━━━━━━━━━━━━━━━━━━━━━━━━━\u001b[0m \u001b[32m3.4/3.4 MB\u001b[0m \u001b[31m15.7 MB/s\u001b[0m eta \u001b[36m0:00:00\u001b[0m\n",
            "\u001b[?25hInstalling collected packages: rapidfuzz, jiwer\n",
            "Successfully installed jiwer-3.0.4 rapidfuzz-3.9.4\n",
            "Collecting accelerate\n",
            "  Downloading accelerate-0.32.0-py3-none-any.whl (314 kB)\n",
            "\u001b[2K     \u001b[90m━━━━━━━━━━━━━━━━━━━━━━━━━━━━━━━━━━━━━━━━\u001b[0m \u001b[32m314.0/314.0 kB\u001b[0m \u001b[31m6.6 MB/s\u001b[0m eta \u001b[36m0:00:00\u001b[0m\n",
            "\u001b[?25hRequirement already satisfied: numpy<2.0.0,>=1.17 in /usr/local/lib/python3.10/dist-packages (from accelerate) (1.24.3)\n",
            "Requirement already satisfied: packaging>=20.0 in /usr/local/lib/python3.10/dist-packages (from accelerate) (24.1)\n",
            "Requirement already satisfied: psutil in /usr/local/lib/python3.10/dist-packages (from accelerate) (5.9.5)\n",
            "Requirement already satisfied: pyyaml in /usr/local/lib/python3.10/dist-packages (from accelerate) (6.0.1)\n",
            "Requirement already satisfied: torch>=1.10.0 in /usr/local/lib/python3.10/dist-packages (from accelerate) (2.3.0+cu121)\n",
            "Requirement already satisfied: huggingface-hub in /usr/local/lib/python3.10/dist-packages (from accelerate) (0.23.4)\n",
            "Requirement already satisfied: safetensors>=0.3.1 in /usr/local/lib/python3.10/dist-packages (from accelerate) (0.4.3)\n",
            "Requirement already satisfied: filelock in /usr/local/lib/python3.10/dist-packages (from torch>=1.10.0->accelerate) (3.15.4)\n",
            "Requirement already satisfied: typing-extensions>=4.8.0 in /usr/local/lib/python3.10/dist-packages (from torch>=1.10.0->accelerate) (4.12.2)\n",
            "Requirement already satisfied: sympy in /usr/local/lib/python3.10/dist-packages (from torch>=1.10.0->accelerate) (1.12.1)\n",
            "Requirement already satisfied: networkx in /usr/local/lib/python3.10/dist-packages (from torch>=1.10.0->accelerate) (3.3)\n",
            "Requirement already satisfied: jinja2 in /usr/local/lib/python3.10/dist-packages (from torch>=1.10.0->accelerate) (3.1.4)\n",
            "Requirement already satisfied: fsspec in /usr/local/lib/python3.10/dist-packages (from torch>=1.10.0->accelerate) (2023.6.0)\n",
            "Requirement already satisfied: nvidia-cuda-nvrtc-cu12==12.1.105 in /usr/local/lib/python3.10/dist-packages (from torch>=1.10.0->accelerate) (12.1.105)\n",
            "Requirement already satisfied: nvidia-cuda-runtime-cu12==12.1.105 in /usr/local/lib/python3.10/dist-packages (from torch>=1.10.0->accelerate) (12.1.105)\n",
            "Requirement already satisfied: nvidia-cuda-cupti-cu12==12.1.105 in /usr/local/lib/python3.10/dist-packages (from torch>=1.10.0->accelerate) (12.1.105)\n",
            "Requirement already satisfied: nvidia-cudnn-cu12==8.9.2.26 in /usr/local/lib/python3.10/dist-packages (from torch>=1.10.0->accelerate) (8.9.2.26)\n",
            "Requirement already satisfied: nvidia-cublas-cu12==12.1.3.1 in /usr/local/lib/python3.10/dist-packages (from torch>=1.10.0->accelerate) (12.1.3.1)\n",
            "Requirement already satisfied: nvidia-cufft-cu12==11.0.2.54 in /usr/local/lib/python3.10/dist-packages (from torch>=1.10.0->accelerate) (11.0.2.54)\n",
            "Requirement already satisfied: nvidia-curand-cu12==10.3.2.106 in /usr/local/lib/python3.10/dist-packages (from torch>=1.10.0->accelerate) (10.3.2.106)\n",
            "Requirement already satisfied: nvidia-cusolver-cu12==11.4.5.107 in /usr/local/lib/python3.10/dist-packages (from torch>=1.10.0->accelerate) (11.4.5.107)\n",
            "Requirement already satisfied: nvidia-cusparse-cu12==12.1.0.106 in /usr/local/lib/python3.10/dist-packages (from torch>=1.10.0->accelerate) (12.1.0.106)\n",
            "Requirement already satisfied: nvidia-nccl-cu12==2.20.5 in /usr/local/lib/python3.10/dist-packages (from torch>=1.10.0->accelerate) (2.20.5)\n",
            "Requirement already satisfied: nvidia-nvtx-cu12==12.1.105 in /usr/local/lib/python3.10/dist-packages (from torch>=1.10.0->accelerate) (12.1.105)\n",
            "Requirement already satisfied: triton==2.3.0 in /usr/local/lib/python3.10/dist-packages (from torch>=1.10.0->accelerate) (2.3.0)\n",
            "Requirement already satisfied: nvidia-nvjitlink-cu12 in /usr/local/lib/python3.10/dist-packages (from nvidia-cusolver-cu12==11.4.5.107->torch>=1.10.0->accelerate) (12.5.82)\n",
            "Requirement already satisfied: requests in /usr/local/lib/python3.10/dist-packages (from huggingface-hub->accelerate) (2.31.0)\n",
            "Requirement already satisfied: tqdm>=4.42.1 in /usr/local/lib/python3.10/dist-packages (from huggingface-hub->accelerate) (4.66.4)\n",
            "Requirement already satisfied: MarkupSafe>=2.0 in /usr/local/lib/python3.10/dist-packages (from jinja2->torch>=1.10.0->accelerate) (2.1.5)\n",
            "Requirement already satisfied: charset-normalizer<4,>=2 in /usr/local/lib/python3.10/dist-packages (from requests->huggingface-hub->accelerate) (3.3.2)\n",
            "Requirement already satisfied: idna<4,>=2.5 in /usr/local/lib/python3.10/dist-packages (from requests->huggingface-hub->accelerate) (3.7)\n",
            "Requirement already satisfied: urllib3<3,>=1.21.1 in /usr/local/lib/python3.10/dist-packages (from requests->huggingface-hub->accelerate) (2.0.7)\n",
            "Requirement already satisfied: certifi>=2017.4.17 in /usr/local/lib/python3.10/dist-packages (from requests->huggingface-hub->accelerate) (2024.6.2)\n",
            "Requirement already satisfied: mpmath<1.4.0,>=1.1.0 in /usr/local/lib/python3.10/dist-packages (from sympy->torch>=1.10.0->accelerate) (1.3.0)\n",
            "Installing collected packages: accelerate\n",
            "Successfully installed accelerate-0.32.0\n",
            "Collecting Num2fawords\n",
            "  Downloading num2fawords-1.1-py3-none-any.whl (9.8 kB)\n",
            "Installing collected packages: Num2fawords\n",
            "Successfully installed Num2fawords-1.1\n"
          ]
        }
      ],
      "source": [
        "!pip install hazm\n",
        "!pip uninstall -y pyarrow requests datasets\n",
        "!pip install pyarrow==14.0.1 requests==2.31.0 datasets>=1.18.3\n",
        "!pip install transformers==4.11.3\n",
        "!pip install torch torchaudio\n",
        "!pip install librosa\n",
        "!pip install jiwer\n",
        "!pip install accelerate\n",
        "!pip install Num2fawords\n"
      ]
    },
    {
      "cell_type": "markdown",
      "metadata": {
        "id": "-6BcnAWhGB6Y"
      },
      "source": [
        "## Logging into Hugging Face CLI\n",
        "\n",
        "This command logs you into the Hugging Face CLI, allowing you to access and manage Hugging Face resources, such as datasets and models, which are necessary for training and evaluating a Wav2Vec2 model for Persian speech recognition.\n"
      ]
    },
    {
      "cell_type": "code",
      "execution_count": 2,
      "metadata": {
        "colab": {
          "base_uri": "https://localhost:8080/"
        },
        "id": "pT_EBRGI06QN",
        "outputId": "accb6df3-ed42-4473-a729-a6662ece73b5"
      },
      "outputs": [
        {
          "name": "stdout",
          "output_type": "stream",
          "text": [
            "\n",
            "    _|    _|  _|    _|    _|_|_|    _|_|_|  _|_|_|  _|      _|    _|_|_|      _|_|_|_|    _|_|      _|_|_|  _|_|_|_|\n",
            "    _|    _|  _|    _|  _|        _|          _|    _|_|    _|  _|            _|        _|    _|  _|        _|\n",
            "    _|_|_|_|  _|    _|  _|  _|_|  _|  _|_|    _|    _|  _|  _|  _|  _|_|      _|_|_|    _|_|_|_|  _|        _|_|_|\n",
            "    _|    _|  _|    _|  _|    _|  _|    _|    _|    _|    _|_|  _|    _|      _|        _|    _|  _|        _|\n",
            "    _|    _|    _|_|      _|_|_|    _|_|_|  _|_|_|  _|      _|    _|_|_|      _|        _|    _|    _|_|_|  _|_|_|_|\n",
            "\n",
            "    To login, `huggingface_hub` requires a token generated from https://huggingface.co/settings/tokens .\n",
            "Enter your token (input will not be visible): \n",
            "Add token as git credential? (Y/n) y\n",
            "Token is valid (permission: write).\n",
            "\u001b[1m\u001b[31mCannot authenticate through git-credential as no helper is defined on your machine.\n",
            "You might have to re-authenticate when pushing to the Hugging Face Hub.\n",
            "Run the following command in your terminal in case you want to set the 'store' credential helper as default.\n",
            "\n",
            "git config --global credential.helper store\n",
            "\n",
            "Read https://git-scm.com/book/en/v2/Git-Tools-Credential-Storage for more details.\u001b[0m\n",
            "Token has not been saved to git credential helper.\n",
            "Your token has been saved to /root/.cache/huggingface/token\n",
            "Login successful\n"
          ]
        }
      ],
      "source": [
        "!huggingface-cli login\n"
      ]
    },
    {
      "cell_type": "markdown",
      "metadata": {
        "id": "W6CaIelNGjph"
      },
      "source": [
        "# Importing Libraries\n",
        "\n",
        "This section imports the necessary libraries for loading datasets, preprocessing audio data, and configuring and training a Wav2Vec2 model for Persian speech recognition.\n"
      ]
    },
    {
      "cell_type": "code",
      "execution_count": 3,
      "metadata": {
        "id": "nTI8uKzAC6rl"
      },
      "outputs": [],
      "source": [
        "import torch\n",
        "from datasets import load_dataset, load_metric, Audio, ClassLabel\n",
        "import random\n",
        "import pandas as pd\n",
        "from IPython.display import display, HTML\n",
        "import re\n",
        "from hazm import Normalizer\n",
        "import torchaudio\n",
        "import time\n",
        "import torch.multiprocessing as mp\n",
        "import IPython.display as ipd\n",
        "import numpy as np\n",
        "from transformers import (\n",
        "    Wav2Vec2Processor, Wav2Vec2FeatureExtractor, Wav2Vec2ForCTC,\n",
        "    TrainingArguments, Trainer, AdamW, get_linear_schedule_with_warmup,\n",
        "    Wav2Vec2CTCTokenizer,\n",
        ")\n",
        "from dataclasses import dataclass, field\n",
        "from typing import Any, Dict, List, Optional, Union\n"
      ]
    },
    {
      "cell_type": "markdown",
      "metadata": {
        "id": "GqbPivWgGxID"
      },
      "source": [
        "# Setting Up Device for Model Training\n",
        "\n",
        "This section checks for the availability of a GPU and sets the device accordingly to either CUDA (if a GPU is available) or CPU, ensuring efficient model training and evaluation.\n"
      ]
    },
    {
      "cell_type": "code",
      "execution_count": 4,
      "metadata": {
        "colab": {
          "base_uri": "https://localhost:8080/"
        },
        "id": "k5unVXWSp3Du",
        "outputId": "b722aba7-4ede-4056-9524-67794cc78869"
      },
      "outputs": [
        {
          "name": "stdout",
          "output_type": "stream",
          "text": [
            "Using device: cuda\n"
          ]
        }
      ],
      "source": [
        "device = torch.device(\"cuda\" if torch.cuda.is_available() else \"cpu\")\n",
        "print(f\"Using device: {device}\")\n"
      ]
    },
    {
      "cell_type": "markdown",
      "metadata": {
        "id": "pPwh6JtNG-QJ"
      },
      "source": [
        "# Loading Common Voice Dataset\n",
        "\n",
        "This section loads the Persian (fa) split of the Common Voice dataset for both training and testing, using the `datasets` library.\n"
      ]
    },
    {
      "cell_type": "code",
      "execution_count": 46,
      "metadata": {
        "id": "ddz7aiqd4XrG"
      },
      "outputs": [],
      "source": [
        "common_voice_train = load_dataset(\"mozilla-foundation/common_voice_6_1\", \"fa\",trust_remote_code=True, split=\"train+validation\")\n",
        "common_voice_test = load_dataset(\"mozilla-foundation/common_voice_6_1\", \"fa\",trust_remote_code=True, split=\"test\")\n",
        "\n",
        "# common_voice_train = load_dataset(\"mozilla-foundation/common_voice_6_1\", \"fa\",trust_remote_code=True, split=\"train[:1%]\")\n",
        "# common_voice_test = load_dataset(\"mozilla-foundation/common_voice_6_1\", \"fa\",trust_remote_code=True, split=\"test[:1%]\")\n"
      ]
    },
    {
      "cell_type": "markdown",
      "metadata": {
        "id": "XoDHR7naHJPJ"
      },
      "source": [
        "# Preparing Common Voice Dataset for Training\n",
        "\n",
        "This section preprocesses the Common Voice dataset by removing unnecessary columns to streamline training and testing processes.\n"
      ]
    },
    {
      "cell_type": "code",
      "execution_count": 47,
      "metadata": {
        "id": "d2BzyXCxZR3O"
      },
      "outputs": [],
      "source": [
        "common_voice_train = common_voice_train.remove_columns([\"accent\", \"age\", \"client_id\", \"down_votes\", \"gender\", \"locale\", \"segment\", \"up_votes\"])\n",
        "common_voice_test = common_voice_test.remove_columns([\"accent\", \"age\", \"client_id\", \"down_votes\", \"gender\", \"locale\", \"segment\", \"up_votes\"])\n"
      ]
    },
    {
      "cell_type": "code",
      "execution_count": 48,
      "metadata": {
        "id": "IbK9fxT2ZZHl"
      },
      "outputs": [],
      "source": [
        "def show_random_elements(dataset, num_examples=10):\n",
        "    assert num_examples <= len(dataset), \"Can't pick more elements than there are in the dataset.\"\n",
        "    picks = []\n",
        "    for _ in range(num_examples):\n",
        "        pick = random.randint(0, len(dataset)-1)\n",
        "        while pick in picks:\n",
        "            pick = random.randint(0, len(dataset)-1)\n",
        "        picks.append(pick)\n",
        "\n",
        "    df = pd.DataFrame(dataset[picks])\n",
        "    display(HTML(df.to_html()))\n"
      ]
    },
    {
      "cell_type": "code",
      "execution_count": 49,
      "metadata": {
        "colab": {
          "base_uri": "https://localhost:8080/",
          "height": 363
        },
        "id": "EMZykbMuZjNX",
        "outputId": "147b4ec2-2ab7-44cf-b778-f4878bbb5648"
      },
      "outputs": [
        {
          "data": {
            "text/html": [
              "<table border=\"1\" class=\"dataframe\">\n",
              "  <thead>\n",
              "    <tr style=\"text-align: right;\">\n",
              "      <th></th>\n",
              "      <th>sentence</th>\n",
              "    </tr>\n",
              "  </thead>\n",
              "  <tbody>\n",
              "    <tr>\n",
              "      <th>0</th>\n",
              "      <td>پنجاه و هفت، پنجاه و هشت، پنجاه و نه.</td>\n",
              "    </tr>\n",
              "    <tr>\n",
              "      <th>1</th>\n",
              "      <td>او اینجا در تعطیلات است.</td>\n",
              "    </tr>\n",
              "    <tr>\n",
              "      <th>2</th>\n",
              "      <td>چطور ميتونم راحت باشم؟</td>\n",
              "    </tr>\n",
              "    <tr>\n",
              "      <th>3</th>\n",
              "      <td>از این گوش میگیره از اون گوش در میکنه</td>\n",
              "    </tr>\n",
              "    <tr>\n",
              "      <th>4</th>\n",
              "      <td>برنشست</td>\n",
              "    </tr>\n",
              "    <tr>\n",
              "      <th>5</th>\n",
              "      <td>برای دیگران توضیح دهد</td>\n",
              "    </tr>\n",
              "    <tr>\n",
              "      <th>6</th>\n",
              "      <td>مصر</td>\n",
              "    </tr>\n",
              "    <tr>\n",
              "      <th>7</th>\n",
              "      <td>این قطار مستقیم است؟</td>\n",
              "    </tr>\n",
              "    <tr>\n",
              "      <th>8</th>\n",
              "      <td>بیماری کم خونی داسی شکل</td>\n",
              "    </tr>\n",
              "    <tr>\n",
              "      <th>9</th>\n",
              "      <td>هیچ دستمالی دارید؟</td>\n",
              "    </tr>\n",
              "  </tbody>\n",
              "</table>"
            ],
            "text/plain": [
              "<IPython.core.display.HTML object>"
            ]
          },
          "metadata": {},
          "output_type": "display_data"
        }
      ],
      "source": [
        "show_random_elements(common_voice_train.remove_columns([\"path\", \"audio\"]), num_examples=10)\n"
      ]
    },
    {
      "cell_type": "code",
      "execution_count": 50,
      "metadata": {
        "colab": {
          "base_uri": "https://localhost:8080/",
          "height": 81,
          "referenced_widgets": [
            "2a199693ef664cbe8cce0613c1b51b67",
            "78bfd56b88844074bf028dfc564821cb",
            "27dd39173ac54fa384259f03881d592f",
            "3c47494183a9479aaf26d8158d9ab9c0",
            "64c511f8f7334793a204b1db0f79093a",
            "de78f346485948ebbcdfd3a559ac36c9",
            "856c749d7d2240178621f5e1b18ec8ce",
            "28e472c06eee466a87ad94caf18c2105",
            "deece1d971bb4c9ba8bfea49bda9cb04",
            "6d75d8c1a81045ce9cd6ed46d7322c2b",
            "462f92d5c8c14ab4a7863be3e4bdefb4",
            "e0b68bdfcc4645a387de0993ab1b7dd1",
            "923626776d964ed1abba5134bd4af9f4",
            "dc018f8403c54e81888f775a4e379204",
            "d7726769ca684b23a05fa2246ae7b78f",
            "cf412438a9b94987898e331e5703b36b",
            "413ead644a644571a520f2d442f42c7b",
            "c12593c5c5a9489a9081b7ce104a0b92",
            "e1c203143eb74e4bad52a977755d98ed",
            "92169ae0f3724dbcab4ac5d81a803244",
            "58f33f56c0cb421aacaf57975ff210f6",
            "f30f74d5073b4cb28d2e9ec96598a371"
          ]
        },
        "id": "dNP8EbSkZw7P",
        "outputId": "ca6b6874-4d8c-4670-f69e-e243f0f60e29"
      },
      "outputs": [
        {
          "data": {
            "application/vnd.jupyter.widget-view+json": {
              "model_id": "2a199693ef664cbe8cce0613c1b51b67",
              "version_major": 2,
              "version_minor": 0
            },
            "text/plain": [
              "Map:   0%|          | 0/12806 [00:00<?, ? examples/s]"
            ]
          },
          "metadata": {},
          "output_type": "display_data"
        },
        {
          "data": {
            "application/vnd.jupyter.widget-view+json": {
              "model_id": "e0b68bdfcc4645a387de0993ab1b7dd1",
              "version_major": 2,
              "version_minor": 0
            },
            "text/plain": [
              "Map:   0%|          | 0/5213 [00:00<?, ? examples/s]"
            ]
          },
          "metadata": {},
          "output_type": "display_data"
        }
      ],
      "source": [
        "normalizer = Normalizer()\n",
        "\n",
        "# Character mapping\n",
        "chars_to_mapping = {\n",
        "'ك': 'ک', 'دِ': 'د', 'بِ': 'ب', 'زِ': 'ز', 'ذِ': 'ذ', 'شِ': 'ش', 'سِ': 'س', 'ى': 'ی',\n",
        "'ي': 'ی', 'أ': 'ا', 'ؤ': 'و', \"ے\": \"ی\", \"ۀ\": \"ه\", \"ﭘ\": \"پ\", \"ﮐ\": \"ک\", \"ﯽ\": \"ی\",\n",
        "\"ﺎ\": \"ا\", \"ﺑ\": \"ب\", \"ﺘ\": \"ت\", \"ﺧ\": \"خ\", \"ﺩ\": \"د\", \"ﺱ\": \"س\", \"ﻀ\": \"ض\", \"ﻌ\": \"ع\",\n",
        "\"ﻟ\": \"ل\", \"ﻡ\": \"م\", \"ﻢ\": \"م\", \"ﻪ\": \"ه\", \"ﻮ\": \"و\", 'ﺍ': \"ا\", 'ة': \"ه\",\n",
        "'ﯾ': \"ی\", 'ﯿ': \"ی\", 'ﺒ': \"ب\", 'ﺖ': \"ت\", 'ﺪ': \"د\", 'ﺮ': \"ر\", 'ﺴ': \"س\", 'ﺷ': \"ش\",\n",
        "'ﺸ': \"ش\", 'ﻋ': \"ع\", 'ﻤ': \"م\", 'ﻥ': \"ن\", 'ﻧ': \"ن\", 'ﻭ': \"و\", 'ﺭ': \"ر\", \"ﮔ\": \"گ\",\n",
        "\"ها\": \"  ها\", \"ئ\": \"ی\",\n",
        "\"a\": \" ای \", \"b\": \" بی \", \"c\": \" سی \", \"d\": \" دی \", \"e\": \" ایی \", \"f\": \" اف \",\n",
        "\"g\": \" جی \", \"h\": \" اچ \", \"i\": \" آی \", \"j\": \" جی \", \"k\": \" کی \", \"l\": \" ال \",\n",
        "\"m\": \" ام \", \"n\": \" ان \", \"o\": \" او \", \"p\": \" پی \", \"q\": \" کیو \", \"r\": \" آر \",\n",
        "\"s\": \" اس \", \"t\": \" تی \", \"u\": \" یو \", \"v\": \" وی \", \"w\": \" دبلیو \", \"x\": \" اکس \",\n",
        "\"y\": \" وای \", \"z\": \" زد \",\n",
        "\"\\u200c\": \" \", \"\\u200d\": \" \", \"\\u200e\": \" \", \"\\u200f\": \" \", \"\\ufeff\": \" \",\n",
        "}\n",
        "\n",
        "chars_to_ignore = [\n",
        "    '!', '#', '�', \"'\", '’', '%', ':', ';', '-', '!', '.', '?', ',', '؟',\n",
        "    '!', '.', '?', ',', 'ٔ', '٬', 'ٔ', '؛', '(', ')', '،', '«', '»',\n",
        "    ';', ':', '”', '‘‘', '%', '‘', '=', '–', '…', '_', '‘', '‘', '„', 'ā', 'š'\n",
        "]\n",
        "\n",
        "\n",
        "def preprocess_text(text):\n",
        "    # Normalize Persian text\n",
        "    text = normalizer.normalize(text)\n",
        "\n",
        "    for char, replacement in chars_to_mapping.items():\n",
        "        text = text.replace(char, replacement)\n",
        "\n",
        "    # Remove special characters\n",
        "    text = re.sub('|'.join(map(re.escape, chars_to_ignore)), '', text)\n",
        "\n",
        "    return text\n",
        "\n",
        "\n",
        "# Apply preprocessing to the sampled datasets\n",
        "common_voice_train = common_voice_train.map(lambda batch: {\"sentence\": preprocess_text(batch[\"sentence\"])})\n",
        "common_voice_test = common_voice_test.map(lambda batch: {\"sentence\": preprocess_text(batch[\"sentence\"])})\n"
      ]
    },
    {
      "cell_type": "code",
      "execution_count": 51,
      "metadata": {
        "colab": {
          "base_uri": "https://localhost:8080/",
          "height": 363
        },
        "id": "uw0Enbw8fCOg",
        "outputId": "1bf205c5-c3d0-44d0-9de2-2c9741a9cb4c"
      },
      "outputs": [
        {
          "data": {
            "text/html": [
              "<table border=\"1\" class=\"dataframe\">\n",
              "  <thead>\n",
              "    <tr style=\"text-align: right;\">\n",
              "      <th></th>\n",
              "      <th>sentence</th>\n",
              "    </tr>\n",
              "  </thead>\n",
              "  <tbody>\n",
              "    <tr>\n",
              "      <th>0</th>\n",
              "      <td>او تمام امتحانات را با درخشش گذراند</td>\n",
              "    </tr>\n",
              "    <tr>\n",
              "      <th>1</th>\n",
              "      <td>شما به مقصد رسیدید</td>\n",
              "    </tr>\n",
              "    <tr>\n",
              "      <th>2</th>\n",
              "      <td>پسر  ها قبولش داشتند و می گفتند اگر فلانی بود جلسه بهتر می شد</td>\n",
              "    </tr>\n",
              "    <tr>\n",
              "      <th>3</th>\n",
              "      <td>من لثه متورم دارم</td>\n",
              "    </tr>\n",
              "    <tr>\n",
              "      <th>4</th>\n",
              "      <td>چیزی که فکر می کنید وقتی پیر شدید میشید</td>\n",
              "    </tr>\n",
              "    <tr>\n",
              "      <th>5</th>\n",
              "      <td>برو بابا دلت خوشه شوهرم کجا بود</td>\n",
              "    </tr>\n",
              "    <tr>\n",
              "      <th>6</th>\n",
              "      <td>یه مهمونی باکلاس باشه</td>\n",
              "    </tr>\n",
              "    <tr>\n",
              "      <th>7</th>\n",
              "      <td>این بخاطر تو و من هست</td>\n",
              "    </tr>\n",
              "    <tr>\n",
              "      <th>8</th>\n",
              "      <td>نظرت درباره دی جی چیست</td>\n",
              "    </tr>\n",
              "    <tr>\n",
              "      <th>9</th>\n",
              "      <td>آوا  های مشترک در تلگرام عضو شوید</td>\n",
              "    </tr>\n",
              "  </tbody>\n",
              "</table>"
            ],
            "text/plain": [
              "<IPython.core.display.HTML object>"
            ]
          },
          "metadata": {},
          "output_type": "display_data"
        }
      ],
      "source": [
        "show_random_elements(common_voice_train.remove_columns([\"path\",\"audio\"]))\n"
      ]
    },
    {
      "cell_type": "code",
      "execution_count": 52,
      "metadata": {
        "id": "Zs-w_29hfaFZ"
      },
      "outputs": [],
      "source": [
        "def extract_all_chars(batch):\n",
        "  all_text = \" \".join(batch[\"sentence\"])\n",
        "  vocab = list(set(all_text))\n",
        "  return {\"vocab\": [vocab], \"all_text\": [all_text]}\n"
      ]
    },
    {
      "cell_type": "code",
      "execution_count": 53,
      "metadata": {
        "colab": {
          "base_uri": "https://localhost:8080/",
          "height": 81,
          "referenced_widgets": [
            "95734de83ef04fb9a0d68293823552a6",
            "76ac873deaf64bcebc4013d1f765d60e",
            "b6e5a74037a34a2b8d3d98073d626f82",
            "21df38f745f54efb9dbfa82a7edf9b18",
            "f85d06c0bcbf44d7ae22c9ca7b4cb6a0",
            "be653c5506ab433398b39c21189874b5",
            "1ff08ac42c204570bf58a61562c2263a",
            "43557ccf6a404ed9a8adabcf1036445f",
            "414e35f8622f46df914fd9ad33cdcb41",
            "0fab361fbac34af0808ba7007da17972",
            "438daf160a294b4fa165fcdf740187ce",
            "eb6c12f4291546c58bbbb63964ee36f1",
            "86cf8dc0eea64aa0b2df2cfc1c0f2c0e",
            "463a8a26e33f4031b93fe6195bc39041",
            "c256ddcaf0b54f36adf62437005eea46",
            "74f621213cd845d69a440a9e46819045",
            "81373dd0990647a886736300c8a1bb6d",
            "56bef070908f46cba526d31ec334677a",
            "51da9460bb48434ebdb1eb04ee17189c",
            "44b541e529b140b882588e38b1d60619",
            "eae89e28f2264e588ae777e92e7e6d93",
            "456279464a9649468db10c39ec07a87e"
          ]
        },
        "id": "lYiyLzkifc_v",
        "outputId": "6af798c8-4e26-44fb-8cea-acf9274604dd"
      },
      "outputs": [
        {
          "data": {
            "application/vnd.jupyter.widget-view+json": {
              "model_id": "95734de83ef04fb9a0d68293823552a6",
              "version_major": 2,
              "version_minor": 0
            },
            "text/plain": [
              "Map:   0%|          | 0/12806 [00:00<?, ? examples/s]"
            ]
          },
          "metadata": {},
          "output_type": "display_data"
        },
        {
          "data": {
            "application/vnd.jupyter.widget-view+json": {
              "model_id": "eb6c12f4291546c58bbbb63964ee36f1",
              "version_major": 2,
              "version_minor": 0
            },
            "text/plain": [
              "Map:   0%|          | 0/5213 [00:00<?, ? examples/s]"
            ]
          },
          "metadata": {},
          "output_type": "display_data"
        }
      ],
      "source": [
        "vocab_train = common_voice_train.map(extract_all_chars, batched=True, batch_size=-1, keep_in_memory=True, remove_columns=common_voice_train.column_names)\n",
        "vocab_test = common_voice_test.map(extract_all_chars, batched=True, batch_size=-1, keep_in_memory=True, remove_columns=common_voice_test.column_names)\n"
      ]
    },
    {
      "cell_type": "code",
      "execution_count": 56,
      "metadata": {
        "id": "dfTsRObRfijH"
      },
      "outputs": [],
      "source": [
        "vocab_list = list(set(vocab_train[\"vocab\"][0]) | set(vocab_test[\"vocab\"][0]))\n"
      ]
    },
    {
      "cell_type": "code",
      "execution_count": 57,
      "metadata": {
        "colab": {
          "base_uri": "https://localhost:8080/"
        },
        "id": "qm865Tm4flP3",
        "outputId": "34bdf860-8051-405f-c3ca-28b8c73e54f0"
      },
      "outputs": [
        {
          "data": {
            "text/plain": [
              "{'ج': 0,\n",
              " ' ': 1,\n",
              " 'آ': 2,\n",
              " 'T': 3,\n",
              " '&': 4,\n",
              " 'غ': 5,\n",
              " 'ی': 6,\n",
              " 'ه': 7,\n",
              " 'F': 8,\n",
              " 'ژ': 9,\n",
              " 'H': 10,\n",
              " 'G': 11,\n",
              " 'ز': 12,\n",
              " 'ث': 13,\n",
              " 'K': 14,\n",
              " 'A': 15,\n",
              " 'E': 16,\n",
              " 'M': 17,\n",
              " 'S': 18,\n",
              " '\"': 19,\n",
              " 'I': 20,\n",
              " 'ا': 21,\n",
              " 'ل': 22,\n",
              " 'D': 23,\n",
              " 'ش': 24,\n",
              " 'ص': 25,\n",
              " 'Q': 26,\n",
              " 'ط': 27,\n",
              " 'س': 28,\n",
              " 'Z': 29,\n",
              " 'ض': 30,\n",
              " 'C': 31,\n",
              " 'م': 32,\n",
              " 'ب': 33,\n",
              " 'پ': 34,\n",
              " 'ر': 35,\n",
              " 'ت': 36,\n",
              " 'ح': 37,\n",
              " 'P': 38,\n",
              " 'د': 39,\n",
              " 'ع': 40,\n",
              " 'ذ': 41,\n",
              " 'ف': 42,\n",
              " 'B': 43,\n",
              " 'ظ': 44,\n",
              " 'ء': 45,\n",
              " 'ق': 46,\n",
              " 'چ': 47,\n",
              " 'خ': 48,\n",
              " 'و': 49,\n",
              " 'ن': 50,\n",
              " 'گ': 51,\n",
              " 'U': 52,\n",
              " 'ک': 53}"
            ]
          },
          "execution_count": 57,
          "metadata": {},
          "output_type": "execute_result"
        }
      ],
      "source": [
        "vocab_dict = {v: k for k, v in enumerate(vocab_list)}\n",
        "vocab_dict\n"
      ]
    },
    {
      "cell_type": "code",
      "execution_count": 58,
      "metadata": {
        "id": "aj-Oo3w0fpyh"
      },
      "outputs": [],
      "source": [
        "vocab_dict[\"|\"] = vocab_dict[\" \"]\n",
        "del vocab_dict[\" \"]\n"
      ]
    },
    {
      "cell_type": "code",
      "execution_count": 59,
      "metadata": {
        "colab": {
          "base_uri": "https://localhost:8080/"
        },
        "id": "5j8mH32nftOk",
        "outputId": "dca80353-ba4a-48d7-cb88-b17b15c30ad7"
      },
      "outputs": [
        {
          "data": {
            "text/plain": [
              "56"
            ]
          },
          "execution_count": 59,
          "metadata": {},
          "output_type": "execute_result"
        }
      ],
      "source": [
        "vocab_dict[\"[UNK]\"] = len(vocab_dict)\n",
        "vocab_dict[\"[PAD]\"] = len(vocab_dict)\n",
        "len(vocab_dict)\n"
      ]
    },
    {
      "cell_type": "code",
      "execution_count": 60,
      "metadata": {
        "id": "6k2Vc70RfxbC"
      },
      "outputs": [],
      "source": [
        "import json\n",
        "with open('vocab.json', 'w') as vocab_file:\n",
        "    json.dump(vocab_dict, vocab_file)\n"
      ]
    },
    {
      "cell_type": "code",
      "execution_count": 61,
      "metadata": {
        "colab": {
          "base_uri": "https://localhost:8080/",
          "height": 81,
          "referenced_widgets": [
            "ffb53a1afd2b4d7984d9375fb05ac353",
            "e0363f9075e0473e9e126579b2f7a920",
            "8b19822049d449efb2a28e661f5fcf64",
            "23c38a0ef244450db863851f13d74311",
            "16657fa1599b4140a1bc0b08f25d6e2f",
            "f948e189ba2b4525ae42402eb3da53be",
            "01c61c0a99a940c79d356b1090a3723a",
            "aa4927fd36694096a8788b725e2696b1",
            "d20d20c436cf4a4f9a46b712f5636afb",
            "d010da76684a44308210654db90becce",
            "90f5abc3db6b4f659ebe7b0d74f0dbcd",
            "5fe1e30107354089861f3eaab7ecfbe0",
            "0f1038bef2904331b63eb42a10eb7a70",
            "d8bdfce02531448ea16e1eb4ac59f213",
            "fa6bf4bb3b714640bd9883abb1023a80",
            "ef00e9b35d9c4a489a6d00fadb423861",
            "d10461bfbe2e49b0b00552c134c3cf41",
            "8d19b46cf34e4319a7e5699bc9ddd46f",
            "a19e76df7a2d472f905f05cb24c7dc26",
            "34b7590aa0b04c408f77607135422c18",
            "9f0119ee27b64f0d8abb6ac6413b4d33",
            "f2b6104ee78e4eb5805af87fbbddb201"
          ]
        },
        "id": "uTDEUtt8gj26",
        "outputId": "afd3f9f7-18ee-4b64-8d70-fed093d992ac"
      },
      "outputs": [
        {
          "data": {
            "application/vnd.jupyter.widget-view+json": {
              "model_id": "ffb53a1afd2b4d7984d9375fb05ac353",
              "version_major": 2,
              "version_minor": 0
            },
            "text/plain": [
              "Map:   0%|          | 0/12806 [00:00<?, ? examples/s]"
            ]
          },
          "metadata": {},
          "output_type": "display_data"
        },
        {
          "data": {
            "application/vnd.jupyter.widget-view+json": {
              "model_id": "5fe1e30107354089861f3eaab7ecfbe0",
              "version_major": 2,
              "version_minor": 0
            },
            "text/plain": [
              "Map:   0%|          | 0/5213 [00:00<?, ? examples/s]"
            ]
          },
          "metadata": {},
          "output_type": "display_data"
        }
      ],
      "source": [
        "# read audio files with torchaudio\n",
        "def read_audio_file(batch):\n",
        "    speech, sampling_rate = torchaudio.load(batch[\"path\"])\n",
        "    # map the 48kHz frequency to 16kHz\n",
        "    speech = torchaudio.transforms.Resample(orig_freq=sampling_rate, new_freq=16000)(speech)\n",
        "    batch[\"speech\"] = speech\n",
        "    batch[\"sampling_rate\"] = 16000\n",
        "    return batch\n",
        "\n",
        "\n",
        "common_voice_train = common_voice_train.map(read_audio_file)\n",
        "common_voice_test = common_voice_test.map(read_audio_file)\n"
      ]
    },
    {
      "cell_type": "code",
      "execution_count": 62,
      "metadata": {
        "colab": {
          "base_uri": "https://localhost:8080/"
        },
        "id": "nYsbNjB8f0V_",
        "outputId": "209433c4-2df6-4e83-a0e7-bf65beb43dba"
      },
      "outputs": [
        {
          "data": {
            "text/plain": [
              "1"
            ]
          },
          "execution_count": 62,
          "metadata": {},
          "output_type": "execute_result"
        }
      ],
      "source": [
        "tokenizer = Wav2Vec2CTCTokenizer(\n",
        "    \"./vocab.json\",\n",
        "    unk_token=\"[UNK]\",\n",
        "    pad_token=\"[PAD]\",\n",
        "    word_delimiter_token=\"|\"\n",
        ")\n",
        "\n",
        "tokenizer.add_tokens(vocab_list)\n"
      ]
    },
    {
      "cell_type": "code",
      "execution_count": 63,
      "metadata": {
        "id": "-bwLtkGWgdiK"
      },
      "outputs": [],
      "source": [
        "feature_extractor = Wav2Vec2FeatureExtractor(feature_size=1, sampling_rate=16000, padding_value=0.0, do_normalize=True, return_attention_mask=True)\n"
      ]
    },
    {
      "cell_type": "code",
      "execution_count": 64,
      "metadata": {
        "id": "Femc11wmi7C6"
      },
      "outputs": [],
      "source": [
        "processor = Wav2Vec2Processor(feature_extractor=feature_extractor, tokenizer=tokenizer)\n"
      ]
    },
    {
      "cell_type": "code",
      "execution_count": 65,
      "metadata": {
        "colab": {
          "base_uri": "https://localhost:8080/",
          "height": 53
        },
        "id": "Fpz0WZL4i-vC",
        "outputId": "df61bf42-940a-495c-d1ec-dd868d377a2f"
      },
      "outputs": [
        {
          "data": {
            "application/vnd.google.colaboratory.intrinsic+json": {
              "type": "string"
            },
            "text/plain": [
              "'/root/.cache/huggingface/datasets/downloads/extracted/c5031a95ac0e40545f16661cce5727f9d20ab85ee4a9fa43234b6306ea2568e3/cv-corpus-6.1-2020-12-11/fa/clips/common_voice_fa_18202376.mp3'"
            ]
          },
          "execution_count": 65,
          "metadata": {},
          "output_type": "execute_result"
        }
      ],
      "source": [
        "common_voice_train[0][\"path\"]\n"
      ]
    },
    {
      "cell_type": "code",
      "execution_count": 66,
      "metadata": {
        "colab": {
          "base_uri": "https://localhost:8080/"
        },
        "id": "aRg7OnuEjLUS",
        "outputId": "9ee6804e-87fb-4f11-ea2a-2d552eef69f5"
      },
      "outputs": [
        {
          "data": {
            "text/plain": [
              "{'path': '/root/.cache/huggingface/datasets/downloads/extracted/c5031a95ac0e40545f16661cce5727f9d20ab85ee4a9fa43234b6306ea2568e3/cv-corpus-6.1-2020-12-11/fa/clips/common_voice_fa_18202376.mp3',\n",
              " 'array': array([ 0.00000000e+00,  3.80888761e-14,  2.51364142e-15, ...,\n",
              "        -2.76742480e-06, -5.66327799e-06, -4.90683669e-06]),\n",
              " 'sampling_rate': 48000}"
            ]
          },
          "execution_count": 66,
          "metadata": {},
          "output_type": "execute_result"
        }
      ],
      "source": [
        "common_voice_train[0][\"audio\"]\n"
      ]
    },
    {
      "cell_type": "code",
      "execution_count": 67,
      "metadata": {
        "id": "1mZWJ6-1jUYp"
      },
      "outputs": [],
      "source": [
        "common_voice_train = common_voice_train.cast_column(\"audio\", Audio(sampling_rate=16_000))\n",
        "common_voice_test = common_voice_test.cast_column(\"audio\", Audio(sampling_rate=16_000))\n"
      ]
    },
    {
      "cell_type": "code",
      "execution_count": 68,
      "metadata": {
        "colab": {
          "base_uri": "https://localhost:8080/"
        },
        "id": "_LYbPlLNjXcL",
        "outputId": "506d4bae-029a-48c1-e994-638a9db2f7ac"
      },
      "outputs": [
        {
          "data": {
            "text/plain": [
              "{'path': '/root/.cache/huggingface/datasets/downloads/extracted/c5031a95ac0e40545f16661cce5727f9d20ab85ee4a9fa43234b6306ea2568e3/cv-corpus-6.1-2020-12-11/fa/clips/common_voice_fa_18202376.mp3',\n",
              " 'array': array([ 9.09494702e-13, -1.81898940e-12,  1.00044417e-11, ...,\n",
              "         5.28323289e-06,  4.76915011e-06, -1.47444371e-06]),\n",
              " 'sampling_rate': 16000}"
            ]
          },
          "execution_count": 68,
          "metadata": {},
          "output_type": "execute_result"
        }
      ],
      "source": [
        "common_voice_train[0][\"audio\"]\n"
      ]
    },
    {
      "cell_type": "code",
      "execution_count": 69,
      "metadata": {
        "colab": {
          "base_uri": "https://localhost:8080/",
          "height": 75
        },
        "id": "_M4VLbP1jaaK",
        "outputId": "bb4a7fbd-a733-4124-8e0f-9d881524d472"
      },
      "outputs": [
        {
          "data": {
            "text/html": [
              "\n",
              "                <audio  controls=\"controls\" autoplay=\"autoplay\">\n",
              "                    <source src=\"data:audio/wav;base64,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\" type=\"audio/wav\" />\n",
              "                    Your browser does not support the audio element.\n",
              "                </audio>\n",
              "              "
            ],
            "text/plain": [
              "<IPython.lib.display.Audio object>"
            ]
          },
          "execution_count": 69,
          "metadata": {},
          "output_type": "execute_result"
        }
      ],
      "source": [
        "rand_int = random.randint(0, len(common_voice_train)-1)\n",
        "\n",
        "ipd.Audio(data=common_voice_train[rand_int][\"audio\"][\"array\"], autoplay=True, rate=16000)\n"
      ]
    },
    {
      "cell_type": "code",
      "execution_count": 70,
      "metadata": {
        "colab": {
          "base_uri": "https://localhost:8080/"
        },
        "id": "hbmtOJoSjkfo",
        "outputId": "ca0d769f-b4e4-4cdd-d998-92627b142cf7"
      },
      "outputs": [
        {
          "name": "stdout",
          "output_type": "stream",
          "text": [
            "Target text: به شوهرجان گفتم این سری به کسی نگیم و خودم خونه رو تمیز کنم و ذره ذره وسایلارو بچینیم\n",
            "Input array shape: (127488,)\n",
            "Sampling rate: 16000\n"
          ]
        }
      ],
      "source": [
        "rand_int = random.randint(0, len(common_voice_train)-1)\n",
        "\n",
        "print(\"Target text:\", common_voice_train[rand_int][\"sentence\"])\n",
        "print(\"Input array shape:\", common_voice_train[rand_int][\"audio\"][\"array\"].shape)\n",
        "print(\"Sampling rate:\", common_voice_train[rand_int][\"audio\"][\"sampling_rate\"])\n"
      ]
    },
    {
      "cell_type": "code",
      "execution_count": 28,
      "metadata": {
        "id": "c8vMIfTpj8YC"
      },
      "outputs": [],
      "source": [
        "def prepare_dataset(batch):\n",
        "    audio = batch[\"audio\"]\n",
        "\n",
        "    # batched output is \"un-batched\"\n",
        "    batch[\"input_values\"] = processor(audio[\"array\"], sampling_rate=audio[\"sampling_rate\"]).input_values[0]\n",
        "\n",
        "    with processor.as_target_processor():\n",
        "        batch[\"labels\"] = processor(batch[\"sentence\"]).input_ids\n",
        "    return batch\n"
      ]
    },
    {
      "cell_type": "code",
      "execution_count": 71,
      "metadata": {
        "colab": {
          "base_uri": "https://localhost:8080/",
          "height": 136,
          "referenced_widgets": [
            "e93436cb44ea41529e0eebb42b2e5d86",
            "826a8f0f35344cf99dfa6e7a15d2568c",
            "bcc4cc4815a940469329a87bff3a4435",
            "7ce17563b0c649278de4f51b19897c43",
            "01d50ad185fa4be0aaec78c0fdda2022",
            "a41673dfdd6a4a1180fcbb03b5632a03",
            "8625e0772ac4411ba7e0b73ee86b18e6",
            "a8a14014e02e44bbb181f7e612e8a27e",
            "d6d411248c6748cf944ccf177c04babe",
            "d5304180b0d7419bb682549122fb4497",
            "20895a65e4d34bb9938c4cab8478f594",
            "59c4bf10c6e54939b548aaecd3458d98",
            "95e04a2fbb384ae7bfd28ba8ee5b1ac1",
            "761a044f238c4840b1e8e1f3ff11283d",
            "9e44f2ef2ad74fa4b07f65a560e8fc7b",
            "2136ec747cc14f1ead005914f452bb6f",
            "539ac60533ac4722b82f1da746d41741",
            "c8c2c0ee28a24d8bae673e0c4f9b4c7b",
            "320e1cf7b399497b8072c4c3060c341e",
            "765ec899594242e183a0dc4431e453a8",
            "d5724a201c21466aafeb6fb5f1c6abb5",
            "7076e1dd6647484b89986612321fb92e"
          ]
        },
        "id": "GJe0Px5jj_gk",
        "outputId": "d0393cf7-aea3-405a-b0fc-2c7fe2b030ae"
      },
      "outputs": [
        {
          "name": "stderr",
          "output_type": "stream",
          "text": [
            "/usr/local/lib/python3.10/dist-packages/multiprocess/popen_fork.py:66: RuntimeWarning: os.fork() was called. os.fork() is incompatible with multithreaded code, and JAX is multithreaded, so this will likely lead to a deadlock.\n",
            "  self.pid = os.fork()\n"
          ]
        },
        {
          "data": {
            "application/vnd.jupyter.widget-view+json": {
              "model_id": "e93436cb44ea41529e0eebb42b2e5d86",
              "version_major": 2,
              "version_minor": 0
            },
            "text/plain": [
              "Map (num_proc=4):   0%|          | 0/12806 [00:00<?, ? examples/s]"
            ]
          },
          "metadata": {},
          "output_type": "display_data"
        },
        {
          "data": {
            "application/vnd.jupyter.widget-view+json": {
              "model_id": "59c4bf10c6e54939b548aaecd3458d98",
              "version_major": 2,
              "version_minor": 0
            },
            "text/plain": [
              "Map (num_proc=4):   0%|          | 0/5213 [00:00<?, ? examples/s]"
            ]
          },
          "metadata": {},
          "output_type": "display_data"
        }
      ],
      "source": [
        "common_voice_train = common_voice_train.map(prepare_dataset, remove_columns=common_voice_train.column_names, num_proc=4)\n",
        "common_voice_test = common_voice_test.map(prepare_dataset, remove_columns=common_voice_test.column_names, num_proc=4)\n"
      ]
    },
    {
      "cell_type": "code",
      "execution_count": 72,
      "metadata": {
        "colab": {
          "base_uri": "https://localhost:8080/",
          "height": 145,
          "referenced_widgets": [
            "184d3a0c800a4ee4b8d6535bb87f21a0",
            "1a6e05c6212d4b01a7503993048210d8",
            "fc41e20fbd22444cb2ae30361a8f5469",
            "62a8db43f7c84814b7f8be892ef4e7bc",
            "d0fb2bfc58464fd9869260a3e95966d5",
            "70e7895ecd494d168d943f53484f5987",
            "542a7f6143b545cebe5a837c63fea266",
            "7a31bd1220b54e37ba73305c4265558d",
            "b82866a33a4f48cf9885410e451f615d",
            "c7db00d926a34252ad667f3c292ee652",
            "afd20d40270a4ad19c1ea61ebbe2825b",
            "0e812588c1f54b5491ecadfcd86a891e",
            "a1533d2f0dd04f2abbf39ced50d3cf72",
            "41a9e148eb3749dda0caeb3019db0c15",
            "424c1fb544a94d6e80833067fcb295af",
            "972c51699a224df3a33c22b94f58c81f",
            "7fa8bbb3fcdb408dbcfe715bb33423f2",
            "99574ac88e0843658a174a80bdcb852f",
            "37c6a4a3b32a48ca8e14065f361e34f4",
            "4d98873ca3f246b5a04d89bc424ecf59",
            "f2e80e07b6f6458f8f8121c8ae0167ff",
            "71320383c00d44d3af6a30b69a386179",
            "af90e9b8a39446c0aab6c64239adbdd3",
            "7c056b2c4cce46aa8e10cdfc10818a9c",
            "1a5d14688e944272946565b538b68ec4",
            "ab25d7d2aee24c0680b1e257f3fb32ba",
            "671e598ef6014334a43b95be549fa540",
            "20c098ebf6264773b78e0b7acd787025",
            "1df59e1ba39646c3982f868f3393fae0",
            "e0190ecc089b439a839762d2be7db8f4",
            "bd73c3f8ac0e40208857f31adef8524a",
            "8fa48788a404438995fea8392cbf3c30",
            "588ed0bb299f4fcb9dec71fcef612c8e",
            "b26d75f168d6435abb85bbaf4b2c8767",
            "cd579ccc54424fb692fe73c7864b8dfb",
            "cbf27a818861428c9482e0a8da7680ec",
            "4c52ba15e5eb4ad891bc1d53e18b949d",
            "d4d6ab71aba64394a4b74a2a95b4d458",
            "2246fc53191a46af91f6dc61592e90e2",
            "983963a128fe42479abc574a0dc4846c",
            "67321dd7f2a44cd685429ab69258af5a",
            "40a007879fb049d28fafd0517f1f8b43",
            "3652f0d899024dd38df98eb6fc3e678a",
            "0bcc5000988b431b916d8fb287768ff4"
          ]
        },
        "id": "9cTszQgJMjdm",
        "outputId": "1f08b2ff-747d-462e-b947-416848739cdb"
      },
      "outputs": [
        {
          "data": {
            "application/vnd.jupyter.widget-view+json": {
              "model_id": "184d3a0c800a4ee4b8d6535bb87f21a0",
              "version_major": 2,
              "version_minor": 0
            },
            "text/plain": [
              "Map:   0%|          | 0/12806 [00:00<?, ? examples/s]"
            ]
          },
          "metadata": {},
          "output_type": "display_data"
        },
        {
          "data": {
            "application/vnd.jupyter.widget-view+json": {
              "model_id": "0e812588c1f54b5491ecadfcd86a891e",
              "version_major": 2,
              "version_minor": 0
            },
            "text/plain": [
              "Map:   0%|          | 0/5213 [00:00<?, ? examples/s]"
            ]
          },
          "metadata": {},
          "output_type": "display_data"
        },
        {
          "data": {
            "application/vnd.jupyter.widget-view+json": {
              "model_id": "af90e9b8a39446c0aab6c64239adbdd3",
              "version_major": 2,
              "version_minor": 0
            },
            "text/plain": [
              "Filter:   0%|          | 0/12806 [00:00<?, ? examples/s]"
            ]
          },
          "metadata": {},
          "output_type": "display_data"
        },
        {
          "data": {
            "application/vnd.jupyter.widget-view+json": {
              "model_id": "b26d75f168d6435abb85bbaf4b2c8767",
              "version_major": 2,
              "version_minor": 0
            },
            "text/plain": [
              "Filter:   0%|          | 0/5213 [00:00<?, ? examples/s]"
            ]
          },
          "metadata": {},
          "output_type": "display_data"
        }
      ],
      "source": [
        "def filter_datasets_by_duration(train_dataset, test_dataset):\n",
        "    def add_duration(example):\n",
        "        # Access input_values and sampling_rate directly\n",
        "        input_values = example['input_values']\n",
        "        sampling_rate = processor.feature_extractor.sampling_rate # Assuming processor is available in scope\n",
        "        duration = len(input_values) / sampling_rate\n",
        "        example['duration'] = duration\n",
        "        return example\n",
        "\n",
        "    # Add duration to datasets\n",
        "    train_dataset = train_dataset.map(add_duration)\n",
        "    test_dataset = test_dataset.map(add_duration)\n",
        "\n",
        "    # Filter train dataset (4s to 6s)\n",
        "    filtered_train = train_dataset.filter(lambda x: 4 <= x['duration'] <= 6)\n",
        "\n",
        "    # Filter test dataset (0s to 15s)\n",
        "    filtered_test = test_dataset.filter(lambda x: 0 <= x['duration'] <= 15)\n",
        "\n",
        "    return filtered_train, filtered_test\n",
        "\n",
        "\n",
        "common_voice_train, common_voice_test = filter_datasets_by_duration(common_voice_train, common_voice_test)\n"
      ]
    },
    {
      "cell_type": "code",
      "execution_count": 73,
      "metadata": {
        "id": "VTJgcJeSlDBC"
      },
      "outputs": [],
      "source": [
        "@dataclass\n",
        "class DataCollatorCTCWithPadding:\n",
        "\n",
        "    processor: Wav2Vec2Processor\n",
        "    padding: Union[bool, str] = True\n",
        "    max_length: Optional[int] = None\n",
        "    max_length_labels: Optional[int] = None\n",
        "    pad_to_multiple_of: Optional[int] = None\n",
        "    pad_to_multiple_of_labels: Optional[int] = None\n",
        "\n",
        "\n",
        "    def __call__(self, features: List[Dict[str, Union[List[int], torch.Tensor]]]) -> Dict[str, torch.Tensor]:\n",
        "        # split inputs and labels since they have to be of different lenghts and need\n",
        "        # different padding methods\n",
        "        input_features = [{\"input_values\": feature[\"input_values\"]} for feature in features]\n",
        "        label_features = [{\"input_ids\": feature[\"labels\"]} for feature in features]\n",
        "\n",
        "        batch = self.processor.pad(\n",
        "            input_features,\n",
        "            padding=self.padding,\n",
        "            max_length=self.max_length,\n",
        "            pad_to_multiple_of=self.pad_to_multiple_of,\n",
        "            return_tensors=\"pt\",\n",
        "        )\n",
        "\n",
        "        # if torch.cuda.is_available():\n",
        "        #     batch = {k: v.to(device) for k, v in batch.items()}\n",
        "\n",
        "        with self.processor.as_target_processor():\n",
        "            labels_batch = self.processor.pad(\n",
        "                label_features,\n",
        "                padding=self.padding,\n",
        "                max_length=self.max_length_labels,\n",
        "                pad_to_multiple_of=self.pad_to_multiple_of_labels,\n",
        "                return_tensors=\"pt\",\n",
        "            )\n",
        "\n",
        "        # replace padding with -100 to ignore loss correctly\n",
        "        labels = labels_batch[\"input_ids\"].masked_fill(labels_batch.attention_mask.ne(1), -100)\n",
        "\n",
        "        batch[\"labels\"] = labels\n",
        "\n",
        "        # Move batch to device\n",
        "        batch = {k: v.to(device) if isinstance(v, torch.Tensor) else v for k, v in batch.items()}\n",
        "\n",
        "        return batch\n"
      ]
    },
    {
      "cell_type": "code",
      "execution_count": 74,
      "metadata": {
        "id": "NyeSUEn5lRyQ"
      },
      "outputs": [],
      "source": [
        "data_collator = DataCollatorCTCWithPadding(processor=processor, padding=True)\n"
      ]
    },
    {
      "cell_type": "code",
      "execution_count": 75,
      "metadata": {
        "colab": {
          "base_uri": "https://localhost:8080/"
        },
        "id": "zuO32C2KlWzI",
        "outputId": "011c3214-11e0-4d69-f903-3984d57732cd"
      },
      "outputs": [
        {
          "name": "stderr",
          "output_type": "stream",
          "text": [
            "/usr/local/lib/python3.10/dist-packages/datasets/load.py:759: FutureWarning: The repository for wer contains custom code which must be executed to correctly load the metric. You can inspect the repository content at https://raw.githubusercontent.com/huggingface/datasets/2.19.1/metrics/wer/wer.py\n",
            "You can avoid this message in future by passing the argument `trust_remote_code=True`.\n",
            "Passing `trust_remote_code=True` will be mandatory to load this metric from the next major release of `datasets`.\n",
            "  warnings.warn(\n"
          ]
        }
      ],
      "source": [
        "wer_metric = load_metric(\"wer\")\n"
      ]
    },
    {
      "cell_type": "code",
      "execution_count": 76,
      "metadata": {
        "id": "EpaIQcTYleUV"
      },
      "outputs": [],
      "source": [
        "def compute_metrics(pred):\n",
        "    pred_ids = pred.predictions.argmax(-1)\n",
        "    pred_str = processor.batch_decode(pred_ids)\n",
        "    # we do not want to group tokens when computing the metrics\n",
        "    label_ids = pred.label_ids\n",
        "    # replace padding with -100 to compute the correct WER\n",
        "    label_ids[label_ids == -100] = processor.tokenizer.pad_token_id\n",
        "    label_str = processor.batch_decode(label_ids, group_tokens=False)\n",
        "    wer = wer_metric.compute(predictions=pred_str, references=label_str)\n",
        "    return {\"wer\": wer}\n"
      ]
    },
    {
      "cell_type": "code",
      "execution_count": 77,
      "metadata": {
        "colab": {
          "base_uri": "https://localhost:8080/"
        },
        "id": "4-QXZPhUljWy",
        "outputId": "4e1a7012-9209-4849-b3f7-6ecfc1bf2542"
      },
      "outputs": [
        {
          "name": "stderr",
          "output_type": "stream",
          "text": [
            "Some weights of Wav2Vec2ForCTC were not initialized from the model checkpoint at facebook/wav2vec2-large-xlsr-53 and are newly initialized: ['lm_head.bias', 'lm_head.weight', 'wav2vec2.encoder.pos_conv_embed.conv.parametrizations.weight.original0', 'wav2vec2.encoder.pos_conv_embed.conv.parametrizations.weight.original1']\n",
            "You should probably TRAIN this model on a down-stream task to be able to use it for predictions and inference.\n"
          ]
        }
      ],
      "source": [
        "model = Wav2Vec2ForCTC.from_pretrained(\n",
        "    \"facebook/wav2vec2-large-xlsr-53\",\n",
        "    attention_dropout=0.1,\n",
        "    hidden_dropout=0.1,\n",
        "    feat_proj_dropout=0.0,\n",
        "    mask_time_prob=0.05,\n",
        "    layerdrop=0.1,\n",
        "    ctc_loss_reduction=\"mean\",\n",
        "    pad_token_id=processor.tokenizer.pad_token_id,\n",
        "    vocab_size=len(processor.tokenizer)\n",
        ").to(device)\n"
      ]
    },
    {
      "cell_type": "code",
      "execution_count": 78,
      "metadata": {
        "colab": {
          "base_uri": "https://localhost:8080/"
        },
        "id": "BTXUc5u8lvdY",
        "outputId": "0686c2f5-9624-47f2-9b56-0492764439fa"
      },
      "outputs": [
        {
          "name": "stderr",
          "output_type": "stream",
          "text": [
            "/usr/local/lib/python3.10/dist-packages/transformers/models/wav2vec2/modeling_wav2vec2.py:2274: FutureWarning: The method `freeze_feature_extractor` is deprecated and will be removed in Transformers v5. Please use the equivalent `freeze_feature_encoder` method instead.\n",
            "  warnings.warn(\n"
          ]
        }
      ],
      "source": [
        "model.freeze_feature_extractor()\n"
      ]
    },
    {
      "cell_type": "code",
      "execution_count": 79,
      "metadata": {
        "id": "QqqFRhs9lyKv"
      },
      "outputs": [],
      "source": [
        "model.gradient_checkpointing_enable()\n"
      ]
    },
    {
      "cell_type": "code",
      "execution_count": 80,
      "metadata": {
        "colab": {
          "base_uri": "https://localhost:8080/"
        },
        "id": "5yMda9OSl2Rn",
        "outputId": "c4526283-07f2-4c4a-c592-4c1d7ec8f72d"
      },
      "outputs": [
        {
          "name": "stderr",
          "output_type": "stream",
          "text": [
            "/usr/local/lib/python3.10/dist-packages/transformers/training_args.py:1474: FutureWarning: `evaluation_strategy` is deprecated and will be removed in version 4.46 of 🤗 Transformers. Use `eval_strategy` instead\n",
            "  warnings.warn(\n"
          ]
        }
      ],
      "source": [
        "mp.set_start_method('spawn', force=True)\n",
        "\n",
        "training_args = TrainingArguments(\n",
        "  output_dir=\"./wav2vec2-large-xlsr-persian-demo\",\n",
        "  group_by_length=True,\n",
        "  per_device_train_batch_size=12,\n",
        "  gradient_accumulation_steps=2,\n",
        "  evaluation_strategy=\"steps\",\n",
        "  num_train_epochs=5,\n",
        "  fp16=True,\n",
        "  no_cuda= not torch.cuda.is_available(),\n",
        "  save_strategy=\"epoch\",\n",
        "  save_steps=150,\n",
        "  eval_steps=150,\n",
        "  # save_steps=1,\n",
        "  # eval_steps=1,\n",
        "  logging_steps=100,\n",
        "  learning_rate=1e-4,\n",
        "  warmup_steps=1000,\n",
        "  save_total_limit=2,\n",
        "  dataloader_num_workers=0,\n",
        "  dataloader_pin_memory=False,\n",
        ")\n"
      ]
    },
    {
      "cell_type": "code",
      "execution_count": 81,
      "metadata": {
        "colab": {
          "base_uri": "https://localhost:8080/"
        },
        "id": "ZfABGuTcl5TQ",
        "outputId": "d667ad31-ffd8-46ce-aaaa-ed8fd69e08be"
      },
      "outputs": [
        {
          "name": "stderr",
          "output_type": "stream",
          "text": [
            "/usr/local/lib/python3.10/dist-packages/transformers/optimization.py:588: FutureWarning: This implementation of AdamW is deprecated and will be removed in a future version. Use the PyTorch implementation torch.optim.AdamW instead, or set `no_deprecation_warning=True` to disable this warning\n",
            "  warnings.warn(\n"
          ]
        }
      ],
      "source": [
        "# Use AdamW optimizer with weight decay\n",
        "optimizer = AdamW(model.parameters(), lr=1e-4, weight_decay=0.01)\n",
        "\n",
        "# Create a learning rate scheduler\n",
        "num_training_steps = len(common_voice_train) // training_args.gradient_accumulation_steps * training_args.num_train_epochs\n",
        "lr_scheduler = get_linear_schedule_with_warmup(optimizer, num_warmup_steps=1000, num_training_steps=num_training_steps)\n",
        "\n",
        "trainer = Trainer(\n",
        "    model=model,\n",
        "    data_collator=data_collator,\n",
        "    args=training_args,\n",
        "    compute_metrics=compute_metrics,\n",
        "    train_dataset=common_voice_train,\n",
        "    eval_dataset=common_voice_test,\n",
        "    tokenizer=processor.feature_extractor,\n",
        "    optimizers=(optimizer, lr_scheduler) # Pass the optimizer and lr_scheduler as a tuple\n",
        ")\n"
      ]
    },
    {
      "cell_type": "code",
      "execution_count": 82,
      "metadata": {
        "colab": {
          "base_uri": "https://localhost:8080/"
        },
        "id": "ZVMnyu1b_7Ku",
        "outputId": "a27877de-29f1-4c48-c2f1-b7311232a7dc"
      },
      "outputs": [
        {
          "name": "stdout",
          "output_type": "stream",
          "text": [
            "Total number of trainable parameters: 311289019\n",
            "Total number of parameters: 315499195\n"
          ]
        }
      ],
      "source": [
        "total_params = sum(p.numel() for p in model.parameters() if p.requires_grad)\n",
        "print(f\"Total number of trainable parameters: {total_params}\")\n",
        "print(f\"Total number of parameters: {sum(p.numel() for p in model.parameters())}\")\n"
      ]
    },
    {
      "cell_type": "code",
      "execution_count": 83,
      "metadata": {
        "colab": {
          "base_uri": "https://localhost:8080/"
        },
        "id": "1cNbrC3MAis6",
        "outputId": "7fca35b5-6b9e-4d57-fac7-3f878edc1d8b"
      },
      "outputs": [
        {
          "name": "stdout",
          "output_type": "stream",
          "text": [
            "Number of training files: 4321\n"
          ]
        }
      ],
      "source": [
        "# number of training datapoints\n",
        "print(f\"Number of training files: {len(common_voice_train)}\")\n"
      ]
    },
    {
      "cell_type": "code",
      "execution_count": 84,
      "metadata": {
        "colab": {
          "base_uri": "https://localhost:8080/",
          "height": 474
        },
        "id": "45ZePKMWmAkX",
        "outputId": "b49607d4-90a9-4253-d943-6e8a8159334e"
      },
      "outputs": [
        {
          "name": "stderr",
          "output_type": "stream",
          "text": [
            "/usr/local/lib/python3.10/dist-packages/transformers/models/wav2vec2/processing_wav2vec2.py:156: UserWarning: `as_target_processor` is deprecated and will be removed in v5 of Transformers. You can process your labels by using the argument `text` of the regular `__call__` method (either in the same call as your audio inputs, or in a separate call.\n",
            "  warnings.warn(\n"
          ]
        },
        {
          "data": {
            "text/html": [
              "\n",
              "    <div>\n",
              "      \n",
              "      <progress value='900' max='900' style='width:300px; height:20px; vertical-align: middle;'></progress>\n",
              "      [900/900 1:12:45, Epoch 4/5]\n",
              "    </div>\n",
              "    <table border=\"1\" class=\"dataframe\">\n",
              "  <thead>\n",
              " <tr style=\"text-align: left;\">\n",
              "      <th>Step</th>\n",
              "      <th>Training Loss</th>\n",
              "      <th>Validation Loss</th>\n",
              "      <th>Wer</th>\n",
              "    </tr>\n",
              "  </thead>\n",
              "  <tbody>\n",
              "    <tr>\n",
              "      <td>150</td>\n",
              "      <td>25.884100</td>\n",
              "      <td>26.647411</td>\n",
              "      <td>1.000000</td>\n",
              "    </tr>\n",
              "    <tr>\n",
              "      <td>300</td>\n",
              "      <td>5.936800</td>\n",
              "      <td>3.844015</td>\n",
              "      <td>0.998649</td>\n",
              "    </tr>\n",
              "    <tr>\n",
              "      <td>450</td>\n",
              "      <td>3.410100</td>\n",
              "      <td>3.118990</td>\n",
              "      <td>0.998649</td>\n",
              "    </tr>\n",
              "    <tr>\n",
              "      <td>600</td>\n",
              "      <td>2.998700</td>\n",
              "      <td>3.025712</td>\n",
              "      <td>0.998649</td>\n",
              "    </tr>\n",
              "    <tr>\n",
              "      <td>750</td>\n",
              "      <td>2.966700</td>\n",
              "      <td>2.975458</td>\n",
              "      <td>0.998649</td>\n",
              "    </tr>\n",
              "    <tr>\n",
              "      <td>900</td>\n",
              "      <td>2.937000</td>\n",
              "      <td>2.967196</td>\n",
              "      <td>0.998649</td>\n",
              "    </tr>\n",
              "  </tbody>\n",
              "</table><p>"
            ],
            "text/plain": [
              "<IPython.core.display.HTML object>"
            ]
          },
          "metadata": {},
          "output_type": "display_data"
        },
        {
          "name": "stderr",
          "output_type": "stream",
          "text": [
            "/usr/local/lib/python3.10/dist-packages/transformers/models/wav2vec2/processing_wav2vec2.py:156: UserWarning: `as_target_processor` is deprecated and will be removed in v5 of Transformers. You can process your labels by using the argument `text` of the regular `__call__` method (either in the same call as your audio inputs, or in a separate call.\n",
            "  warnings.warn(\n",
            "/usr/local/lib/python3.10/dist-packages/transformers/models/wav2vec2/processing_wav2vec2.py:156: UserWarning: `as_target_processor` is deprecated and will be removed in v5 of Transformers. You can process your labels by using the argument `text` of the regular `__call__` method (either in the same call as your audio inputs, or in a separate call.\n",
            "  warnings.warn(\n",
            "/usr/local/lib/python3.10/dist-packages/transformers/models/wav2vec2/processing_wav2vec2.py:156: UserWarning: `as_target_processor` is deprecated and will be removed in v5 of Transformers. You can process your labels by using the argument `text` of the regular `__call__` method (either in the same call as your audio inputs, or in a separate call.\n",
            "  warnings.warn(\n",
            "/usr/local/lib/python3.10/dist-packages/transformers/models/wav2vec2/processing_wav2vec2.py:156: UserWarning: `as_target_processor` is deprecated and will be removed in v5 of Transformers. You can process your labels by using the argument `text` of the regular `__call__` method (either in the same call as your audio inputs, or in a separate call.\n",
            "  warnings.warn(\n"
          ]
        },
        {
          "name": "stdout",
          "output_type": "stream",
          "text": [
            "Training time: 4511.272331476212 seconds\n"
          ]
        }
      ],
      "source": [
        "start_time = time.time()\n",
        "\n",
        "trainer.train()\n",
        "\n",
        "end_time = time.time()\n",
        "training_time = end_time - start_time\n",
        "print(f\"Training time: {training_time} seconds\")\n"
      ]
    },
    {
      "cell_type": "code",
      "execution_count": 85,
      "metadata": {
        "colab": {
          "base_uri": "https://localhost:8080/"
        },
        "id": "MbmrMoojBC58",
        "outputId": "cadefbc1-cb8b-402a-bf5c-0b17a2c4d5f3"
      },
      "outputs": [
        {
          "name": "stdout",
          "output_type": "stream",
          "text": [
            "Number of testing files: 5212\n"
          ]
        }
      ],
      "source": [
        "print(f\"Number of testing files: {len(common_voice_test)}\")\n"
      ]
    },
    {
      "cell_type": "code",
      "execution_count": 86,
      "metadata": {
        "colab": {
          "base_uri": "https://localhost:8080/",
          "height": 196
        },
        "id": "ajxD07i6NKhE",
        "outputId": "565bedab-3e1f-41cc-bf9b-39a3adbab93c"
      },
      "outputs": [
        {
          "name": "stderr",
          "output_type": "stream",
          "text": [
            "/usr/local/lib/python3.10/dist-packages/transformers/models/wav2vec2/processing_wav2vec2.py:156: UserWarning: `as_target_processor` is deprecated and will be removed in v5 of Transformers. You can process your labels by using the argument `text` of the regular `__call__` method (either in the same call as your audio inputs, or in a separate call.\n",
            "  warnings.warn(\n"
          ]
        },
        {
          "data": {
            "text/html": [
              "\n",
              "    <div>\n",
              "      \n",
              "      <progress value='652' max='652' style='width:300px; height:20px; vertical-align: middle;'></progress>\n",
              "      [652/652 05:57]\n",
              "    </div>\n",
              "    "
            ],
            "text/plain": [
              "<IPython.core.display.HTML object>"
            ]
          },
          "metadata": {},
          "output_type": "display_data"
        },
        {
          "data": {
            "text/plain": [
              "{'eval_loss': 2.967195510864258,\n",
              " 'eval_wer': 0.9986490205398915,\n",
              " 'eval_runtime': 360.7933,\n",
              " 'eval_samples_per_second': 14.446,\n",
              " 'eval_steps_per_second': 1.807,\n",
              " 'epoch': 4.986149584487535}"
            ]
          },
          "execution_count": 86,
          "metadata": {},
          "output_type": "execute_result"
        }
      ],
      "source": [
        "# testing\n",
        "trainer.evaluate()\n"
      ]
    },
    {
      "cell_type": "code",
      "execution_count": 88,
      "metadata": {
        "colab": {
          "base_uri": "https://localhost:8080/"
        },
        "id": "zZ-XRoORC2Il",
        "outputId": "9e9d839a-e64e-4b8c-9e89-a3de9bbe7b54"
      },
      "outputs": [
        {
          "data": {
            "text/plain": [
              "[]"
            ]
          },
          "execution_count": 88,
          "metadata": {},
          "output_type": "execute_result"
        }
      ],
      "source": [
        "# Save the final model\n",
        "model.save_pretrained(\"./wav2vec2-large-xlsr-persian-demo-final\")\n",
        "processor.save_pretrained(\"./wav2vec2-large-xlsr-persian-demo-final\")\n"
      ]
    },
    {
      "cell_type": "code",
      "execution_count": 93,
      "metadata": {
        "colab": {
          "base_uri": "https://localhost:8080/"
        },
        "id": "8jpVhY6LO1xS",
        "outputId": "39ab0436-5667-48f6-e984-08888915fe60"
      },
      "outputs": [
        {
          "name": "stdout",
          "output_type": "stream",
          "text": [
            "Mounted at /content/drive\n"
          ]
        }
      ],
      "source": [
        "# save model to drive\n",
        "from google.colab import drive\n",
        "drive.mount('/content/drive')\n"
      ]
    },
    {
      "cell_type": "code",
      "execution_count": 94,
      "metadata": {
        "id": "LDOFPUK1PLyW"
      },
      "outputs": [],
      "source": [
        "# prompt: save model to drive\n",
        "\n",
        "!cp -r ./wav2vec2-large-xlsr-persian-demo-final /content/drive/MyDrive/\n"
      ]
    }
  ],
  "metadata": {
    "accelerator": "GPU",
    "colab": {
      "gpuType": "T4",
      "provenance": []
    },
    "kernelspec": {
      "display_name": "Python 3",
      "name": "python3"
    },
    "language_info": {
      "name": "python"
    },
    "widgets": {
      "application/vnd.jupyter.widget-state+json": {
        "01c61c0a99a940c79d356b1090a3723a": {
          "model_module": "@jupyter-widgets/controls",
          "model_module_version": "1.5.0",
          "model_name": "DescriptionStyleModel",
          "state": {
            "_model_module": "@jupyter-widgets/controls",
            "_model_module_version": "1.5.0",
            "_model_name": "DescriptionStyleModel",
            "_view_count": null,
            "_view_module": "@jupyter-widgets/base",
            "_view_module_version": "1.2.0",
            "_view_name": "StyleView",
            "description_width": ""
          }
        },
        "01d50ad185fa4be0aaec78c0fdda2022": {
          "model_module": "@jupyter-widgets/base",
          "model_module_version": "1.2.0",
          "model_name": "LayoutModel",
          "state": {
            "_model_module": "@jupyter-widgets/base",
            "_model_module_version": "1.2.0",
            "_model_name": "LayoutModel",
            "_view_count": null,
            "_view_module": "@jupyter-widgets/base",
            "_view_module_version": "1.2.0",
            "_view_name": "LayoutView",
            "align_content": null,
            "align_items": null,
            "align_self": null,
            "border": null,
            "bottom": null,
            "display": null,
            "flex": null,
            "flex_flow": null,
            "grid_area": null,
            "grid_auto_columns": null,
            "grid_auto_flow": null,
            "grid_auto_rows": null,
            "grid_column": null,
            "grid_gap": null,
            "grid_row": null,
            "grid_template_areas": null,
            "grid_template_columns": null,
            "grid_template_rows": null,
            "height": null,
            "justify_content": null,
            "justify_items": null,
            "left": null,
            "margin": null,
            "max_height": null,
            "max_width": null,
            "min_height": null,
            "min_width": null,
            "object_fit": null,
            "object_position": null,
            "order": null,
            "overflow": null,
            "overflow_x": null,
            "overflow_y": null,
            "padding": null,
            "right": null,
            "top": null,
            "visibility": null,
            "width": null
          }
        },
        "0bcc5000988b431b916d8fb287768ff4": {
          "model_module": "@jupyter-widgets/controls",
          "model_module_version": "1.5.0",
          "model_name": "DescriptionStyleModel",
          "state": {
            "_model_module": "@jupyter-widgets/controls",
            "_model_module_version": "1.5.0",
            "_model_name": "DescriptionStyleModel",
            "_view_count": null,
            "_view_module": "@jupyter-widgets/base",
            "_view_module_version": "1.2.0",
            "_view_name": "StyleView",
            "description_width": ""
          }
        },
        "0e812588c1f54b5491ecadfcd86a891e": {
          "model_module": "@jupyter-widgets/controls",
          "model_module_version": "1.5.0",
          "model_name": "HBoxModel",
          "state": {
            "_dom_classes": [],
            "_model_module": "@jupyter-widgets/controls",
            "_model_module_version": "1.5.0",
            "_model_name": "HBoxModel",
            "_view_count": null,
            "_view_module": "@jupyter-widgets/controls",
            "_view_module_version": "1.5.0",
            "_view_name": "HBoxView",
            "box_style": "",
            "children": [
              "IPY_MODEL_a1533d2f0dd04f2abbf39ced50d3cf72",
              "IPY_MODEL_41a9e148eb3749dda0caeb3019db0c15",
              "IPY_MODEL_424c1fb544a94d6e80833067fcb295af"
            ],
            "layout": "IPY_MODEL_972c51699a224df3a33c22b94f58c81f"
          }
        },
        "0f1038bef2904331b63eb42a10eb7a70": {
          "model_module": "@jupyter-widgets/controls",
          "model_module_version": "1.5.0",
          "model_name": "HTMLModel",
          "state": {
            "_dom_classes": [],
            "_model_module": "@jupyter-widgets/controls",
            "_model_module_version": "1.5.0",
            "_model_name": "HTMLModel",
            "_view_count": null,
            "_view_module": "@jupyter-widgets/controls",
            "_view_module_version": "1.5.0",
            "_view_name": "HTMLView",
            "description": "",
            "description_tooltip": null,
            "layout": "IPY_MODEL_d10461bfbe2e49b0b00552c134c3cf41",
            "placeholder": "​",
            "style": "IPY_MODEL_8d19b46cf34e4319a7e5699bc9ddd46f",
            "value": "Map: 100%"
          }
        },
        "0fab361fbac34af0808ba7007da17972": {
          "model_module": "@jupyter-widgets/base",
          "model_module_version": "1.2.0",
          "model_name": "LayoutModel",
          "state": {
            "_model_module": "@jupyter-widgets/base",
            "_model_module_version": "1.2.0",
            "_model_name": "LayoutModel",
            "_view_count": null,
            "_view_module": "@jupyter-widgets/base",
            "_view_module_version": "1.2.0",
            "_view_name": "LayoutView",
            "align_content": null,
            "align_items": null,
            "align_self": null,
            "border": null,
            "bottom": null,
            "display": null,
            "flex": null,
            "flex_flow": null,
            "grid_area": null,
            "grid_auto_columns": null,
            "grid_auto_flow": null,
            "grid_auto_rows": null,
            "grid_column": null,
            "grid_gap": null,
            "grid_row": null,
            "grid_template_areas": null,
            "grid_template_columns": null,
            "grid_template_rows": null,
            "height": null,
            "justify_content": null,
            "justify_items": null,
            "left": null,
            "margin": null,
            "max_height": null,
            "max_width": null,
            "min_height": null,
            "min_width": null,
            "object_fit": null,
            "object_position": null,
            "order": null,
            "overflow": null,
            "overflow_x": null,
            "overflow_y": null,
            "padding": null,
            "right": null,
            "top": null,
            "visibility": null,
            "width": null
          }
        },
        "16657fa1599b4140a1bc0b08f25d6e2f": {
          "model_module": "@jupyter-widgets/base",
          "model_module_version": "1.2.0",
          "model_name": "LayoutModel",
          "state": {
            "_model_module": "@jupyter-widgets/base",
            "_model_module_version": "1.2.0",
            "_model_name": "LayoutModel",
            "_view_count": null,
            "_view_module": "@jupyter-widgets/base",
            "_view_module_version": "1.2.0",
            "_view_name": "LayoutView",
            "align_content": null,
            "align_items": null,
            "align_self": null,
            "border": null,
            "bottom": null,
            "display": null,
            "flex": null,
            "flex_flow": null,
            "grid_area": null,
            "grid_auto_columns": null,
            "grid_auto_flow": null,
            "grid_auto_rows": null,
            "grid_column": null,
            "grid_gap": null,
            "grid_row": null,
            "grid_template_areas": null,
            "grid_template_columns": null,
            "grid_template_rows": null,
            "height": null,
            "justify_content": null,
            "justify_items": null,
            "left": null,
            "margin": null,
            "max_height": null,
            "max_width": null,
            "min_height": null,
            "min_width": null,
            "object_fit": null,
            "object_position": null,
            "order": null,
            "overflow": null,
            "overflow_x": null,
            "overflow_y": null,
            "padding": null,
            "right": null,
            "top": null,
            "visibility": null,
            "width": null
          }
        },
        "184d3a0c800a4ee4b8d6535bb87f21a0": {
          "model_module": "@jupyter-widgets/controls",
          "model_module_version": "1.5.0",
          "model_name": "HBoxModel",
          "state": {
            "_dom_classes": [],
            "_model_module": "@jupyter-widgets/controls",
            "_model_module_version": "1.5.0",
            "_model_name": "HBoxModel",
            "_view_count": null,
            "_view_module": "@jupyter-widgets/controls",
            "_view_module_version": "1.5.0",
            "_view_name": "HBoxView",
            "box_style": "",
            "children": [
              "IPY_MODEL_1a6e05c6212d4b01a7503993048210d8",
              "IPY_MODEL_fc41e20fbd22444cb2ae30361a8f5469",
              "IPY_MODEL_62a8db43f7c84814b7f8be892ef4e7bc"
            ],
            "layout": "IPY_MODEL_d0fb2bfc58464fd9869260a3e95966d5"
          }
        },
        "1a5d14688e944272946565b538b68ec4": {
          "model_module": "@jupyter-widgets/controls",
          "model_module_version": "1.5.0",
          "model_name": "FloatProgressModel",
          "state": {
            "_dom_classes": [],
            "_model_module": "@jupyter-widgets/controls",
            "_model_module_version": "1.5.0",
            "_model_name": "FloatProgressModel",
            "_view_count": null,
            "_view_module": "@jupyter-widgets/controls",
            "_view_module_version": "1.5.0",
            "_view_name": "ProgressView",
            "bar_style": "success",
            "description": "",
            "description_tooltip": null,
            "layout": "IPY_MODEL_e0190ecc089b439a839762d2be7db8f4",
            "max": 12806,
            "min": 0,
            "orientation": "horizontal",
            "style": "IPY_MODEL_bd73c3f8ac0e40208857f31adef8524a",
            "value": 12806
          }
        },
        "1a6e05c6212d4b01a7503993048210d8": {
          "model_module": "@jupyter-widgets/controls",
          "model_module_version": "1.5.0",
          "model_name": "HTMLModel",
          "state": {
            "_dom_classes": [],
            "_model_module": "@jupyter-widgets/controls",
            "_model_module_version": "1.5.0",
            "_model_name": "HTMLModel",
            "_view_count": null,
            "_view_module": "@jupyter-widgets/controls",
            "_view_module_version": "1.5.0",
            "_view_name": "HTMLView",
            "description": "",
            "description_tooltip": null,
            "layout": "IPY_MODEL_70e7895ecd494d168d943f53484f5987",
            "placeholder": "​",
            "style": "IPY_MODEL_542a7f6143b545cebe5a837c63fea266",
            "value": "Map: 100%"
          }
        },
        "1df59e1ba39646c3982f868f3393fae0": {
          "model_module": "@jupyter-widgets/controls",
          "model_module_version": "1.5.0",
          "model_name": "DescriptionStyleModel",
          "state": {
            "_model_module": "@jupyter-widgets/controls",
            "_model_module_version": "1.5.0",
            "_model_name": "DescriptionStyleModel",
            "_view_count": null,
            "_view_module": "@jupyter-widgets/base",
            "_view_module_version": "1.2.0",
            "_view_name": "StyleView",
            "description_width": ""
          }
        },
        "1ff08ac42c204570bf58a61562c2263a": {
          "model_module": "@jupyter-widgets/controls",
          "model_module_version": "1.5.0",
          "model_name": "DescriptionStyleModel",
          "state": {
            "_model_module": "@jupyter-widgets/controls",
            "_model_module_version": "1.5.0",
            "_model_name": "DescriptionStyleModel",
            "_view_count": null,
            "_view_module": "@jupyter-widgets/base",
            "_view_module_version": "1.2.0",
            "_view_name": "StyleView",
            "description_width": ""
          }
        },
        "20895a65e4d34bb9938c4cab8478f594": {
          "model_module": "@jupyter-widgets/controls",
          "model_module_version": "1.5.0",
          "model_name": "DescriptionStyleModel",
          "state": {
            "_model_module": "@jupyter-widgets/controls",
            "_model_module_version": "1.5.0",
            "_model_name": "DescriptionStyleModel",
            "_view_count": null,
            "_view_module": "@jupyter-widgets/base",
            "_view_module_version": "1.2.0",
            "_view_name": "StyleView",
            "description_width": ""
          }
        },
        "20c098ebf6264773b78e0b7acd787025": {
          "model_module": "@jupyter-widgets/base",
          "model_module_version": "1.2.0",
          "model_name": "LayoutModel",
          "state": {
            "_model_module": "@jupyter-widgets/base",
            "_model_module_version": "1.2.0",
            "_model_name": "LayoutModel",
            "_view_count": null,
            "_view_module": "@jupyter-widgets/base",
            "_view_module_version": "1.2.0",
            "_view_name": "LayoutView",
            "align_content": null,
            "align_items": null,
            "align_self": null,
            "border": null,
            "bottom": null,
            "display": null,
            "flex": null,
            "flex_flow": null,
            "grid_area": null,
            "grid_auto_columns": null,
            "grid_auto_flow": null,
            "grid_auto_rows": null,
            "grid_column": null,
            "grid_gap": null,
            "grid_row": null,
            "grid_template_areas": null,
            "grid_template_columns": null,
            "grid_template_rows": null,
            "height": null,
            "justify_content": null,
            "justify_items": null,
            "left": null,
            "margin": null,
            "max_height": null,
            "max_width": null,
            "min_height": null,
            "min_width": null,
            "object_fit": null,
            "object_position": null,
            "order": null,
            "overflow": null,
            "overflow_x": null,
            "overflow_y": null,
            "padding": null,
            "right": null,
            "top": null,
            "visibility": null,
            "width": null
          }
        },
        "2136ec747cc14f1ead005914f452bb6f": {
          "model_module": "@jupyter-widgets/base",
          "model_module_version": "1.2.0",
          "model_name": "LayoutModel",
          "state": {
            "_model_module": "@jupyter-widgets/base",
            "_model_module_version": "1.2.0",
            "_model_name": "LayoutModel",
            "_view_count": null,
            "_view_module": "@jupyter-widgets/base",
            "_view_module_version": "1.2.0",
            "_view_name": "LayoutView",
            "align_content": null,
            "align_items": null,
            "align_self": null,
            "border": null,
            "bottom": null,
            "display": null,
            "flex": null,
            "flex_flow": null,
            "grid_area": null,
            "grid_auto_columns": null,
            "grid_auto_flow": null,
            "grid_auto_rows": null,
            "grid_column": null,
            "grid_gap": null,
            "grid_row": null,
            "grid_template_areas": null,
            "grid_template_columns": null,
            "grid_template_rows": null,
            "height": null,
            "justify_content": null,
            "justify_items": null,
            "left": null,
            "margin": null,
            "max_height": null,
            "max_width": null,
            "min_height": null,
            "min_width": null,
            "object_fit": null,
            "object_position": null,
            "order": null,
            "overflow": null,
            "overflow_x": null,
            "overflow_y": null,
            "padding": null,
            "right": null,
            "top": null,
            "visibility": null,
            "width": null
          }
        },
        "21df38f745f54efb9dbfa82a7edf9b18": {
          "model_module": "@jupyter-widgets/controls",
          "model_module_version": "1.5.0",
          "model_name": "HTMLModel",
          "state": {
            "_dom_classes": [],
            "_model_module": "@jupyter-widgets/controls",
            "_model_module_version": "1.5.0",
            "_model_name": "HTMLModel",
            "_view_count": null,
            "_view_module": "@jupyter-widgets/controls",
            "_view_module_version": "1.5.0",
            "_view_name": "HTMLView",
            "description": "",
            "description_tooltip": null,
            "layout": "IPY_MODEL_0fab361fbac34af0808ba7007da17972",
            "placeholder": "​",
            "style": "IPY_MODEL_438daf160a294b4fa165fcdf740187ce",
            "value": " 12806/12806 [00:00&lt;00:00, 193902.87 examples/s]"
          }
        },
        "2246fc53191a46af91f6dc61592e90e2": {
          "model_module": "@jupyter-widgets/base",
          "model_module_version": "1.2.0",
          "model_name": "LayoutModel",
          "state": {
            "_model_module": "@jupyter-widgets/base",
            "_model_module_version": "1.2.0",
            "_model_name": "LayoutModel",
            "_view_count": null,
            "_view_module": "@jupyter-widgets/base",
            "_view_module_version": "1.2.0",
            "_view_name": "LayoutView",
            "align_content": null,
            "align_items": null,
            "align_self": null,
            "border": null,
            "bottom": null,
            "display": null,
            "flex": null,
            "flex_flow": null,
            "grid_area": null,
            "grid_auto_columns": null,
            "grid_auto_flow": null,
            "grid_auto_rows": null,
            "grid_column": null,
            "grid_gap": null,
            "grid_row": null,
            "grid_template_areas": null,
            "grid_template_columns": null,
            "grid_template_rows": null,
            "height": null,
            "justify_content": null,
            "justify_items": null,
            "left": null,
            "margin": null,
            "max_height": null,
            "max_width": null,
            "min_height": null,
            "min_width": null,
            "object_fit": null,
            "object_position": null,
            "order": null,
            "overflow": null,
            "overflow_x": null,
            "overflow_y": null,
            "padding": null,
            "right": null,
            "top": null,
            "visibility": null,
            "width": null
          }
        },
        "23c38a0ef244450db863851f13d74311": {
          "model_module": "@jupyter-widgets/controls",
          "model_module_version": "1.5.0",
          "model_name": "HTMLModel",
          "state": {
            "_dom_classes": [],
            "_model_module": "@jupyter-widgets/controls",
            "_model_module_version": "1.5.0",
            "_model_name": "HTMLModel",
            "_view_count": null,
            "_view_module": "@jupyter-widgets/controls",
            "_view_module_version": "1.5.0",
            "_view_name": "HTMLView",
            "description": "",
            "description_tooltip": null,
            "layout": "IPY_MODEL_d010da76684a44308210654db90becce",
            "placeholder": "​",
            "style": "IPY_MODEL_90f5abc3db6b4f659ebe7b0d74f0dbcd",
            "value": " 12806/12806 [02:43&lt;00:00, 131.00 examples/s]"
          }
        },
        "27dd39173ac54fa384259f03881d592f": {
          "model_module": "@jupyter-widgets/controls",
          "model_module_version": "1.5.0",
          "model_name": "FloatProgressModel",
          "state": {
            "_dom_classes": [],
            "_model_module": "@jupyter-widgets/controls",
            "_model_module_version": "1.5.0",
            "_model_name": "FloatProgressModel",
            "_view_count": null,
            "_view_module": "@jupyter-widgets/controls",
            "_view_module_version": "1.5.0",
            "_view_name": "ProgressView",
            "bar_style": "success",
            "description": "",
            "description_tooltip": null,
            "layout": "IPY_MODEL_28e472c06eee466a87ad94caf18c2105",
            "max": 12806,
            "min": 0,
            "orientation": "horizontal",
            "style": "IPY_MODEL_deece1d971bb4c9ba8bfea49bda9cb04",
            "value": 12806
          }
        },
        "28e472c06eee466a87ad94caf18c2105": {
          "model_module": "@jupyter-widgets/base",
          "model_module_version": "1.2.0",
          "model_name": "LayoutModel",
          "state": {
            "_model_module": "@jupyter-widgets/base",
            "_model_module_version": "1.2.0",
            "_model_name": "LayoutModel",
            "_view_count": null,
            "_view_module": "@jupyter-widgets/base",
            "_view_module_version": "1.2.0",
            "_view_name": "LayoutView",
            "align_content": null,
            "align_items": null,
            "align_self": null,
            "border": null,
            "bottom": null,
            "display": null,
            "flex": null,
            "flex_flow": null,
            "grid_area": null,
            "grid_auto_columns": null,
            "grid_auto_flow": null,
            "grid_auto_rows": null,
            "grid_column": null,
            "grid_gap": null,
            "grid_row": null,
            "grid_template_areas": null,
            "grid_template_columns": null,
            "grid_template_rows": null,
            "height": null,
            "justify_content": null,
            "justify_items": null,
            "left": null,
            "margin": null,
            "max_height": null,
            "max_width": null,
            "min_height": null,
            "min_width": null,
            "object_fit": null,
            "object_position": null,
            "order": null,
            "overflow": null,
            "overflow_x": null,
            "overflow_y": null,
            "padding": null,
            "right": null,
            "top": null,
            "visibility": null,
            "width": null
          }
        },
        "2a199693ef664cbe8cce0613c1b51b67": {
          "model_module": "@jupyter-widgets/controls",
          "model_module_version": "1.5.0",
          "model_name": "HBoxModel",
          "state": {
            "_dom_classes": [],
            "_model_module": "@jupyter-widgets/controls",
            "_model_module_version": "1.5.0",
            "_model_name": "HBoxModel",
            "_view_count": null,
            "_view_module": "@jupyter-widgets/controls",
            "_view_module_version": "1.5.0",
            "_view_name": "HBoxView",
            "box_style": "",
            "children": [
              "IPY_MODEL_78bfd56b88844074bf028dfc564821cb",
              "IPY_MODEL_27dd39173ac54fa384259f03881d592f",
              "IPY_MODEL_3c47494183a9479aaf26d8158d9ab9c0"
            ],
            "layout": "IPY_MODEL_64c511f8f7334793a204b1db0f79093a"
          }
        },
        "320e1cf7b399497b8072c4c3060c341e": {
          "model_module": "@jupyter-widgets/base",
          "model_module_version": "1.2.0",
          "model_name": "LayoutModel",
          "state": {
            "_model_module": "@jupyter-widgets/base",
            "_model_module_version": "1.2.0",
            "_model_name": "LayoutModel",
            "_view_count": null,
            "_view_module": "@jupyter-widgets/base",
            "_view_module_version": "1.2.0",
            "_view_name": "LayoutView",
            "align_content": null,
            "align_items": null,
            "align_self": null,
            "border": null,
            "bottom": null,
            "display": null,
            "flex": null,
            "flex_flow": null,
            "grid_area": null,
            "grid_auto_columns": null,
            "grid_auto_flow": null,
            "grid_auto_rows": null,
            "grid_column": null,
            "grid_gap": null,
            "grid_row": null,
            "grid_template_areas": null,
            "grid_template_columns": null,
            "grid_template_rows": null,
            "height": null,
            "justify_content": null,
            "justify_items": null,
            "left": null,
            "margin": null,
            "max_height": null,
            "max_width": null,
            "min_height": null,
            "min_width": null,
            "object_fit": null,
            "object_position": null,
            "order": null,
            "overflow": null,
            "overflow_x": null,
            "overflow_y": null,
            "padding": null,
            "right": null,
            "top": null,
            "visibility": null,
            "width": null
          }
        },
        "34b7590aa0b04c408f77607135422c18": {
          "model_module": "@jupyter-widgets/controls",
          "model_module_version": "1.5.0",
          "model_name": "ProgressStyleModel",
          "state": {
            "_model_module": "@jupyter-widgets/controls",
            "_model_module_version": "1.5.0",
            "_model_name": "ProgressStyleModel",
            "_view_count": null,
            "_view_module": "@jupyter-widgets/base",
            "_view_module_version": "1.2.0",
            "_view_name": "StyleView",
            "bar_color": null,
            "description_width": ""
          }
        },
        "3652f0d899024dd38df98eb6fc3e678a": {
          "model_module": "@jupyter-widgets/base",
          "model_module_version": "1.2.0",
          "model_name": "LayoutModel",
          "state": {
            "_model_module": "@jupyter-widgets/base",
            "_model_module_version": "1.2.0",
            "_model_name": "LayoutModel",
            "_view_count": null,
            "_view_module": "@jupyter-widgets/base",
            "_view_module_version": "1.2.0",
            "_view_name": "LayoutView",
            "align_content": null,
            "align_items": null,
            "align_self": null,
            "border": null,
            "bottom": null,
            "display": null,
            "flex": null,
            "flex_flow": null,
            "grid_area": null,
            "grid_auto_columns": null,
            "grid_auto_flow": null,
            "grid_auto_rows": null,
            "grid_column": null,
            "grid_gap": null,
            "grid_row": null,
            "grid_template_areas": null,
            "grid_template_columns": null,
            "grid_template_rows": null,
            "height": null,
            "justify_content": null,
            "justify_items": null,
            "left": null,
            "margin": null,
            "max_height": null,
            "max_width": null,
            "min_height": null,
            "min_width": null,
            "object_fit": null,
            "object_position": null,
            "order": null,
            "overflow": null,
            "overflow_x": null,
            "overflow_y": null,
            "padding": null,
            "right": null,
            "top": null,
            "visibility": null,
            "width": null
          }
        },
        "37c6a4a3b32a48ca8e14065f361e34f4": {
          "model_module": "@jupyter-widgets/base",
          "model_module_version": "1.2.0",
          "model_name": "LayoutModel",
          "state": {
            "_model_module": "@jupyter-widgets/base",
            "_model_module_version": "1.2.0",
            "_model_name": "LayoutModel",
            "_view_count": null,
            "_view_module": "@jupyter-widgets/base",
            "_view_module_version": "1.2.0",
            "_view_name": "LayoutView",
            "align_content": null,
            "align_items": null,
            "align_self": null,
            "border": null,
            "bottom": null,
            "display": null,
            "flex": null,
            "flex_flow": null,
            "grid_area": null,
            "grid_auto_columns": null,
            "grid_auto_flow": null,
            "grid_auto_rows": null,
            "grid_column": null,
            "grid_gap": null,
            "grid_row": null,
            "grid_template_areas": null,
            "grid_template_columns": null,
            "grid_template_rows": null,
            "height": null,
            "justify_content": null,
            "justify_items": null,
            "left": null,
            "margin": null,
            "max_height": null,
            "max_width": null,
            "min_height": null,
            "min_width": null,
            "object_fit": null,
            "object_position": null,
            "order": null,
            "overflow": null,
            "overflow_x": null,
            "overflow_y": null,
            "padding": null,
            "right": null,
            "top": null,
            "visibility": null,
            "width": null
          }
        },
        "3c47494183a9479aaf26d8158d9ab9c0": {
          "model_module": "@jupyter-widgets/controls",
          "model_module_version": "1.5.0",
          "model_name": "HTMLModel",
          "state": {
            "_dom_classes": [],
            "_model_module": "@jupyter-widgets/controls",
            "_model_module_version": "1.5.0",
            "_model_name": "HTMLModel",
            "_view_count": null,
            "_view_module": "@jupyter-widgets/controls",
            "_view_module_version": "1.5.0",
            "_view_name": "HTMLView",
            "description": "",
            "description_tooltip": null,
            "layout": "IPY_MODEL_6d75d8c1a81045ce9cd6ed46d7322c2b",
            "placeholder": "​",
            "style": "IPY_MODEL_462f92d5c8c14ab4a7863be3e4bdefb4",
            "value": " 12806/12806 [00:04&lt;00:00, 2873.04 examples/s]"
          }
        },
        "40a007879fb049d28fafd0517f1f8b43": {
          "model_module": "@jupyter-widgets/controls",
          "model_module_version": "1.5.0",
          "model_name": "ProgressStyleModel",
          "state": {
            "_model_module": "@jupyter-widgets/controls",
            "_model_module_version": "1.5.0",
            "_model_name": "ProgressStyleModel",
            "_view_count": null,
            "_view_module": "@jupyter-widgets/base",
            "_view_module_version": "1.2.0",
            "_view_name": "StyleView",
            "bar_color": null,
            "description_width": ""
          }
        },
        "413ead644a644571a520f2d442f42c7b": {
          "model_module": "@jupyter-widgets/base",
          "model_module_version": "1.2.0",
          "model_name": "LayoutModel",
          "state": {
            "_model_module": "@jupyter-widgets/base",
            "_model_module_version": "1.2.0",
            "_model_name": "LayoutModel",
            "_view_count": null,
            "_view_module": "@jupyter-widgets/base",
            "_view_module_version": "1.2.0",
            "_view_name": "LayoutView",
            "align_content": null,
            "align_items": null,
            "align_self": null,
            "border": null,
            "bottom": null,
            "display": null,
            "flex": null,
            "flex_flow": null,
            "grid_area": null,
            "grid_auto_columns": null,
            "grid_auto_flow": null,
            "grid_auto_rows": null,
            "grid_column": null,
            "grid_gap": null,
            "grid_row": null,
            "grid_template_areas": null,
            "grid_template_columns": null,
            "grid_template_rows": null,
            "height": null,
            "justify_content": null,
            "justify_items": null,
            "left": null,
            "margin": null,
            "max_height": null,
            "max_width": null,
            "min_height": null,
            "min_width": null,
            "object_fit": null,
            "object_position": null,
            "order": null,
            "overflow": null,
            "overflow_x": null,
            "overflow_y": null,
            "padding": null,
            "right": null,
            "top": null,
            "visibility": null,
            "width": null
          }
        },
        "414e35f8622f46df914fd9ad33cdcb41": {
          "model_module": "@jupyter-widgets/controls",
          "model_module_version": "1.5.0",
          "model_name": "ProgressStyleModel",
          "state": {
            "_model_module": "@jupyter-widgets/controls",
            "_model_module_version": "1.5.0",
            "_model_name": "ProgressStyleModel",
            "_view_count": null,
            "_view_module": "@jupyter-widgets/base",
            "_view_module_version": "1.2.0",
            "_view_name": "StyleView",
            "bar_color": null,
            "description_width": ""
          }
        },
        "41a9e148eb3749dda0caeb3019db0c15": {
          "model_module": "@jupyter-widgets/controls",
          "model_module_version": "1.5.0",
          "model_name": "FloatProgressModel",
          "state": {
            "_dom_classes": [],
            "_model_module": "@jupyter-widgets/controls",
            "_model_module_version": "1.5.0",
            "_model_name": "FloatProgressModel",
            "_view_count": null,
            "_view_module": "@jupyter-widgets/controls",
            "_view_module_version": "1.5.0",
            "_view_name": "ProgressView",
            "bar_style": "success",
            "description": "",
            "description_tooltip": null,
            "layout": "IPY_MODEL_37c6a4a3b32a48ca8e14065f361e34f4",
            "max": 5213,
            "min": 0,
            "orientation": "horizontal",
            "style": "IPY_MODEL_4d98873ca3f246b5a04d89bc424ecf59",
            "value": 5213
          }
        },
        "424c1fb544a94d6e80833067fcb295af": {
          "model_module": "@jupyter-widgets/controls",
          "model_module_version": "1.5.0",
          "model_name": "HTMLModel",
          "state": {
            "_dom_classes": [],
            "_model_module": "@jupyter-widgets/controls",
            "_model_module_version": "1.5.0",
            "_model_name": "HTMLModel",
            "_view_count": null,
            "_view_module": "@jupyter-widgets/controls",
            "_view_module_version": "1.5.0",
            "_view_name": "HTMLView",
            "description": "",
            "description_tooltip": null,
            "layout": "IPY_MODEL_f2e80e07b6f6458f8f8121c8ae0167ff",
            "placeholder": "​",
            "style": "IPY_MODEL_71320383c00d44d3af6a30b69a386179",
            "value": " 5213/5213 [04:41&lt;00:00, 34.78 examples/s]"
          }
        },
        "43557ccf6a404ed9a8adabcf1036445f": {
          "model_module": "@jupyter-widgets/base",
          "model_module_version": "1.2.0",
          "model_name": "LayoutModel",
          "state": {
            "_model_module": "@jupyter-widgets/base",
            "_model_module_version": "1.2.0",
            "_model_name": "LayoutModel",
            "_view_count": null,
            "_view_module": "@jupyter-widgets/base",
            "_view_module_version": "1.2.0",
            "_view_name": "LayoutView",
            "align_content": null,
            "align_items": null,
            "align_self": null,
            "border": null,
            "bottom": null,
            "display": null,
            "flex": null,
            "flex_flow": null,
            "grid_area": null,
            "grid_auto_columns": null,
            "grid_auto_flow": null,
            "grid_auto_rows": null,
            "grid_column": null,
            "grid_gap": null,
            "grid_row": null,
            "grid_template_areas": null,
            "grid_template_columns": null,
            "grid_template_rows": null,
            "height": null,
            "justify_content": null,
            "justify_items": null,
            "left": null,
            "margin": null,
            "max_height": null,
            "max_width": null,
            "min_height": null,
            "min_width": null,
            "object_fit": null,
            "object_position": null,
            "order": null,
            "overflow": null,
            "overflow_x": null,
            "overflow_y": null,
            "padding": null,
            "right": null,
            "top": null,
            "visibility": null,
            "width": null
          }
        },
        "438daf160a294b4fa165fcdf740187ce": {
          "model_module": "@jupyter-widgets/controls",
          "model_module_version": "1.5.0",
          "model_name": "DescriptionStyleModel",
          "state": {
            "_model_module": "@jupyter-widgets/controls",
            "_model_module_version": "1.5.0",
            "_model_name": "DescriptionStyleModel",
            "_view_count": null,
            "_view_module": "@jupyter-widgets/base",
            "_view_module_version": "1.2.0",
            "_view_name": "StyleView",
            "description_width": ""
          }
        },
        "44b541e529b140b882588e38b1d60619": {
          "model_module": "@jupyter-widgets/controls",
          "model_module_version": "1.5.0",
          "model_name": "ProgressStyleModel",
          "state": {
            "_model_module": "@jupyter-widgets/controls",
            "_model_module_version": "1.5.0",
            "_model_name": "ProgressStyleModel",
            "_view_count": null,
            "_view_module": "@jupyter-widgets/base",
            "_view_module_version": "1.2.0",
            "_view_name": "StyleView",
            "bar_color": null,
            "description_width": ""
          }
        },
        "456279464a9649468db10c39ec07a87e": {
          "model_module": "@jupyter-widgets/controls",
          "model_module_version": "1.5.0",
          "model_name": "DescriptionStyleModel",
          "state": {
            "_model_module": "@jupyter-widgets/controls",
            "_model_module_version": "1.5.0",
            "_model_name": "DescriptionStyleModel",
            "_view_count": null,
            "_view_module": "@jupyter-widgets/base",
            "_view_module_version": "1.2.0",
            "_view_name": "StyleView",
            "description_width": ""
          }
        },
        "462f92d5c8c14ab4a7863be3e4bdefb4": {
          "model_module": "@jupyter-widgets/controls",
          "model_module_version": "1.5.0",
          "model_name": "DescriptionStyleModel",
          "state": {
            "_model_module": "@jupyter-widgets/controls",
            "_model_module_version": "1.5.0",
            "_model_name": "DescriptionStyleModel",
            "_view_count": null,
            "_view_module": "@jupyter-widgets/base",
            "_view_module_version": "1.2.0",
            "_view_name": "StyleView",
            "description_width": ""
          }
        },
        "463a8a26e33f4031b93fe6195bc39041": {
          "model_module": "@jupyter-widgets/controls",
          "model_module_version": "1.5.0",
          "model_name": "FloatProgressModel",
          "state": {
            "_dom_classes": [],
            "_model_module": "@jupyter-widgets/controls",
            "_model_module_version": "1.5.0",
            "_model_name": "FloatProgressModel",
            "_view_count": null,
            "_view_module": "@jupyter-widgets/controls",
            "_view_module_version": "1.5.0",
            "_view_name": "ProgressView",
            "bar_style": "success",
            "description": "",
            "description_tooltip": null,
            "layout": "IPY_MODEL_51da9460bb48434ebdb1eb04ee17189c",
            "max": 5213,
            "min": 0,
            "orientation": "horizontal",
            "style": "IPY_MODEL_44b541e529b140b882588e38b1d60619",
            "value": 5213
          }
        },
        "4c52ba15e5eb4ad891bc1d53e18b949d": {
          "model_module": "@jupyter-widgets/controls",
          "model_module_version": "1.5.0",
          "model_name": "HTMLModel",
          "state": {
            "_dom_classes": [],
            "_model_module": "@jupyter-widgets/controls",
            "_model_module_version": "1.5.0",
            "_model_name": "HTMLModel",
            "_view_count": null,
            "_view_module": "@jupyter-widgets/controls",
            "_view_module_version": "1.5.0",
            "_view_name": "HTMLView",
            "description": "",
            "description_tooltip": null,
            "layout": "IPY_MODEL_3652f0d899024dd38df98eb6fc3e678a",
            "placeholder": "​",
            "style": "IPY_MODEL_0bcc5000988b431b916d8fb287768ff4",
            "value": " 5213/5213 [03:12&lt;00:00, 28.04 examples/s]"
          }
        },
        "4d98873ca3f246b5a04d89bc424ecf59": {
          "model_module": "@jupyter-widgets/controls",
          "model_module_version": "1.5.0",
          "model_name": "ProgressStyleModel",
          "state": {
            "_model_module": "@jupyter-widgets/controls",
            "_model_module_version": "1.5.0",
            "_model_name": "ProgressStyleModel",
            "_view_count": null,
            "_view_module": "@jupyter-widgets/base",
            "_view_module_version": "1.2.0",
            "_view_name": "StyleView",
            "bar_color": null,
            "description_width": ""
          }
        },
        "51da9460bb48434ebdb1eb04ee17189c": {
          "model_module": "@jupyter-widgets/base",
          "model_module_version": "1.2.0",
          "model_name": "LayoutModel",
          "state": {
            "_model_module": "@jupyter-widgets/base",
            "_model_module_version": "1.2.0",
            "_model_name": "LayoutModel",
            "_view_count": null,
            "_view_module": "@jupyter-widgets/base",
            "_view_module_version": "1.2.0",
            "_view_name": "LayoutView",
            "align_content": null,
            "align_items": null,
            "align_self": null,
            "border": null,
            "bottom": null,
            "display": null,
            "flex": null,
            "flex_flow": null,
            "grid_area": null,
            "grid_auto_columns": null,
            "grid_auto_flow": null,
            "grid_auto_rows": null,
            "grid_column": null,
            "grid_gap": null,
            "grid_row": null,
            "grid_template_areas": null,
            "grid_template_columns": null,
            "grid_template_rows": null,
            "height": null,
            "justify_content": null,
            "justify_items": null,
            "left": null,
            "margin": null,
            "max_height": null,
            "max_width": null,
            "min_height": null,
            "min_width": null,
            "object_fit": null,
            "object_position": null,
            "order": null,
            "overflow": null,
            "overflow_x": null,
            "overflow_y": null,
            "padding": null,
            "right": null,
            "top": null,
            "visibility": null,
            "width": null
          }
        },
        "539ac60533ac4722b82f1da746d41741": {
          "model_module": "@jupyter-widgets/base",
          "model_module_version": "1.2.0",
          "model_name": "LayoutModel",
          "state": {
            "_model_module": "@jupyter-widgets/base",
            "_model_module_version": "1.2.0",
            "_model_name": "LayoutModel",
            "_view_count": null,
            "_view_module": "@jupyter-widgets/base",
            "_view_module_version": "1.2.0",
            "_view_name": "LayoutView",
            "align_content": null,
            "align_items": null,
            "align_self": null,
            "border": null,
            "bottom": null,
            "display": null,
            "flex": null,
            "flex_flow": null,
            "grid_area": null,
            "grid_auto_columns": null,
            "grid_auto_flow": null,
            "grid_auto_rows": null,
            "grid_column": null,
            "grid_gap": null,
            "grid_row": null,
            "grid_template_areas": null,
            "grid_template_columns": null,
            "grid_template_rows": null,
            "height": null,
            "justify_content": null,
            "justify_items": null,
            "left": null,
            "margin": null,
            "max_height": null,
            "max_width": null,
            "min_height": null,
            "min_width": null,
            "object_fit": null,
            "object_position": null,
            "order": null,
            "overflow": null,
            "overflow_x": null,
            "overflow_y": null,
            "padding": null,
            "right": null,
            "top": null,
            "visibility": null,
            "width": null
          }
        },
        "542a7f6143b545cebe5a837c63fea266": {
          "model_module": "@jupyter-widgets/controls",
          "model_module_version": "1.5.0",
          "model_name": "DescriptionStyleModel",
          "state": {
            "_model_module": "@jupyter-widgets/controls",
            "_model_module_version": "1.5.0",
            "_model_name": "DescriptionStyleModel",
            "_view_count": null,
            "_view_module": "@jupyter-widgets/base",
            "_view_module_version": "1.2.0",
            "_view_name": "StyleView",
            "description_width": ""
          }
        },
        "56bef070908f46cba526d31ec334677a": {
          "model_module": "@jupyter-widgets/controls",
          "model_module_version": "1.5.0",
          "model_name": "DescriptionStyleModel",
          "state": {
            "_model_module": "@jupyter-widgets/controls",
            "_model_module_version": "1.5.0",
            "_model_name": "DescriptionStyleModel",
            "_view_count": null,
            "_view_module": "@jupyter-widgets/base",
            "_view_module_version": "1.2.0",
            "_view_name": "StyleView",
            "description_width": ""
          }
        },
        "588ed0bb299f4fcb9dec71fcef612c8e": {
          "model_module": "@jupyter-widgets/controls",
          "model_module_version": "1.5.0",
          "model_name": "DescriptionStyleModel",
          "state": {
            "_model_module": "@jupyter-widgets/controls",
            "_model_module_version": "1.5.0",
            "_model_name": "DescriptionStyleModel",
            "_view_count": null,
            "_view_module": "@jupyter-widgets/base",
            "_view_module_version": "1.2.0",
            "_view_name": "StyleView",
            "description_width": ""
          }
        },
        "58f33f56c0cb421aacaf57975ff210f6": {
          "model_module": "@jupyter-widgets/base",
          "model_module_version": "1.2.0",
          "model_name": "LayoutModel",
          "state": {
            "_model_module": "@jupyter-widgets/base",
            "_model_module_version": "1.2.0",
            "_model_name": "LayoutModel",
            "_view_count": null,
            "_view_module": "@jupyter-widgets/base",
            "_view_module_version": "1.2.0",
            "_view_name": "LayoutView",
            "align_content": null,
            "align_items": null,
            "align_self": null,
            "border": null,
            "bottom": null,
            "display": null,
            "flex": null,
            "flex_flow": null,
            "grid_area": null,
            "grid_auto_columns": null,
            "grid_auto_flow": null,
            "grid_auto_rows": null,
            "grid_column": null,
            "grid_gap": null,
            "grid_row": null,
            "grid_template_areas": null,
            "grid_template_columns": null,
            "grid_template_rows": null,
            "height": null,
            "justify_content": null,
            "justify_items": null,
            "left": null,
            "margin": null,
            "max_height": null,
            "max_width": null,
            "min_height": null,
            "min_width": null,
            "object_fit": null,
            "object_position": null,
            "order": null,
            "overflow": null,
            "overflow_x": null,
            "overflow_y": null,
            "padding": null,
            "right": null,
            "top": null,
            "visibility": null,
            "width": null
          }
        },
        "59c4bf10c6e54939b548aaecd3458d98": {
          "model_module": "@jupyter-widgets/controls",
          "model_module_version": "1.5.0",
          "model_name": "HBoxModel",
          "state": {
            "_dom_classes": [],
            "_model_module": "@jupyter-widgets/controls",
            "_model_module_version": "1.5.0",
            "_model_name": "HBoxModel",
            "_view_count": null,
            "_view_module": "@jupyter-widgets/controls",
            "_view_module_version": "1.5.0",
            "_view_name": "HBoxView",
            "box_style": "",
            "children": [
              "IPY_MODEL_95e04a2fbb384ae7bfd28ba8ee5b1ac1",
              "IPY_MODEL_761a044f238c4840b1e8e1f3ff11283d",
              "IPY_MODEL_9e44f2ef2ad74fa4b07f65a560e8fc7b"
            ],
            "layout": "IPY_MODEL_2136ec747cc14f1ead005914f452bb6f"
          }
        },
        "5fe1e30107354089861f3eaab7ecfbe0": {
          "model_module": "@jupyter-widgets/controls",
          "model_module_version": "1.5.0",
          "model_name": "HBoxModel",
          "state": {
            "_dom_classes": [],
            "_model_module": "@jupyter-widgets/controls",
            "_model_module_version": "1.5.0",
            "_model_name": "HBoxModel",
            "_view_count": null,
            "_view_module": "@jupyter-widgets/controls",
            "_view_module_version": "1.5.0",
            "_view_name": "HBoxView",
            "box_style": "",
            "children": [
              "IPY_MODEL_0f1038bef2904331b63eb42a10eb7a70",
              "IPY_MODEL_d8bdfce02531448ea16e1eb4ac59f213",
              "IPY_MODEL_fa6bf4bb3b714640bd9883abb1023a80"
            ],
            "layout": "IPY_MODEL_ef00e9b35d9c4a489a6d00fadb423861"
          }
        },
        "62a8db43f7c84814b7f8be892ef4e7bc": {
          "model_module": "@jupyter-widgets/controls",
          "model_module_version": "1.5.0",
          "model_name": "HTMLModel",
          "state": {
            "_dom_classes": [],
            "_model_module": "@jupyter-widgets/controls",
            "_model_module_version": "1.5.0",
            "_model_name": "HTMLModel",
            "_view_count": null,
            "_view_module": "@jupyter-widgets/controls",
            "_view_module_version": "1.5.0",
            "_view_name": "HTMLView",
            "description": "",
            "description_tooltip": null,
            "layout": "IPY_MODEL_c7db00d926a34252ad667f3c292ee652",
            "placeholder": "​",
            "style": "IPY_MODEL_afd20d40270a4ad19c1ea61ebbe2825b",
            "value": " 12806/12806 [08:46&lt;00:00, 41.02 examples/s]"
          }
        },
        "64c511f8f7334793a204b1db0f79093a": {
          "model_module": "@jupyter-widgets/base",
          "model_module_version": "1.2.0",
          "model_name": "LayoutModel",
          "state": {
            "_model_module": "@jupyter-widgets/base",
            "_model_module_version": "1.2.0",
            "_model_name": "LayoutModel",
            "_view_count": null,
            "_view_module": "@jupyter-widgets/base",
            "_view_module_version": "1.2.0",
            "_view_name": "LayoutView",
            "align_content": null,
            "align_items": null,
            "align_self": null,
            "border": null,
            "bottom": null,
            "display": null,
            "flex": null,
            "flex_flow": null,
            "grid_area": null,
            "grid_auto_columns": null,
            "grid_auto_flow": null,
            "grid_auto_rows": null,
            "grid_column": null,
            "grid_gap": null,
            "grid_row": null,
            "grid_template_areas": null,
            "grid_template_columns": null,
            "grid_template_rows": null,
            "height": null,
            "justify_content": null,
            "justify_items": null,
            "left": null,
            "margin": null,
            "max_height": null,
            "max_width": null,
            "min_height": null,
            "min_width": null,
            "object_fit": null,
            "object_position": null,
            "order": null,
            "overflow": null,
            "overflow_x": null,
            "overflow_y": null,
            "padding": null,
            "right": null,
            "top": null,
            "visibility": null,
            "width": null
          }
        },
        "671e598ef6014334a43b95be549fa540": {
          "model_module": "@jupyter-widgets/base",
          "model_module_version": "1.2.0",
          "model_name": "LayoutModel",
          "state": {
            "_model_module": "@jupyter-widgets/base",
            "_model_module_version": "1.2.0",
            "_model_name": "LayoutModel",
            "_view_count": null,
            "_view_module": "@jupyter-widgets/base",
            "_view_module_version": "1.2.0",
            "_view_name": "LayoutView",
            "align_content": null,
            "align_items": null,
            "align_self": null,
            "border": null,
            "bottom": null,
            "display": null,
            "flex": null,
            "flex_flow": null,
            "grid_area": null,
            "grid_auto_columns": null,
            "grid_auto_flow": null,
            "grid_auto_rows": null,
            "grid_column": null,
            "grid_gap": null,
            "grid_row": null,
            "grid_template_areas": null,
            "grid_template_columns": null,
            "grid_template_rows": null,
            "height": null,
            "justify_content": null,
            "justify_items": null,
            "left": null,
            "margin": null,
            "max_height": null,
            "max_width": null,
            "min_height": null,
            "min_width": null,
            "object_fit": null,
            "object_position": null,
            "order": null,
            "overflow": null,
            "overflow_x": null,
            "overflow_y": null,
            "padding": null,
            "right": null,
            "top": null,
            "visibility": null,
            "width": null
          }
        },
        "67321dd7f2a44cd685429ab69258af5a": {
          "model_module": "@jupyter-widgets/base",
          "model_module_version": "1.2.0",
          "model_name": "LayoutModel",
          "state": {
            "_model_module": "@jupyter-widgets/base",
            "_model_module_version": "1.2.0",
            "_model_name": "LayoutModel",
            "_view_count": null,
            "_view_module": "@jupyter-widgets/base",
            "_view_module_version": "1.2.0",
            "_view_name": "LayoutView",
            "align_content": null,
            "align_items": null,
            "align_self": null,
            "border": null,
            "bottom": null,
            "display": null,
            "flex": null,
            "flex_flow": null,
            "grid_area": null,
            "grid_auto_columns": null,
            "grid_auto_flow": null,
            "grid_auto_rows": null,
            "grid_column": null,
            "grid_gap": null,
            "grid_row": null,
            "grid_template_areas": null,
            "grid_template_columns": null,
            "grid_template_rows": null,
            "height": null,
            "justify_content": null,
            "justify_items": null,
            "left": null,
            "margin": null,
            "max_height": null,
            "max_width": null,
            "min_height": null,
            "min_width": null,
            "object_fit": null,
            "object_position": null,
            "order": null,
            "overflow": null,
            "overflow_x": null,
            "overflow_y": null,
            "padding": null,
            "right": null,
            "top": null,
            "visibility": null,
            "width": null
          }
        },
        "6d75d8c1a81045ce9cd6ed46d7322c2b": {
          "model_module": "@jupyter-widgets/base",
          "model_module_version": "1.2.0",
          "model_name": "LayoutModel",
          "state": {
            "_model_module": "@jupyter-widgets/base",
            "_model_module_version": "1.2.0",
            "_model_name": "LayoutModel",
            "_view_count": null,
            "_view_module": "@jupyter-widgets/base",
            "_view_module_version": "1.2.0",
            "_view_name": "LayoutView",
            "align_content": null,
            "align_items": null,
            "align_self": null,
            "border": null,
            "bottom": null,
            "display": null,
            "flex": null,
            "flex_flow": null,
            "grid_area": null,
            "grid_auto_columns": null,
            "grid_auto_flow": null,
            "grid_auto_rows": null,
            "grid_column": null,
            "grid_gap": null,
            "grid_row": null,
            "grid_template_areas": null,
            "grid_template_columns": null,
            "grid_template_rows": null,
            "height": null,
            "justify_content": null,
            "justify_items": null,
            "left": null,
            "margin": null,
            "max_height": null,
            "max_width": null,
            "min_height": null,
            "min_width": null,
            "object_fit": null,
            "object_position": null,
            "order": null,
            "overflow": null,
            "overflow_x": null,
            "overflow_y": null,
            "padding": null,
            "right": null,
            "top": null,
            "visibility": null,
            "width": null
          }
        },
        "7076e1dd6647484b89986612321fb92e": {
          "model_module": "@jupyter-widgets/controls",
          "model_module_version": "1.5.0",
          "model_name": "DescriptionStyleModel",
          "state": {
            "_model_module": "@jupyter-widgets/controls",
            "_model_module_version": "1.5.0",
            "_model_name": "DescriptionStyleModel",
            "_view_count": null,
            "_view_module": "@jupyter-widgets/base",
            "_view_module_version": "1.2.0",
            "_view_name": "StyleView",
            "description_width": ""
          }
        },
        "70e7895ecd494d168d943f53484f5987": {
          "model_module": "@jupyter-widgets/base",
          "model_module_version": "1.2.0",
          "model_name": "LayoutModel",
          "state": {
            "_model_module": "@jupyter-widgets/base",
            "_model_module_version": "1.2.0",
            "_model_name": "LayoutModel",
            "_view_count": null,
            "_view_module": "@jupyter-widgets/base",
            "_view_module_version": "1.2.0",
            "_view_name": "LayoutView",
            "align_content": null,
            "align_items": null,
            "align_self": null,
            "border": null,
            "bottom": null,
            "display": null,
            "flex": null,
            "flex_flow": null,
            "grid_area": null,
            "grid_auto_columns": null,
            "grid_auto_flow": null,
            "grid_auto_rows": null,
            "grid_column": null,
            "grid_gap": null,
            "grid_row": null,
            "grid_template_areas": null,
            "grid_template_columns": null,
            "grid_template_rows": null,
            "height": null,
            "justify_content": null,
            "justify_items": null,
            "left": null,
            "margin": null,
            "max_height": null,
            "max_width": null,
            "min_height": null,
            "min_width": null,
            "object_fit": null,
            "object_position": null,
            "order": null,
            "overflow": null,
            "overflow_x": null,
            "overflow_y": null,
            "padding": null,
            "right": null,
            "top": null,
            "visibility": null,
            "width": null
          }
        },
        "71320383c00d44d3af6a30b69a386179": {
          "model_module": "@jupyter-widgets/controls",
          "model_module_version": "1.5.0",
          "model_name": "DescriptionStyleModel",
          "state": {
            "_model_module": "@jupyter-widgets/controls",
            "_model_module_version": "1.5.0",
            "_model_name": "DescriptionStyleModel",
            "_view_count": null,
            "_view_module": "@jupyter-widgets/base",
            "_view_module_version": "1.2.0",
            "_view_name": "StyleView",
            "description_width": ""
          }
        },
        "74f621213cd845d69a440a9e46819045": {
          "model_module": "@jupyter-widgets/base",
          "model_module_version": "1.2.0",
          "model_name": "LayoutModel",
          "state": {
            "_model_module": "@jupyter-widgets/base",
            "_model_module_version": "1.2.0",
            "_model_name": "LayoutModel",
            "_view_count": null,
            "_view_module": "@jupyter-widgets/base",
            "_view_module_version": "1.2.0",
            "_view_name": "LayoutView",
            "align_content": null,
            "align_items": null,
            "align_self": null,
            "border": null,
            "bottom": null,
            "display": null,
            "flex": null,
            "flex_flow": null,
            "grid_area": null,
            "grid_auto_columns": null,
            "grid_auto_flow": null,
            "grid_auto_rows": null,
            "grid_column": null,
            "grid_gap": null,
            "grid_row": null,
            "grid_template_areas": null,
            "grid_template_columns": null,
            "grid_template_rows": null,
            "height": null,
            "justify_content": null,
            "justify_items": null,
            "left": null,
            "margin": null,
            "max_height": null,
            "max_width": null,
            "min_height": null,
            "min_width": null,
            "object_fit": null,
            "object_position": null,
            "order": null,
            "overflow": null,
            "overflow_x": null,
            "overflow_y": null,
            "padding": null,
            "right": null,
            "top": null,
            "visibility": null,
            "width": null
          }
        },
        "761a044f238c4840b1e8e1f3ff11283d": {
          "model_module": "@jupyter-widgets/controls",
          "model_module_version": "1.5.0",
          "model_name": "FloatProgressModel",
          "state": {
            "_dom_classes": [],
            "_model_module": "@jupyter-widgets/controls",
            "_model_module_version": "1.5.0",
            "_model_name": "FloatProgressModel",
            "_view_count": null,
            "_view_module": "@jupyter-widgets/controls",
            "_view_module_version": "1.5.0",
            "_view_name": "ProgressView",
            "bar_style": "success",
            "description": "",
            "description_tooltip": null,
            "layout": "IPY_MODEL_320e1cf7b399497b8072c4c3060c341e",
            "max": 5213,
            "min": 0,
            "orientation": "horizontal",
            "style": "IPY_MODEL_765ec899594242e183a0dc4431e453a8",
            "value": 5213
          }
        },
        "765ec899594242e183a0dc4431e453a8": {
          "model_module": "@jupyter-widgets/controls",
          "model_module_version": "1.5.0",
          "model_name": "ProgressStyleModel",
          "state": {
            "_model_module": "@jupyter-widgets/controls",
            "_model_module_version": "1.5.0",
            "_model_name": "ProgressStyleModel",
            "_view_count": null,
            "_view_module": "@jupyter-widgets/base",
            "_view_module_version": "1.2.0",
            "_view_name": "StyleView",
            "bar_color": null,
            "description_width": ""
          }
        },
        "76ac873deaf64bcebc4013d1f765d60e": {
          "model_module": "@jupyter-widgets/controls",
          "model_module_version": "1.5.0",
          "model_name": "HTMLModel",
          "state": {
            "_dom_classes": [],
            "_model_module": "@jupyter-widgets/controls",
            "_model_module_version": "1.5.0",
            "_model_name": "HTMLModel",
            "_view_count": null,
            "_view_module": "@jupyter-widgets/controls",
            "_view_module_version": "1.5.0",
            "_view_name": "HTMLView",
            "description": "",
            "description_tooltip": null,
            "layout": "IPY_MODEL_be653c5506ab433398b39c21189874b5",
            "placeholder": "​",
            "style": "IPY_MODEL_1ff08ac42c204570bf58a61562c2263a",
            "value": "Map: 100%"
          }
        },
        "78bfd56b88844074bf028dfc564821cb": {
          "model_module": "@jupyter-widgets/controls",
          "model_module_version": "1.5.0",
          "model_name": "HTMLModel",
          "state": {
            "_dom_classes": [],
            "_model_module": "@jupyter-widgets/controls",
            "_model_module_version": "1.5.0",
            "_model_name": "HTMLModel",
            "_view_count": null,
            "_view_module": "@jupyter-widgets/controls",
            "_view_module_version": "1.5.0",
            "_view_name": "HTMLView",
            "description": "",
            "description_tooltip": null,
            "layout": "IPY_MODEL_de78f346485948ebbcdfd3a559ac36c9",
            "placeholder": "​",
            "style": "IPY_MODEL_856c749d7d2240178621f5e1b18ec8ce",
            "value": "Map: 100%"
          }
        },
        "7a31bd1220b54e37ba73305c4265558d": {
          "model_module": "@jupyter-widgets/base",
          "model_module_version": "1.2.0",
          "model_name": "LayoutModel",
          "state": {
            "_model_module": "@jupyter-widgets/base",
            "_model_module_version": "1.2.0",
            "_model_name": "LayoutModel",
            "_view_count": null,
            "_view_module": "@jupyter-widgets/base",
            "_view_module_version": "1.2.0",
            "_view_name": "LayoutView",
            "align_content": null,
            "align_items": null,
            "align_self": null,
            "border": null,
            "bottom": null,
            "display": null,
            "flex": null,
            "flex_flow": null,
            "grid_area": null,
            "grid_auto_columns": null,
            "grid_auto_flow": null,
            "grid_auto_rows": null,
            "grid_column": null,
            "grid_gap": null,
            "grid_row": null,
            "grid_template_areas": null,
            "grid_template_columns": null,
            "grid_template_rows": null,
            "height": null,
            "justify_content": null,
            "justify_items": null,
            "left": null,
            "margin": null,
            "max_height": null,
            "max_width": null,
            "min_height": null,
            "min_width": null,
            "object_fit": null,
            "object_position": null,
            "order": null,
            "overflow": null,
            "overflow_x": null,
            "overflow_y": null,
            "padding": null,
            "right": null,
            "top": null,
            "visibility": null,
            "width": null
          }
        },
        "7c056b2c4cce46aa8e10cdfc10818a9c": {
          "model_module": "@jupyter-widgets/controls",
          "model_module_version": "1.5.0",
          "model_name": "HTMLModel",
          "state": {
            "_dom_classes": [],
            "_model_module": "@jupyter-widgets/controls",
            "_model_module_version": "1.5.0",
            "_model_name": "HTMLModel",
            "_view_count": null,
            "_view_module": "@jupyter-widgets/controls",
            "_view_module_version": "1.5.0",
            "_view_name": "HTMLView",
            "description": "",
            "description_tooltip": null,
            "layout": "IPY_MODEL_20c098ebf6264773b78e0b7acd787025",
            "placeholder": "​",
            "style": "IPY_MODEL_1df59e1ba39646c3982f868f3393fae0",
            "value": "Filter: 100%"
          }
        },
        "7ce17563b0c649278de4f51b19897c43": {
          "model_module": "@jupyter-widgets/controls",
          "model_module_version": "1.5.0",
          "model_name": "HTMLModel",
          "state": {
            "_dom_classes": [],
            "_model_module": "@jupyter-widgets/controls",
            "_model_module_version": "1.5.0",
            "_model_name": "HTMLModel",
            "_view_count": null,
            "_view_module": "@jupyter-widgets/controls",
            "_view_module_version": "1.5.0",
            "_view_name": "HTMLView",
            "description": "",
            "description_tooltip": null,
            "layout": "IPY_MODEL_d5304180b0d7419bb682549122fb4497",
            "placeholder": "​",
            "style": "IPY_MODEL_20895a65e4d34bb9938c4cab8478f594",
            "value": " 12806/12806 [04:23&lt;00:00, 50.78 examples/s]"
          }
        },
        "7fa8bbb3fcdb408dbcfe715bb33423f2": {
          "model_module": "@jupyter-widgets/base",
          "model_module_version": "1.2.0",
          "model_name": "LayoutModel",
          "state": {
            "_model_module": "@jupyter-widgets/base",
            "_model_module_version": "1.2.0",
            "_model_name": "LayoutModel",
            "_view_count": null,
            "_view_module": "@jupyter-widgets/base",
            "_view_module_version": "1.2.0",
            "_view_name": "LayoutView",
            "align_content": null,
            "align_items": null,
            "align_self": null,
            "border": null,
            "bottom": null,
            "display": null,
            "flex": null,
            "flex_flow": null,
            "grid_area": null,
            "grid_auto_columns": null,
            "grid_auto_flow": null,
            "grid_auto_rows": null,
            "grid_column": null,
            "grid_gap": null,
            "grid_row": null,
            "grid_template_areas": null,
            "grid_template_columns": null,
            "grid_template_rows": null,
            "height": null,
            "justify_content": null,
            "justify_items": null,
            "left": null,
            "margin": null,
            "max_height": null,
            "max_width": null,
            "min_height": null,
            "min_width": null,
            "object_fit": null,
            "object_position": null,
            "order": null,
            "overflow": null,
            "overflow_x": null,
            "overflow_y": null,
            "padding": null,
            "right": null,
            "top": null,
            "visibility": null,
            "width": null
          }
        },
        "81373dd0990647a886736300c8a1bb6d": {
          "model_module": "@jupyter-widgets/base",
          "model_module_version": "1.2.0",
          "model_name": "LayoutModel",
          "state": {
            "_model_module": "@jupyter-widgets/base",
            "_model_module_version": "1.2.0",
            "_model_name": "LayoutModel",
            "_view_count": null,
            "_view_module": "@jupyter-widgets/base",
            "_view_module_version": "1.2.0",
            "_view_name": "LayoutView",
            "align_content": null,
            "align_items": null,
            "align_self": null,
            "border": null,
            "bottom": null,
            "display": null,
            "flex": null,
            "flex_flow": null,
            "grid_area": null,
            "grid_auto_columns": null,
            "grid_auto_flow": null,
            "grid_auto_rows": null,
            "grid_column": null,
            "grid_gap": null,
            "grid_row": null,
            "grid_template_areas": null,
            "grid_template_columns": null,
            "grid_template_rows": null,
            "height": null,
            "justify_content": null,
            "justify_items": null,
            "left": null,
            "margin": null,
            "max_height": null,
            "max_width": null,
            "min_height": null,
            "min_width": null,
            "object_fit": null,
            "object_position": null,
            "order": null,
            "overflow": null,
            "overflow_x": null,
            "overflow_y": null,
            "padding": null,
            "right": null,
            "top": null,
            "visibility": null,
            "width": null
          }
        },
        "826a8f0f35344cf99dfa6e7a15d2568c": {
          "model_module": "@jupyter-widgets/controls",
          "model_module_version": "1.5.0",
          "model_name": "HTMLModel",
          "state": {
            "_dom_classes": [],
            "_model_module": "@jupyter-widgets/controls",
            "_model_module_version": "1.5.0",
            "_model_name": "HTMLModel",
            "_view_count": null,
            "_view_module": "@jupyter-widgets/controls",
            "_view_module_version": "1.5.0",
            "_view_name": "HTMLView",
            "description": "",
            "description_tooltip": null,
            "layout": "IPY_MODEL_a41673dfdd6a4a1180fcbb03b5632a03",
            "placeholder": "​",
            "style": "IPY_MODEL_8625e0772ac4411ba7e0b73ee86b18e6",
            "value": "Map (num_proc=4): 100%"
          }
        },
        "856c749d7d2240178621f5e1b18ec8ce": {
          "model_module": "@jupyter-widgets/controls",
          "model_module_version": "1.5.0",
          "model_name": "DescriptionStyleModel",
          "state": {
            "_model_module": "@jupyter-widgets/controls",
            "_model_module_version": "1.5.0",
            "_model_name": "DescriptionStyleModel",
            "_view_count": null,
            "_view_module": "@jupyter-widgets/base",
            "_view_module_version": "1.2.0",
            "_view_name": "StyleView",
            "description_width": ""
          }
        },
        "8625e0772ac4411ba7e0b73ee86b18e6": {
          "model_module": "@jupyter-widgets/controls",
          "model_module_version": "1.5.0",
          "model_name": "DescriptionStyleModel",
          "state": {
            "_model_module": "@jupyter-widgets/controls",
            "_model_module_version": "1.5.0",
            "_model_name": "DescriptionStyleModel",
            "_view_count": null,
            "_view_module": "@jupyter-widgets/base",
            "_view_module_version": "1.2.0",
            "_view_name": "StyleView",
            "description_width": ""
          }
        },
        "86cf8dc0eea64aa0b2df2cfc1c0f2c0e": {
          "model_module": "@jupyter-widgets/controls",
          "model_module_version": "1.5.0",
          "model_name": "HTMLModel",
          "state": {
            "_dom_classes": [],
            "_model_module": "@jupyter-widgets/controls",
            "_model_module_version": "1.5.0",
            "_model_name": "HTMLModel",
            "_view_count": null,
            "_view_module": "@jupyter-widgets/controls",
            "_view_module_version": "1.5.0",
            "_view_name": "HTMLView",
            "description": "",
            "description_tooltip": null,
            "layout": "IPY_MODEL_81373dd0990647a886736300c8a1bb6d",
            "placeholder": "​",
            "style": "IPY_MODEL_56bef070908f46cba526d31ec334677a",
            "value": "Map: 100%"
          }
        },
        "8b19822049d449efb2a28e661f5fcf64": {
          "model_module": "@jupyter-widgets/controls",
          "model_module_version": "1.5.0",
          "model_name": "FloatProgressModel",
          "state": {
            "_dom_classes": [],
            "_model_module": "@jupyter-widgets/controls",
            "_model_module_version": "1.5.0",
            "_model_name": "FloatProgressModel",
            "_view_count": null,
            "_view_module": "@jupyter-widgets/controls",
            "_view_module_version": "1.5.0",
            "_view_name": "ProgressView",
            "bar_style": "success",
            "description": "",
            "description_tooltip": null,
            "layout": "IPY_MODEL_aa4927fd36694096a8788b725e2696b1",
            "max": 12806,
            "min": 0,
            "orientation": "horizontal",
            "style": "IPY_MODEL_d20d20c436cf4a4f9a46b712f5636afb",
            "value": 12806
          }
        },
        "8d19b46cf34e4319a7e5699bc9ddd46f": {
          "model_module": "@jupyter-widgets/controls",
          "model_module_version": "1.5.0",
          "model_name": "DescriptionStyleModel",
          "state": {
            "_model_module": "@jupyter-widgets/controls",
            "_model_module_version": "1.5.0",
            "_model_name": "DescriptionStyleModel",
            "_view_count": null,
            "_view_module": "@jupyter-widgets/base",
            "_view_module_version": "1.2.0",
            "_view_name": "StyleView",
            "description_width": ""
          }
        },
        "8fa48788a404438995fea8392cbf3c30": {
          "model_module": "@jupyter-widgets/base",
          "model_module_version": "1.2.0",
          "model_name": "LayoutModel",
          "state": {
            "_model_module": "@jupyter-widgets/base",
            "_model_module_version": "1.2.0",
            "_model_name": "LayoutModel",
            "_view_count": null,
            "_view_module": "@jupyter-widgets/base",
            "_view_module_version": "1.2.0",
            "_view_name": "LayoutView",
            "align_content": null,
            "align_items": null,
            "align_self": null,
            "border": null,
            "bottom": null,
            "display": null,
            "flex": null,
            "flex_flow": null,
            "grid_area": null,
            "grid_auto_columns": null,
            "grid_auto_flow": null,
            "grid_auto_rows": null,
            "grid_column": null,
            "grid_gap": null,
            "grid_row": null,
            "grid_template_areas": null,
            "grid_template_columns": null,
            "grid_template_rows": null,
            "height": null,
            "justify_content": null,
            "justify_items": null,
            "left": null,
            "margin": null,
            "max_height": null,
            "max_width": null,
            "min_height": null,
            "min_width": null,
            "object_fit": null,
            "object_position": null,
            "order": null,
            "overflow": null,
            "overflow_x": null,
            "overflow_y": null,
            "padding": null,
            "right": null,
            "top": null,
            "visibility": null,
            "width": null
          }
        },
        "90f5abc3db6b4f659ebe7b0d74f0dbcd": {
          "model_module": "@jupyter-widgets/controls",
          "model_module_version": "1.5.0",
          "model_name": "DescriptionStyleModel",
          "state": {
            "_model_module": "@jupyter-widgets/controls",
            "_model_module_version": "1.5.0",
            "_model_name": "DescriptionStyleModel",
            "_view_count": null,
            "_view_module": "@jupyter-widgets/base",
            "_view_module_version": "1.2.0",
            "_view_name": "StyleView",
            "description_width": ""
          }
        },
        "92169ae0f3724dbcab4ac5d81a803244": {
          "model_module": "@jupyter-widgets/controls",
          "model_module_version": "1.5.0",
          "model_name": "ProgressStyleModel",
          "state": {
            "_model_module": "@jupyter-widgets/controls",
            "_model_module_version": "1.5.0",
            "_model_name": "ProgressStyleModel",
            "_view_count": null,
            "_view_module": "@jupyter-widgets/base",
            "_view_module_version": "1.2.0",
            "_view_name": "StyleView",
            "bar_color": null,
            "description_width": ""
          }
        },
        "923626776d964ed1abba5134bd4af9f4": {
          "model_module": "@jupyter-widgets/controls",
          "model_module_version": "1.5.0",
          "model_name": "HTMLModel",
          "state": {
            "_dom_classes": [],
            "_model_module": "@jupyter-widgets/controls",
            "_model_module_version": "1.5.0",
            "_model_name": "HTMLModel",
            "_view_count": null,
            "_view_module": "@jupyter-widgets/controls",
            "_view_module_version": "1.5.0",
            "_view_name": "HTMLView",
            "description": "",
            "description_tooltip": null,
            "layout": "IPY_MODEL_413ead644a644571a520f2d442f42c7b",
            "placeholder": "​",
            "style": "IPY_MODEL_c12593c5c5a9489a9081b7ce104a0b92",
            "value": "Map: 100%"
          }
        },
        "95734de83ef04fb9a0d68293823552a6": {
          "model_module": "@jupyter-widgets/controls",
          "model_module_version": "1.5.0",
          "model_name": "HBoxModel",
          "state": {
            "_dom_classes": [],
            "_model_module": "@jupyter-widgets/controls",
            "_model_module_version": "1.5.0",
            "_model_name": "HBoxModel",
            "_view_count": null,
            "_view_module": "@jupyter-widgets/controls",
            "_view_module_version": "1.5.0",
            "_view_name": "HBoxView",
            "box_style": "",
            "children": [
              "IPY_MODEL_76ac873deaf64bcebc4013d1f765d60e",
              "IPY_MODEL_b6e5a74037a34a2b8d3d98073d626f82",
              "IPY_MODEL_21df38f745f54efb9dbfa82a7edf9b18"
            ],
            "layout": "IPY_MODEL_f85d06c0bcbf44d7ae22c9ca7b4cb6a0"
          }
        },
        "95e04a2fbb384ae7bfd28ba8ee5b1ac1": {
          "model_module": "@jupyter-widgets/controls",
          "model_module_version": "1.5.0",
          "model_name": "HTMLModel",
          "state": {
            "_dom_classes": [],
            "_model_module": "@jupyter-widgets/controls",
            "_model_module_version": "1.5.0",
            "_model_name": "HTMLModel",
            "_view_count": null,
            "_view_module": "@jupyter-widgets/controls",
            "_view_module_version": "1.5.0",
            "_view_name": "HTMLView",
            "description": "",
            "description_tooltip": null,
            "layout": "IPY_MODEL_539ac60533ac4722b82f1da746d41741",
            "placeholder": "​",
            "style": "IPY_MODEL_c8c2c0ee28a24d8bae673e0c4f9b4c7b",
            "value": "Map (num_proc=4): 100%"
          }
        },
        "972c51699a224df3a33c22b94f58c81f": {
          "model_module": "@jupyter-widgets/base",
          "model_module_version": "1.2.0",
          "model_name": "LayoutModel",
          "state": {
            "_model_module": "@jupyter-widgets/base",
            "_model_module_version": "1.2.0",
            "_model_name": "LayoutModel",
            "_view_count": null,
            "_view_module": "@jupyter-widgets/base",
            "_view_module_version": "1.2.0",
            "_view_name": "LayoutView",
            "align_content": null,
            "align_items": null,
            "align_self": null,
            "border": null,
            "bottom": null,
            "display": null,
            "flex": null,
            "flex_flow": null,
            "grid_area": null,
            "grid_auto_columns": null,
            "grid_auto_flow": null,
            "grid_auto_rows": null,
            "grid_column": null,
            "grid_gap": null,
            "grid_row": null,
            "grid_template_areas": null,
            "grid_template_columns": null,
            "grid_template_rows": null,
            "height": null,
            "justify_content": null,
            "justify_items": null,
            "left": null,
            "margin": null,
            "max_height": null,
            "max_width": null,
            "min_height": null,
            "min_width": null,
            "object_fit": null,
            "object_position": null,
            "order": null,
            "overflow": null,
            "overflow_x": null,
            "overflow_y": null,
            "padding": null,
            "right": null,
            "top": null,
            "visibility": null,
            "width": null
          }
        },
        "983963a128fe42479abc574a0dc4846c": {
          "model_module": "@jupyter-widgets/controls",
          "model_module_version": "1.5.0",
          "model_name": "DescriptionStyleModel",
          "state": {
            "_model_module": "@jupyter-widgets/controls",
            "_model_module_version": "1.5.0",
            "_model_name": "DescriptionStyleModel",
            "_view_count": null,
            "_view_module": "@jupyter-widgets/base",
            "_view_module_version": "1.2.0",
            "_view_name": "StyleView",
            "description_width": ""
          }
        },
        "99574ac88e0843658a174a80bdcb852f": {
          "model_module": "@jupyter-widgets/controls",
          "model_module_version": "1.5.0",
          "model_name": "DescriptionStyleModel",
          "state": {
            "_model_module": "@jupyter-widgets/controls",
            "_model_module_version": "1.5.0",
            "_model_name": "DescriptionStyleModel",
            "_view_count": null,
            "_view_module": "@jupyter-widgets/base",
            "_view_module_version": "1.2.0",
            "_view_name": "StyleView",
            "description_width": ""
          }
        },
        "9e44f2ef2ad74fa4b07f65a560e8fc7b": {
          "model_module": "@jupyter-widgets/controls",
          "model_module_version": "1.5.0",
          "model_name": "HTMLModel",
          "state": {
            "_dom_classes": [],
            "_model_module": "@jupyter-widgets/controls",
            "_model_module_version": "1.5.0",
            "_model_name": "HTMLModel",
            "_view_count": null,
            "_view_module": "@jupyter-widgets/controls",
            "_view_module_version": "1.5.0",
            "_view_name": "HTMLView",
            "description": "",
            "description_tooltip": null,
            "layout": "IPY_MODEL_d5724a201c21466aafeb6fb5f1c6abb5",
            "placeholder": "​",
            "style": "IPY_MODEL_7076e1dd6647484b89986612321fb92e",
            "value": " 5213/5213 [02:17&lt;00:00, 53.02 examples/s]"
          }
        },
        "9f0119ee27b64f0d8abb6ac6413b4d33": {
          "model_module": "@jupyter-widgets/base",
          "model_module_version": "1.2.0",
          "model_name": "LayoutModel",
          "state": {
            "_model_module": "@jupyter-widgets/base",
            "_model_module_version": "1.2.0",
            "_model_name": "LayoutModel",
            "_view_count": null,
            "_view_module": "@jupyter-widgets/base",
            "_view_module_version": "1.2.0",
            "_view_name": "LayoutView",
            "align_content": null,
            "align_items": null,
            "align_self": null,
            "border": null,
            "bottom": null,
            "display": null,
            "flex": null,
            "flex_flow": null,
            "grid_area": null,
            "grid_auto_columns": null,
            "grid_auto_flow": null,
            "grid_auto_rows": null,
            "grid_column": null,
            "grid_gap": null,
            "grid_row": null,
            "grid_template_areas": null,
            "grid_template_columns": null,
            "grid_template_rows": null,
            "height": null,
            "justify_content": null,
            "justify_items": null,
            "left": null,
            "margin": null,
            "max_height": null,
            "max_width": null,
            "min_height": null,
            "min_width": null,
            "object_fit": null,
            "object_position": null,
            "order": null,
            "overflow": null,
            "overflow_x": null,
            "overflow_y": null,
            "padding": null,
            "right": null,
            "top": null,
            "visibility": null,
            "width": null
          }
        },
        "a1533d2f0dd04f2abbf39ced50d3cf72": {
          "model_module": "@jupyter-widgets/controls",
          "model_module_version": "1.5.0",
          "model_name": "HTMLModel",
          "state": {
            "_dom_classes": [],
            "_model_module": "@jupyter-widgets/controls",
            "_model_module_version": "1.5.0",
            "_model_name": "HTMLModel",
            "_view_count": null,
            "_view_module": "@jupyter-widgets/controls",
            "_view_module_version": "1.5.0",
            "_view_name": "HTMLView",
            "description": "",
            "description_tooltip": null,
            "layout": "IPY_MODEL_7fa8bbb3fcdb408dbcfe715bb33423f2",
            "placeholder": "​",
            "style": "IPY_MODEL_99574ac88e0843658a174a80bdcb852f",
            "value": "Map: 100%"
          }
        },
        "a19e76df7a2d472f905f05cb24c7dc26": {
          "model_module": "@jupyter-widgets/base",
          "model_module_version": "1.2.0",
          "model_name": "LayoutModel",
          "state": {
            "_model_module": "@jupyter-widgets/base",
            "_model_module_version": "1.2.0",
            "_model_name": "LayoutModel",
            "_view_count": null,
            "_view_module": "@jupyter-widgets/base",
            "_view_module_version": "1.2.0",
            "_view_name": "LayoutView",
            "align_content": null,
            "align_items": null,
            "align_self": null,
            "border": null,
            "bottom": null,
            "display": null,
            "flex": null,
            "flex_flow": null,
            "grid_area": null,
            "grid_auto_columns": null,
            "grid_auto_flow": null,
            "grid_auto_rows": null,
            "grid_column": null,
            "grid_gap": null,
            "grid_row": null,
            "grid_template_areas": null,
            "grid_template_columns": null,
            "grid_template_rows": null,
            "height": null,
            "justify_content": null,
            "justify_items": null,
            "left": null,
            "margin": null,
            "max_height": null,
            "max_width": null,
            "min_height": null,
            "min_width": null,
            "object_fit": null,
            "object_position": null,
            "order": null,
            "overflow": null,
            "overflow_x": null,
            "overflow_y": null,
            "padding": null,
            "right": null,
            "top": null,
            "visibility": null,
            "width": null
          }
        },
        "a41673dfdd6a4a1180fcbb03b5632a03": {
          "model_module": "@jupyter-widgets/base",
          "model_module_version": "1.2.0",
          "model_name": "LayoutModel",
          "state": {
            "_model_module": "@jupyter-widgets/base",
            "_model_module_version": "1.2.0",
            "_model_name": "LayoutModel",
            "_view_count": null,
            "_view_module": "@jupyter-widgets/base",
            "_view_module_version": "1.2.0",
            "_view_name": "LayoutView",
            "align_content": null,
            "align_items": null,
            "align_self": null,
            "border": null,
            "bottom": null,
            "display": null,
            "flex": null,
            "flex_flow": null,
            "grid_area": null,
            "grid_auto_columns": null,
            "grid_auto_flow": null,
            "grid_auto_rows": null,
            "grid_column": null,
            "grid_gap": null,
            "grid_row": null,
            "grid_template_areas": null,
            "grid_template_columns": null,
            "grid_template_rows": null,
            "height": null,
            "justify_content": null,
            "justify_items": null,
            "left": null,
            "margin": null,
            "max_height": null,
            "max_width": null,
            "min_height": null,
            "min_width": null,
            "object_fit": null,
            "object_position": null,
            "order": null,
            "overflow": null,
            "overflow_x": null,
            "overflow_y": null,
            "padding": null,
            "right": null,
            "top": null,
            "visibility": null,
            "width": null
          }
        },
        "a8a14014e02e44bbb181f7e612e8a27e": {
          "model_module": "@jupyter-widgets/base",
          "model_module_version": "1.2.0",
          "model_name": "LayoutModel",
          "state": {
            "_model_module": "@jupyter-widgets/base",
            "_model_module_version": "1.2.0",
            "_model_name": "LayoutModel",
            "_view_count": null,
            "_view_module": "@jupyter-widgets/base",
            "_view_module_version": "1.2.0",
            "_view_name": "LayoutView",
            "align_content": null,
            "align_items": null,
            "align_self": null,
            "border": null,
            "bottom": null,
            "display": null,
            "flex": null,
            "flex_flow": null,
            "grid_area": null,
            "grid_auto_columns": null,
            "grid_auto_flow": null,
            "grid_auto_rows": null,
            "grid_column": null,
            "grid_gap": null,
            "grid_row": null,
            "grid_template_areas": null,
            "grid_template_columns": null,
            "grid_template_rows": null,
            "height": null,
            "justify_content": null,
            "justify_items": null,
            "left": null,
            "margin": null,
            "max_height": null,
            "max_width": null,
            "min_height": null,
            "min_width": null,
            "object_fit": null,
            "object_position": null,
            "order": null,
            "overflow": null,
            "overflow_x": null,
            "overflow_y": null,
            "padding": null,
            "right": null,
            "top": null,
            "visibility": null,
            "width": null
          }
        },
        "aa4927fd36694096a8788b725e2696b1": {
          "model_module": "@jupyter-widgets/base",
          "model_module_version": "1.2.0",
          "model_name": "LayoutModel",
          "state": {
            "_model_module": "@jupyter-widgets/base",
            "_model_module_version": "1.2.0",
            "_model_name": "LayoutModel",
            "_view_count": null,
            "_view_module": "@jupyter-widgets/base",
            "_view_module_version": "1.2.0",
            "_view_name": "LayoutView",
            "align_content": null,
            "align_items": null,
            "align_self": null,
            "border": null,
            "bottom": null,
            "display": null,
            "flex": null,
            "flex_flow": null,
            "grid_area": null,
            "grid_auto_columns": null,
            "grid_auto_flow": null,
            "grid_auto_rows": null,
            "grid_column": null,
            "grid_gap": null,
            "grid_row": null,
            "grid_template_areas": null,
            "grid_template_columns": null,
            "grid_template_rows": null,
            "height": null,
            "justify_content": null,
            "justify_items": null,
            "left": null,
            "margin": null,
            "max_height": null,
            "max_width": null,
            "min_height": null,
            "min_width": null,
            "object_fit": null,
            "object_position": null,
            "order": null,
            "overflow": null,
            "overflow_x": null,
            "overflow_y": null,
            "padding": null,
            "right": null,
            "top": null,
            "visibility": null,
            "width": null
          }
        },
        "ab25d7d2aee24c0680b1e257f3fb32ba": {
          "model_module": "@jupyter-widgets/controls",
          "model_module_version": "1.5.0",
          "model_name": "HTMLModel",
          "state": {
            "_dom_classes": [],
            "_model_module": "@jupyter-widgets/controls",
            "_model_module_version": "1.5.0",
            "_model_name": "HTMLModel",
            "_view_count": null,
            "_view_module": "@jupyter-widgets/controls",
            "_view_module_version": "1.5.0",
            "_view_name": "HTMLView",
            "description": "",
            "description_tooltip": null,
            "layout": "IPY_MODEL_8fa48788a404438995fea8392cbf3c30",
            "placeholder": "​",
            "style": "IPY_MODEL_588ed0bb299f4fcb9dec71fcef612c8e",
            "value": " 12806/12806 [06:27&lt;00:00, 31.19 examples/s]"
          }
        },
        "af90e9b8a39446c0aab6c64239adbdd3": {
          "model_module": "@jupyter-widgets/controls",
          "model_module_version": "1.5.0",
          "model_name": "HBoxModel",
          "state": {
            "_dom_classes": [],
            "_model_module": "@jupyter-widgets/controls",
            "_model_module_version": "1.5.0",
            "_model_name": "HBoxModel",
            "_view_count": null,
            "_view_module": "@jupyter-widgets/controls",
            "_view_module_version": "1.5.0",
            "_view_name": "HBoxView",
            "box_style": "",
            "children": [
              "IPY_MODEL_7c056b2c4cce46aa8e10cdfc10818a9c",
              "IPY_MODEL_1a5d14688e944272946565b538b68ec4",
              "IPY_MODEL_ab25d7d2aee24c0680b1e257f3fb32ba"
            ],
            "layout": "IPY_MODEL_671e598ef6014334a43b95be549fa540"
          }
        },
        "afd20d40270a4ad19c1ea61ebbe2825b": {
          "model_module": "@jupyter-widgets/controls",
          "model_module_version": "1.5.0",
          "model_name": "DescriptionStyleModel",
          "state": {
            "_model_module": "@jupyter-widgets/controls",
            "_model_module_version": "1.5.0",
            "_model_name": "DescriptionStyleModel",
            "_view_count": null,
            "_view_module": "@jupyter-widgets/base",
            "_view_module_version": "1.2.0",
            "_view_name": "StyleView",
            "description_width": ""
          }
        },
        "b26d75f168d6435abb85bbaf4b2c8767": {
          "model_module": "@jupyter-widgets/controls",
          "model_module_version": "1.5.0",
          "model_name": "HBoxModel",
          "state": {
            "_dom_classes": [],
            "_model_module": "@jupyter-widgets/controls",
            "_model_module_version": "1.5.0",
            "_model_name": "HBoxModel",
            "_view_count": null,
            "_view_module": "@jupyter-widgets/controls",
            "_view_module_version": "1.5.0",
            "_view_name": "HBoxView",
            "box_style": "",
            "children": [
              "IPY_MODEL_cd579ccc54424fb692fe73c7864b8dfb",
              "IPY_MODEL_cbf27a818861428c9482e0a8da7680ec",
              "IPY_MODEL_4c52ba15e5eb4ad891bc1d53e18b949d"
            ],
            "layout": "IPY_MODEL_d4d6ab71aba64394a4b74a2a95b4d458"
          }
        },
        "b6e5a74037a34a2b8d3d98073d626f82": {
          "model_module": "@jupyter-widgets/controls",
          "model_module_version": "1.5.0",
          "model_name": "FloatProgressModel",
          "state": {
            "_dom_classes": [],
            "_model_module": "@jupyter-widgets/controls",
            "_model_module_version": "1.5.0",
            "_model_name": "FloatProgressModel",
            "_view_count": null,
            "_view_module": "@jupyter-widgets/controls",
            "_view_module_version": "1.5.0",
            "_view_name": "ProgressView",
            "bar_style": "success",
            "description": "",
            "description_tooltip": null,
            "layout": "IPY_MODEL_43557ccf6a404ed9a8adabcf1036445f",
            "max": 12806,
            "min": 0,
            "orientation": "horizontal",
            "style": "IPY_MODEL_414e35f8622f46df914fd9ad33cdcb41",
            "value": 12806
          }
        },
        "b82866a33a4f48cf9885410e451f615d": {
          "model_module": "@jupyter-widgets/controls",
          "model_module_version": "1.5.0",
          "model_name": "ProgressStyleModel",
          "state": {
            "_model_module": "@jupyter-widgets/controls",
            "_model_module_version": "1.5.0",
            "_model_name": "ProgressStyleModel",
            "_view_count": null,
            "_view_module": "@jupyter-widgets/base",
            "_view_module_version": "1.2.0",
            "_view_name": "StyleView",
            "bar_color": null,
            "description_width": ""
          }
        },
        "bcc4cc4815a940469329a87bff3a4435": {
          "model_module": "@jupyter-widgets/controls",
          "model_module_version": "1.5.0",
          "model_name": "FloatProgressModel",
          "state": {
            "_dom_classes": [],
            "_model_module": "@jupyter-widgets/controls",
            "_model_module_version": "1.5.0",
            "_model_name": "FloatProgressModel",
            "_view_count": null,
            "_view_module": "@jupyter-widgets/controls",
            "_view_module_version": "1.5.0",
            "_view_name": "ProgressView",
            "bar_style": "success",
            "description": "",
            "description_tooltip": null,
            "layout": "IPY_MODEL_a8a14014e02e44bbb181f7e612e8a27e",
            "max": 12806,
            "min": 0,
            "orientation": "horizontal",
            "style": "IPY_MODEL_d6d411248c6748cf944ccf177c04babe",
            "value": 12806
          }
        },
        "bd73c3f8ac0e40208857f31adef8524a": {
          "model_module": "@jupyter-widgets/controls",
          "model_module_version": "1.5.0",
          "model_name": "ProgressStyleModel",
          "state": {
            "_model_module": "@jupyter-widgets/controls",
            "_model_module_version": "1.5.0",
            "_model_name": "ProgressStyleModel",
            "_view_count": null,
            "_view_module": "@jupyter-widgets/base",
            "_view_module_version": "1.2.0",
            "_view_name": "StyleView",
            "bar_color": null,
            "description_width": ""
          }
        },
        "be653c5506ab433398b39c21189874b5": {
          "model_module": "@jupyter-widgets/base",
          "model_module_version": "1.2.0",
          "model_name": "LayoutModel",
          "state": {
            "_model_module": "@jupyter-widgets/base",
            "_model_module_version": "1.2.0",
            "_model_name": "LayoutModel",
            "_view_count": null,
            "_view_module": "@jupyter-widgets/base",
            "_view_module_version": "1.2.0",
            "_view_name": "LayoutView",
            "align_content": null,
            "align_items": null,
            "align_self": null,
            "border": null,
            "bottom": null,
            "display": null,
            "flex": null,
            "flex_flow": null,
            "grid_area": null,
            "grid_auto_columns": null,
            "grid_auto_flow": null,
            "grid_auto_rows": null,
            "grid_column": null,
            "grid_gap": null,
            "grid_row": null,
            "grid_template_areas": null,
            "grid_template_columns": null,
            "grid_template_rows": null,
            "height": null,
            "justify_content": null,
            "justify_items": null,
            "left": null,
            "margin": null,
            "max_height": null,
            "max_width": null,
            "min_height": null,
            "min_width": null,
            "object_fit": null,
            "object_position": null,
            "order": null,
            "overflow": null,
            "overflow_x": null,
            "overflow_y": null,
            "padding": null,
            "right": null,
            "top": null,
            "visibility": null,
            "width": null
          }
        },
        "c12593c5c5a9489a9081b7ce104a0b92": {
          "model_module": "@jupyter-widgets/controls",
          "model_module_version": "1.5.0",
          "model_name": "DescriptionStyleModel",
          "state": {
            "_model_module": "@jupyter-widgets/controls",
            "_model_module_version": "1.5.0",
            "_model_name": "DescriptionStyleModel",
            "_view_count": null,
            "_view_module": "@jupyter-widgets/base",
            "_view_module_version": "1.2.0",
            "_view_name": "StyleView",
            "description_width": ""
          }
        },
        "c256ddcaf0b54f36adf62437005eea46": {
          "model_module": "@jupyter-widgets/controls",
          "model_module_version": "1.5.0",
          "model_name": "HTMLModel",
          "state": {
            "_dom_classes": [],
            "_model_module": "@jupyter-widgets/controls",
            "_model_module_version": "1.5.0",
            "_model_name": "HTMLModel",
            "_view_count": null,
            "_view_module": "@jupyter-widgets/controls",
            "_view_module_version": "1.5.0",
            "_view_name": "HTMLView",
            "description": "",
            "description_tooltip": null,
            "layout": "IPY_MODEL_eae89e28f2264e588ae777e92e7e6d93",
            "placeholder": "​",
            "style": "IPY_MODEL_456279464a9649468db10c39ec07a87e",
            "value": " 5213/5213 [00:00&lt;00:00, 105525.10 examples/s]"
          }
        },
        "c7db00d926a34252ad667f3c292ee652": {
          "model_module": "@jupyter-widgets/base",
          "model_module_version": "1.2.0",
          "model_name": "LayoutModel",
          "state": {
            "_model_module": "@jupyter-widgets/base",
            "_model_module_version": "1.2.0",
            "_model_name": "LayoutModel",
            "_view_count": null,
            "_view_module": "@jupyter-widgets/base",
            "_view_module_version": "1.2.0",
            "_view_name": "LayoutView",
            "align_content": null,
            "align_items": null,
            "align_self": null,
            "border": null,
            "bottom": null,
            "display": null,
            "flex": null,
            "flex_flow": null,
            "grid_area": null,
            "grid_auto_columns": null,
            "grid_auto_flow": null,
            "grid_auto_rows": null,
            "grid_column": null,
            "grid_gap": null,
            "grid_row": null,
            "grid_template_areas": null,
            "grid_template_columns": null,
            "grid_template_rows": null,
            "height": null,
            "justify_content": null,
            "justify_items": null,
            "left": null,
            "margin": null,
            "max_height": null,
            "max_width": null,
            "min_height": null,
            "min_width": null,
            "object_fit": null,
            "object_position": null,
            "order": null,
            "overflow": null,
            "overflow_x": null,
            "overflow_y": null,
            "padding": null,
            "right": null,
            "top": null,
            "visibility": null,
            "width": null
          }
        },
        "c8c2c0ee28a24d8bae673e0c4f9b4c7b": {
          "model_module": "@jupyter-widgets/controls",
          "model_module_version": "1.5.0",
          "model_name": "DescriptionStyleModel",
          "state": {
            "_model_module": "@jupyter-widgets/controls",
            "_model_module_version": "1.5.0",
            "_model_name": "DescriptionStyleModel",
            "_view_count": null,
            "_view_module": "@jupyter-widgets/base",
            "_view_module_version": "1.2.0",
            "_view_name": "StyleView",
            "description_width": ""
          }
        },
        "cbf27a818861428c9482e0a8da7680ec": {
          "model_module": "@jupyter-widgets/controls",
          "model_module_version": "1.5.0",
          "model_name": "FloatProgressModel",
          "state": {
            "_dom_classes": [],
            "_model_module": "@jupyter-widgets/controls",
            "_model_module_version": "1.5.0",
            "_model_name": "FloatProgressModel",
            "_view_count": null,
            "_view_module": "@jupyter-widgets/controls",
            "_view_module_version": "1.5.0",
            "_view_name": "ProgressView",
            "bar_style": "success",
            "description": "",
            "description_tooltip": null,
            "layout": "IPY_MODEL_67321dd7f2a44cd685429ab69258af5a",
            "max": 5213,
            "min": 0,
            "orientation": "horizontal",
            "style": "IPY_MODEL_40a007879fb049d28fafd0517f1f8b43",
            "value": 5213
          }
        },
        "cd579ccc54424fb692fe73c7864b8dfb": {
          "model_module": "@jupyter-widgets/controls",
          "model_module_version": "1.5.0",
          "model_name": "HTMLModel",
          "state": {
            "_dom_classes": [],
            "_model_module": "@jupyter-widgets/controls",
            "_model_module_version": "1.5.0",
            "_model_name": "HTMLModel",
            "_view_count": null,
            "_view_module": "@jupyter-widgets/controls",
            "_view_module_version": "1.5.0",
            "_view_name": "HTMLView",
            "description": "",
            "description_tooltip": null,
            "layout": "IPY_MODEL_2246fc53191a46af91f6dc61592e90e2",
            "placeholder": "​",
            "style": "IPY_MODEL_983963a128fe42479abc574a0dc4846c",
            "value": "Filter: 100%"
          }
        },
        "cf412438a9b94987898e331e5703b36b": {
          "model_module": "@jupyter-widgets/base",
          "model_module_version": "1.2.0",
          "model_name": "LayoutModel",
          "state": {
            "_model_module": "@jupyter-widgets/base",
            "_model_module_version": "1.2.0",
            "_model_name": "LayoutModel",
            "_view_count": null,
            "_view_module": "@jupyter-widgets/base",
            "_view_module_version": "1.2.0",
            "_view_name": "LayoutView",
            "align_content": null,
            "align_items": null,
            "align_self": null,
            "border": null,
            "bottom": null,
            "display": null,
            "flex": null,
            "flex_flow": null,
            "grid_area": null,
            "grid_auto_columns": null,
            "grid_auto_flow": null,
            "grid_auto_rows": null,
            "grid_column": null,
            "grid_gap": null,
            "grid_row": null,
            "grid_template_areas": null,
            "grid_template_columns": null,
            "grid_template_rows": null,
            "height": null,
            "justify_content": null,
            "justify_items": null,
            "left": null,
            "margin": null,
            "max_height": null,
            "max_width": null,
            "min_height": null,
            "min_width": null,
            "object_fit": null,
            "object_position": null,
            "order": null,
            "overflow": null,
            "overflow_x": null,
            "overflow_y": null,
            "padding": null,
            "right": null,
            "top": null,
            "visibility": null,
            "width": null
          }
        },
        "d010da76684a44308210654db90becce": {
          "model_module": "@jupyter-widgets/base",
          "model_module_version": "1.2.0",
          "model_name": "LayoutModel",
          "state": {
            "_model_module": "@jupyter-widgets/base",
            "_model_module_version": "1.2.0",
            "_model_name": "LayoutModel",
            "_view_count": null,
            "_view_module": "@jupyter-widgets/base",
            "_view_module_version": "1.2.0",
            "_view_name": "LayoutView",
            "align_content": null,
            "align_items": null,
            "align_self": null,
            "border": null,
            "bottom": null,
            "display": null,
            "flex": null,
            "flex_flow": null,
            "grid_area": null,
            "grid_auto_columns": null,
            "grid_auto_flow": null,
            "grid_auto_rows": null,
            "grid_column": null,
            "grid_gap": null,
            "grid_row": null,
            "grid_template_areas": null,
            "grid_template_columns": null,
            "grid_template_rows": null,
            "height": null,
            "justify_content": null,
            "justify_items": null,
            "left": null,
            "margin": null,
            "max_height": null,
            "max_width": null,
            "min_height": null,
            "min_width": null,
            "object_fit": null,
            "object_position": null,
            "order": null,
            "overflow": null,
            "overflow_x": null,
            "overflow_y": null,
            "padding": null,
            "right": null,
            "top": null,
            "visibility": null,
            "width": null
          }
        },
        "d0fb2bfc58464fd9869260a3e95966d5": {
          "model_module": "@jupyter-widgets/base",
          "model_module_version": "1.2.0",
          "model_name": "LayoutModel",
          "state": {
            "_model_module": "@jupyter-widgets/base",
            "_model_module_version": "1.2.0",
            "_model_name": "LayoutModel",
            "_view_count": null,
            "_view_module": "@jupyter-widgets/base",
            "_view_module_version": "1.2.0",
            "_view_name": "LayoutView",
            "align_content": null,
            "align_items": null,
            "align_self": null,
            "border": null,
            "bottom": null,
            "display": null,
            "flex": null,
            "flex_flow": null,
            "grid_area": null,
            "grid_auto_columns": null,
            "grid_auto_flow": null,
            "grid_auto_rows": null,
            "grid_column": null,
            "grid_gap": null,
            "grid_row": null,
            "grid_template_areas": null,
            "grid_template_columns": null,
            "grid_template_rows": null,
            "height": null,
            "justify_content": null,
            "justify_items": null,
            "left": null,
            "margin": null,
            "max_height": null,
            "max_width": null,
            "min_height": null,
            "min_width": null,
            "object_fit": null,
            "object_position": null,
            "order": null,
            "overflow": null,
            "overflow_x": null,
            "overflow_y": null,
            "padding": null,
            "right": null,
            "top": null,
            "visibility": null,
            "width": null
          }
        },
        "d10461bfbe2e49b0b00552c134c3cf41": {
          "model_module": "@jupyter-widgets/base",
          "model_module_version": "1.2.0",
          "model_name": "LayoutModel",
          "state": {
            "_model_module": "@jupyter-widgets/base",
            "_model_module_version": "1.2.0",
            "_model_name": "LayoutModel",
            "_view_count": null,
            "_view_module": "@jupyter-widgets/base",
            "_view_module_version": "1.2.0",
            "_view_name": "LayoutView",
            "align_content": null,
            "align_items": null,
            "align_self": null,
            "border": null,
            "bottom": null,
            "display": null,
            "flex": null,
            "flex_flow": null,
            "grid_area": null,
            "grid_auto_columns": null,
            "grid_auto_flow": null,
            "grid_auto_rows": null,
            "grid_column": null,
            "grid_gap": null,
            "grid_row": null,
            "grid_template_areas": null,
            "grid_template_columns": null,
            "grid_template_rows": null,
            "height": null,
            "justify_content": null,
            "justify_items": null,
            "left": null,
            "margin": null,
            "max_height": null,
            "max_width": null,
            "min_height": null,
            "min_width": null,
            "object_fit": null,
            "object_position": null,
            "order": null,
            "overflow": null,
            "overflow_x": null,
            "overflow_y": null,
            "padding": null,
            "right": null,
            "top": null,
            "visibility": null,
            "width": null
          }
        },
        "d20d20c436cf4a4f9a46b712f5636afb": {
          "model_module": "@jupyter-widgets/controls",
          "model_module_version": "1.5.0",
          "model_name": "ProgressStyleModel",
          "state": {
            "_model_module": "@jupyter-widgets/controls",
            "_model_module_version": "1.5.0",
            "_model_name": "ProgressStyleModel",
            "_view_count": null,
            "_view_module": "@jupyter-widgets/base",
            "_view_module_version": "1.2.0",
            "_view_name": "StyleView",
            "bar_color": null,
            "description_width": ""
          }
        },
        "d4d6ab71aba64394a4b74a2a95b4d458": {
          "model_module": "@jupyter-widgets/base",
          "model_module_version": "1.2.0",
          "model_name": "LayoutModel",
          "state": {
            "_model_module": "@jupyter-widgets/base",
            "_model_module_version": "1.2.0",
            "_model_name": "LayoutModel",
            "_view_count": null,
            "_view_module": "@jupyter-widgets/base",
            "_view_module_version": "1.2.0",
            "_view_name": "LayoutView",
            "align_content": null,
            "align_items": null,
            "align_self": null,
            "border": null,
            "bottom": null,
            "display": null,
            "flex": null,
            "flex_flow": null,
            "grid_area": null,
            "grid_auto_columns": null,
            "grid_auto_flow": null,
            "grid_auto_rows": null,
            "grid_column": null,
            "grid_gap": null,
            "grid_row": null,
            "grid_template_areas": null,
            "grid_template_columns": null,
            "grid_template_rows": null,
            "height": null,
            "justify_content": null,
            "justify_items": null,
            "left": null,
            "margin": null,
            "max_height": null,
            "max_width": null,
            "min_height": null,
            "min_width": null,
            "object_fit": null,
            "object_position": null,
            "order": null,
            "overflow": null,
            "overflow_x": null,
            "overflow_y": null,
            "padding": null,
            "right": null,
            "top": null,
            "visibility": null,
            "width": null
          }
        },
        "d5304180b0d7419bb682549122fb4497": {
          "model_module": "@jupyter-widgets/base",
          "model_module_version": "1.2.0",
          "model_name": "LayoutModel",
          "state": {
            "_model_module": "@jupyter-widgets/base",
            "_model_module_version": "1.2.0",
            "_model_name": "LayoutModel",
            "_view_count": null,
            "_view_module": "@jupyter-widgets/base",
            "_view_module_version": "1.2.0",
            "_view_name": "LayoutView",
            "align_content": null,
            "align_items": null,
            "align_self": null,
            "border": null,
            "bottom": null,
            "display": null,
            "flex": null,
            "flex_flow": null,
            "grid_area": null,
            "grid_auto_columns": null,
            "grid_auto_flow": null,
            "grid_auto_rows": null,
            "grid_column": null,
            "grid_gap": null,
            "grid_row": null,
            "grid_template_areas": null,
            "grid_template_columns": null,
            "grid_template_rows": null,
            "height": null,
            "justify_content": null,
            "justify_items": null,
            "left": null,
            "margin": null,
            "max_height": null,
            "max_width": null,
            "min_height": null,
            "min_width": null,
            "object_fit": null,
            "object_position": null,
            "order": null,
            "overflow": null,
            "overflow_x": null,
            "overflow_y": null,
            "padding": null,
            "right": null,
            "top": null,
            "visibility": null,
            "width": null
          }
        },
        "d5724a201c21466aafeb6fb5f1c6abb5": {
          "model_module": "@jupyter-widgets/base",
          "model_module_version": "1.2.0",
          "model_name": "LayoutModel",
          "state": {
            "_model_module": "@jupyter-widgets/base",
            "_model_module_version": "1.2.0",
            "_model_name": "LayoutModel",
            "_view_count": null,
            "_view_module": "@jupyter-widgets/base",
            "_view_module_version": "1.2.0",
            "_view_name": "LayoutView",
            "align_content": null,
            "align_items": null,
            "align_self": null,
            "border": null,
            "bottom": null,
            "display": null,
            "flex": null,
            "flex_flow": null,
            "grid_area": null,
            "grid_auto_columns": null,
            "grid_auto_flow": null,
            "grid_auto_rows": null,
            "grid_column": null,
            "grid_gap": null,
            "grid_row": null,
            "grid_template_areas": null,
            "grid_template_columns": null,
            "grid_template_rows": null,
            "height": null,
            "justify_content": null,
            "justify_items": null,
            "left": null,
            "margin": null,
            "max_height": null,
            "max_width": null,
            "min_height": null,
            "min_width": null,
            "object_fit": null,
            "object_position": null,
            "order": null,
            "overflow": null,
            "overflow_x": null,
            "overflow_y": null,
            "padding": null,
            "right": null,
            "top": null,
            "visibility": null,
            "width": null
          }
        },
        "d6d411248c6748cf944ccf177c04babe": {
          "model_module": "@jupyter-widgets/controls",
          "model_module_version": "1.5.0",
          "model_name": "ProgressStyleModel",
          "state": {
            "_model_module": "@jupyter-widgets/controls",
            "_model_module_version": "1.5.0",
            "_model_name": "ProgressStyleModel",
            "_view_count": null,
            "_view_module": "@jupyter-widgets/base",
            "_view_module_version": "1.2.0",
            "_view_name": "StyleView",
            "bar_color": null,
            "description_width": ""
          }
        },
        "d7726769ca684b23a05fa2246ae7b78f": {
          "model_module": "@jupyter-widgets/controls",
          "model_module_version": "1.5.0",
          "model_name": "HTMLModel",
          "state": {
            "_dom_classes": [],
            "_model_module": "@jupyter-widgets/controls",
            "_model_module_version": "1.5.0",
            "_model_name": "HTMLModel",
            "_view_count": null,
            "_view_module": "@jupyter-widgets/controls",
            "_view_module_version": "1.5.0",
            "_view_name": "HTMLView",
            "description": "",
            "description_tooltip": null,
            "layout": "IPY_MODEL_58f33f56c0cb421aacaf57975ff210f6",
            "placeholder": "​",
            "style": "IPY_MODEL_f30f74d5073b4cb28d2e9ec96598a371",
            "value": " 5213/5213 [00:01&lt;00:00, 2867.52 examples/s]"
          }
        },
        "d8bdfce02531448ea16e1eb4ac59f213": {
          "model_module": "@jupyter-widgets/controls",
          "model_module_version": "1.5.0",
          "model_name": "FloatProgressModel",
          "state": {
            "_dom_classes": [],
            "_model_module": "@jupyter-widgets/controls",
            "_model_module_version": "1.5.0",
            "_model_name": "FloatProgressModel",
            "_view_count": null,
            "_view_module": "@jupyter-widgets/controls",
            "_view_module_version": "1.5.0",
            "_view_name": "ProgressView",
            "bar_style": "success",
            "description": "",
            "description_tooltip": null,
            "layout": "IPY_MODEL_a19e76df7a2d472f905f05cb24c7dc26",
            "max": 5213,
            "min": 0,
            "orientation": "horizontal",
            "style": "IPY_MODEL_34b7590aa0b04c408f77607135422c18",
            "value": 5213
          }
        },
        "dc018f8403c54e81888f775a4e379204": {
          "model_module": "@jupyter-widgets/controls",
          "model_module_version": "1.5.0",
          "model_name": "FloatProgressModel",
          "state": {
            "_dom_classes": [],
            "_model_module": "@jupyter-widgets/controls",
            "_model_module_version": "1.5.0",
            "_model_name": "FloatProgressModel",
            "_view_count": null,
            "_view_module": "@jupyter-widgets/controls",
            "_view_module_version": "1.5.0",
            "_view_name": "ProgressView",
            "bar_style": "success",
            "description": "",
            "description_tooltip": null,
            "layout": "IPY_MODEL_e1c203143eb74e4bad52a977755d98ed",
            "max": 5213,
            "min": 0,
            "orientation": "horizontal",
            "style": "IPY_MODEL_92169ae0f3724dbcab4ac5d81a803244",
            "value": 5213
          }
        },
        "de78f346485948ebbcdfd3a559ac36c9": {
          "model_module": "@jupyter-widgets/base",
          "model_module_version": "1.2.0",
          "model_name": "LayoutModel",
          "state": {
            "_model_module": "@jupyter-widgets/base",
            "_model_module_version": "1.2.0",
            "_model_name": "LayoutModel",
            "_view_count": null,
            "_view_module": "@jupyter-widgets/base",
            "_view_module_version": "1.2.0",
            "_view_name": "LayoutView",
            "align_content": null,
            "align_items": null,
            "align_self": null,
            "border": null,
            "bottom": null,
            "display": null,
            "flex": null,
            "flex_flow": null,
            "grid_area": null,
            "grid_auto_columns": null,
            "grid_auto_flow": null,
            "grid_auto_rows": null,
            "grid_column": null,
            "grid_gap": null,
            "grid_row": null,
            "grid_template_areas": null,
            "grid_template_columns": null,
            "grid_template_rows": null,
            "height": null,
            "justify_content": null,
            "justify_items": null,
            "left": null,
            "margin": null,
            "max_height": null,
            "max_width": null,
            "min_height": null,
            "min_width": null,
            "object_fit": null,
            "object_position": null,
            "order": null,
            "overflow": null,
            "overflow_x": null,
            "overflow_y": null,
            "padding": null,
            "right": null,
            "top": null,
            "visibility": null,
            "width": null
          }
        },
        "deece1d971bb4c9ba8bfea49bda9cb04": {
          "model_module": "@jupyter-widgets/controls",
          "model_module_version": "1.5.0",
          "model_name": "ProgressStyleModel",
          "state": {
            "_model_module": "@jupyter-widgets/controls",
            "_model_module_version": "1.5.0",
            "_model_name": "ProgressStyleModel",
            "_view_count": null,
            "_view_module": "@jupyter-widgets/base",
            "_view_module_version": "1.2.0",
            "_view_name": "StyleView",
            "bar_color": null,
            "description_width": ""
          }
        },
        "e0190ecc089b439a839762d2be7db8f4": {
          "model_module": "@jupyter-widgets/base",
          "model_module_version": "1.2.0",
          "model_name": "LayoutModel",
          "state": {
            "_model_module": "@jupyter-widgets/base",
            "_model_module_version": "1.2.0",
            "_model_name": "LayoutModel",
            "_view_count": null,
            "_view_module": "@jupyter-widgets/base",
            "_view_module_version": "1.2.0",
            "_view_name": "LayoutView",
            "align_content": null,
            "align_items": null,
            "align_self": null,
            "border": null,
            "bottom": null,
            "display": null,
            "flex": null,
            "flex_flow": null,
            "grid_area": null,
            "grid_auto_columns": null,
            "grid_auto_flow": null,
            "grid_auto_rows": null,
            "grid_column": null,
            "grid_gap": null,
            "grid_row": null,
            "grid_template_areas": null,
            "grid_template_columns": null,
            "grid_template_rows": null,
            "height": null,
            "justify_content": null,
            "justify_items": null,
            "left": null,
            "margin": null,
            "max_height": null,
            "max_width": null,
            "min_height": null,
            "min_width": null,
            "object_fit": null,
            "object_position": null,
            "order": null,
            "overflow": null,
            "overflow_x": null,
            "overflow_y": null,
            "padding": null,
            "right": null,
            "top": null,
            "visibility": null,
            "width": null
          }
        },
        "e0363f9075e0473e9e126579b2f7a920": {
          "model_module": "@jupyter-widgets/controls",
          "model_module_version": "1.5.0",
          "model_name": "HTMLModel",
          "state": {
            "_dom_classes": [],
            "_model_module": "@jupyter-widgets/controls",
            "_model_module_version": "1.5.0",
            "_model_name": "HTMLModel",
            "_view_count": null,
            "_view_module": "@jupyter-widgets/controls",
            "_view_module_version": "1.5.0",
            "_view_name": "HTMLView",
            "description": "",
            "description_tooltip": null,
            "layout": "IPY_MODEL_f948e189ba2b4525ae42402eb3da53be",
            "placeholder": "​",
            "style": "IPY_MODEL_01c61c0a99a940c79d356b1090a3723a",
            "value": "Map: 100%"
          }
        },
        "e0b68bdfcc4645a387de0993ab1b7dd1": {
          "model_module": "@jupyter-widgets/controls",
          "model_module_version": "1.5.0",
          "model_name": "HBoxModel",
          "state": {
            "_dom_classes": [],
            "_model_module": "@jupyter-widgets/controls",
            "_model_module_version": "1.5.0",
            "_model_name": "HBoxModel",
            "_view_count": null,
            "_view_module": "@jupyter-widgets/controls",
            "_view_module_version": "1.5.0",
            "_view_name": "HBoxView",
            "box_style": "",
            "children": [
              "IPY_MODEL_923626776d964ed1abba5134bd4af9f4",
              "IPY_MODEL_dc018f8403c54e81888f775a4e379204",
              "IPY_MODEL_d7726769ca684b23a05fa2246ae7b78f"
            ],
            "layout": "IPY_MODEL_cf412438a9b94987898e331e5703b36b"
          }
        },
        "e1c203143eb74e4bad52a977755d98ed": {
          "model_module": "@jupyter-widgets/base",
          "model_module_version": "1.2.0",
          "model_name": "LayoutModel",
          "state": {
            "_model_module": "@jupyter-widgets/base",
            "_model_module_version": "1.2.0",
            "_model_name": "LayoutModel",
            "_view_count": null,
            "_view_module": "@jupyter-widgets/base",
            "_view_module_version": "1.2.0",
            "_view_name": "LayoutView",
            "align_content": null,
            "align_items": null,
            "align_self": null,
            "border": null,
            "bottom": null,
            "display": null,
            "flex": null,
            "flex_flow": null,
            "grid_area": null,
            "grid_auto_columns": null,
            "grid_auto_flow": null,
            "grid_auto_rows": null,
            "grid_column": null,
            "grid_gap": null,
            "grid_row": null,
            "grid_template_areas": null,
            "grid_template_columns": null,
            "grid_template_rows": null,
            "height": null,
            "justify_content": null,
            "justify_items": null,
            "left": null,
            "margin": null,
            "max_height": null,
            "max_width": null,
            "min_height": null,
            "min_width": null,
            "object_fit": null,
            "object_position": null,
            "order": null,
            "overflow": null,
            "overflow_x": null,
            "overflow_y": null,
            "padding": null,
            "right": null,
            "top": null,
            "visibility": null,
            "width": null
          }
        },
        "e93436cb44ea41529e0eebb42b2e5d86": {
          "model_module": "@jupyter-widgets/controls",
          "model_module_version": "1.5.0",
          "model_name": "HBoxModel",
          "state": {
            "_dom_classes": [],
            "_model_module": "@jupyter-widgets/controls",
            "_model_module_version": "1.5.0",
            "_model_name": "HBoxModel",
            "_view_count": null,
            "_view_module": "@jupyter-widgets/controls",
            "_view_module_version": "1.5.0",
            "_view_name": "HBoxView",
            "box_style": "",
            "children": [
              "IPY_MODEL_826a8f0f35344cf99dfa6e7a15d2568c",
              "IPY_MODEL_bcc4cc4815a940469329a87bff3a4435",
              "IPY_MODEL_7ce17563b0c649278de4f51b19897c43"
            ],
            "layout": "IPY_MODEL_01d50ad185fa4be0aaec78c0fdda2022"
          }
        },
        "eae89e28f2264e588ae777e92e7e6d93": {
          "model_module": "@jupyter-widgets/base",
          "model_module_version": "1.2.0",
          "model_name": "LayoutModel",
          "state": {
            "_model_module": "@jupyter-widgets/base",
            "_model_module_version": "1.2.0",
            "_model_name": "LayoutModel",
            "_view_count": null,
            "_view_module": "@jupyter-widgets/base",
            "_view_module_version": "1.2.0",
            "_view_name": "LayoutView",
            "align_content": null,
            "align_items": null,
            "align_self": null,
            "border": null,
            "bottom": null,
            "display": null,
            "flex": null,
            "flex_flow": null,
            "grid_area": null,
            "grid_auto_columns": null,
            "grid_auto_flow": null,
            "grid_auto_rows": null,
            "grid_column": null,
            "grid_gap": null,
            "grid_row": null,
            "grid_template_areas": null,
            "grid_template_columns": null,
            "grid_template_rows": null,
            "height": null,
            "justify_content": null,
            "justify_items": null,
            "left": null,
            "margin": null,
            "max_height": null,
            "max_width": null,
            "min_height": null,
            "min_width": null,
            "object_fit": null,
            "object_position": null,
            "order": null,
            "overflow": null,
            "overflow_x": null,
            "overflow_y": null,
            "padding": null,
            "right": null,
            "top": null,
            "visibility": null,
            "width": null
          }
        },
        "eb6c12f4291546c58bbbb63964ee36f1": {
          "model_module": "@jupyter-widgets/controls",
          "model_module_version": "1.5.0",
          "model_name": "HBoxModel",
          "state": {
            "_dom_classes": [],
            "_model_module": "@jupyter-widgets/controls",
            "_model_module_version": "1.5.0",
            "_model_name": "HBoxModel",
            "_view_count": null,
            "_view_module": "@jupyter-widgets/controls",
            "_view_module_version": "1.5.0",
            "_view_name": "HBoxView",
            "box_style": "",
            "children": [
              "IPY_MODEL_86cf8dc0eea64aa0b2df2cfc1c0f2c0e",
              "IPY_MODEL_463a8a26e33f4031b93fe6195bc39041",
              "IPY_MODEL_c256ddcaf0b54f36adf62437005eea46"
            ],
            "layout": "IPY_MODEL_74f621213cd845d69a440a9e46819045"
          }
        },
        "ef00e9b35d9c4a489a6d00fadb423861": {
          "model_module": "@jupyter-widgets/base",
          "model_module_version": "1.2.0",
          "model_name": "LayoutModel",
          "state": {
            "_model_module": "@jupyter-widgets/base",
            "_model_module_version": "1.2.0",
            "_model_name": "LayoutModel",
            "_view_count": null,
            "_view_module": "@jupyter-widgets/base",
            "_view_module_version": "1.2.0",
            "_view_name": "LayoutView",
            "align_content": null,
            "align_items": null,
            "align_self": null,
            "border": null,
            "bottom": null,
            "display": null,
            "flex": null,
            "flex_flow": null,
            "grid_area": null,
            "grid_auto_columns": null,
            "grid_auto_flow": null,
            "grid_auto_rows": null,
            "grid_column": null,
            "grid_gap": null,
            "grid_row": null,
            "grid_template_areas": null,
            "grid_template_columns": null,
            "grid_template_rows": null,
            "height": null,
            "justify_content": null,
            "justify_items": null,
            "left": null,
            "margin": null,
            "max_height": null,
            "max_width": null,
            "min_height": null,
            "min_width": null,
            "object_fit": null,
            "object_position": null,
            "order": null,
            "overflow": null,
            "overflow_x": null,
            "overflow_y": null,
            "padding": null,
            "right": null,
            "top": null,
            "visibility": null,
            "width": null
          }
        },
        "f2b6104ee78e4eb5805af87fbbddb201": {
          "model_module": "@jupyter-widgets/controls",
          "model_module_version": "1.5.0",
          "model_name": "DescriptionStyleModel",
          "state": {
            "_model_module": "@jupyter-widgets/controls",
            "_model_module_version": "1.5.0",
            "_model_name": "DescriptionStyleModel",
            "_view_count": null,
            "_view_module": "@jupyter-widgets/base",
            "_view_module_version": "1.2.0",
            "_view_name": "StyleView",
            "description_width": ""
          }
        },
        "f2e80e07b6f6458f8f8121c8ae0167ff": {
          "model_module": "@jupyter-widgets/base",
          "model_module_version": "1.2.0",
          "model_name": "LayoutModel",
          "state": {
            "_model_module": "@jupyter-widgets/base",
            "_model_module_version": "1.2.0",
            "_model_name": "LayoutModel",
            "_view_count": null,
            "_view_module": "@jupyter-widgets/base",
            "_view_module_version": "1.2.0",
            "_view_name": "LayoutView",
            "align_content": null,
            "align_items": null,
            "align_self": null,
            "border": null,
            "bottom": null,
            "display": null,
            "flex": null,
            "flex_flow": null,
            "grid_area": null,
            "grid_auto_columns": null,
            "grid_auto_flow": null,
            "grid_auto_rows": null,
            "grid_column": null,
            "grid_gap": null,
            "grid_row": null,
            "grid_template_areas": null,
            "grid_template_columns": null,
            "grid_template_rows": null,
            "height": null,
            "justify_content": null,
            "justify_items": null,
            "left": null,
            "margin": null,
            "max_height": null,
            "max_width": null,
            "min_height": null,
            "min_width": null,
            "object_fit": null,
            "object_position": null,
            "order": null,
            "overflow": null,
            "overflow_x": null,
            "overflow_y": null,
            "padding": null,
            "right": null,
            "top": null,
            "visibility": null,
            "width": null
          }
        },
        "f30f74d5073b4cb28d2e9ec96598a371": {
          "model_module": "@jupyter-widgets/controls",
          "model_module_version": "1.5.0",
          "model_name": "DescriptionStyleModel",
          "state": {
            "_model_module": "@jupyter-widgets/controls",
            "_model_module_version": "1.5.0",
            "_model_name": "DescriptionStyleModel",
            "_view_count": null,
            "_view_module": "@jupyter-widgets/base",
            "_view_module_version": "1.2.0",
            "_view_name": "StyleView",
            "description_width": ""
          }
        },
        "f85d06c0bcbf44d7ae22c9ca7b4cb6a0": {
          "model_module": "@jupyter-widgets/base",
          "model_module_version": "1.2.0",
          "model_name": "LayoutModel",
          "state": {
            "_model_module": "@jupyter-widgets/base",
            "_model_module_version": "1.2.0",
            "_model_name": "LayoutModel",
            "_view_count": null,
            "_view_module": "@jupyter-widgets/base",
            "_view_module_version": "1.2.0",
            "_view_name": "LayoutView",
            "align_content": null,
            "align_items": null,
            "align_self": null,
            "border": null,
            "bottom": null,
            "display": null,
            "flex": null,
            "flex_flow": null,
            "grid_area": null,
            "grid_auto_columns": null,
            "grid_auto_flow": null,
            "grid_auto_rows": null,
            "grid_column": null,
            "grid_gap": null,
            "grid_row": null,
            "grid_template_areas": null,
            "grid_template_columns": null,
            "grid_template_rows": null,
            "height": null,
            "justify_content": null,
            "justify_items": null,
            "left": null,
            "margin": null,
            "max_height": null,
            "max_width": null,
            "min_height": null,
            "min_width": null,
            "object_fit": null,
            "object_position": null,
            "order": null,
            "overflow": null,
            "overflow_x": null,
            "overflow_y": null,
            "padding": null,
            "right": null,
            "top": null,
            "visibility": null,
            "width": null
          }
        },
        "f948e189ba2b4525ae42402eb3da53be": {
          "model_module": "@jupyter-widgets/base",
          "model_module_version": "1.2.0",
          "model_name": "LayoutModel",
          "state": {
            "_model_module": "@jupyter-widgets/base",
            "_model_module_version": "1.2.0",
            "_model_name": "LayoutModel",
            "_view_count": null,
            "_view_module": "@jupyter-widgets/base",
            "_view_module_version": "1.2.0",
            "_view_name": "LayoutView",
            "align_content": null,
            "align_items": null,
            "align_self": null,
            "border": null,
            "bottom": null,
            "display": null,
            "flex": null,
            "flex_flow": null,
            "grid_area": null,
            "grid_auto_columns": null,
            "grid_auto_flow": null,
            "grid_auto_rows": null,
            "grid_column": null,
            "grid_gap": null,
            "grid_row": null,
            "grid_template_areas": null,
            "grid_template_columns": null,
            "grid_template_rows": null,
            "height": null,
            "justify_content": null,
            "justify_items": null,
            "left": null,
            "margin": null,
            "max_height": null,
            "max_width": null,
            "min_height": null,
            "min_width": null,
            "object_fit": null,
            "object_position": null,
            "order": null,
            "overflow": null,
            "overflow_x": null,
            "overflow_y": null,
            "padding": null,
            "right": null,
            "top": null,
            "visibility": null,
            "width": null
          }
        },
        "fa6bf4bb3b714640bd9883abb1023a80": {
          "model_module": "@jupyter-widgets/controls",
          "model_module_version": "1.5.0",
          "model_name": "HTMLModel",
          "state": {
            "_dom_classes": [],
            "_model_module": "@jupyter-widgets/controls",
            "_model_module_version": "1.5.0",
            "_model_name": "HTMLModel",
            "_view_count": null,
            "_view_module": "@jupyter-widgets/controls",
            "_view_module_version": "1.5.0",
            "_view_name": "HTMLView",
            "description": "",
            "description_tooltip": null,
            "layout": "IPY_MODEL_9f0119ee27b64f0d8abb6ac6413b4d33",
            "placeholder": "​",
            "style": "IPY_MODEL_f2b6104ee78e4eb5805af87fbbddb201",
            "value": " 5213/5213 [01:19&lt;00:00, 105.62 examples/s]"
          }
        },
        "fc41e20fbd22444cb2ae30361a8f5469": {
          "model_module": "@jupyter-widgets/controls",
          "model_module_version": "1.5.0",
          "model_name": "FloatProgressModel",
          "state": {
            "_dom_classes": [],
            "_model_module": "@jupyter-widgets/controls",
            "_model_module_version": "1.5.0",
            "_model_name": "FloatProgressModel",
            "_view_count": null,
            "_view_module": "@jupyter-widgets/controls",
            "_view_module_version": "1.5.0",
            "_view_name": "ProgressView",
            "bar_style": "success",
            "description": "",
            "description_tooltip": null,
            "layout": "IPY_MODEL_7a31bd1220b54e37ba73305c4265558d",
            "max": 12806,
            "min": 0,
            "orientation": "horizontal",
            "style": "IPY_MODEL_b82866a33a4f48cf9885410e451f615d",
            "value": 12806
          }
        },
        "ffb53a1afd2b4d7984d9375fb05ac353": {
          "model_module": "@jupyter-widgets/controls",
          "model_module_version": "1.5.0",
          "model_name": "HBoxModel",
          "state": {
            "_dom_classes": [],
            "_model_module": "@jupyter-widgets/controls",
            "_model_module_version": "1.5.0",
            "_model_name": "HBoxModel",
            "_view_count": null,
            "_view_module": "@jupyter-widgets/controls",
            "_view_module_version": "1.5.0",
            "_view_name": "HBoxView",
            "box_style": "",
            "children": [
              "IPY_MODEL_e0363f9075e0473e9e126579b2f7a920",
              "IPY_MODEL_8b19822049d449efb2a28e661f5fcf64",
              "IPY_MODEL_23c38a0ef244450db863851f13d74311"
            ],
            "layout": "IPY_MODEL_16657fa1599b4140a1bc0b08f25d6e2f"
          }
        }
      }
    }
  },
  "nbformat": 4,
  "nbformat_minor": 0
}
